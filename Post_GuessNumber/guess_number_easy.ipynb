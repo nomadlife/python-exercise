{
 "cells": [
  {
   "cell_type": "markdown",
   "metadata": {},
   "source": [
    "# Guess Number\n"
   ]
  },
  {
   "cell_type": "code",
   "execution_count": 1,
   "metadata": {},
   "outputs": [
    {
     "name": "stdout",
     "output_type": "stream",
     "text": [
      "34\n"
     ]
    }
   ],
   "source": [
    "# 숫자 입력받기\n",
    "guess = int(input(\"숫자를 입력하세요:\"))\n",
    "# input으로 받으면, 문자열 상태이기 때문에, eval() 이나, int() 로 숫자로 바꾸어 줍니다.\n",
    "\n",
    "print(guess)"
   ]
  },
  {
   "cell_type": "code",
   "execution_count": 2,
   "metadata": {},
   "outputs": [
    {
     "name": "stdout",
     "output_type": "stream",
     "text": [
      "정답입니다\n"
     ]
    }
   ],
   "source": [
    "# 판단하기\n",
    "\n",
    "number = 35\n",
    "\n",
    "guess = int(input(\"숫자를 입력하세요:\"))\n",
    "if guess == number:\n",
    "    print(\"정답입니다\")\n",
    "else:\n",
    "    print(\"틀렸습니다\")"
   ]
  },
  {
   "cell_type": "code",
   "execution_count": 3,
   "metadata": {},
   "outputs": [
    {
     "name": "stdout",
     "output_type": "stream",
     "text": [
      "틀렸습니다\n",
      "틀렸습니다\n",
      "틀렸습니다\n",
      "정답입니다\n"
     ]
    }
   ],
   "source": [
    "# 반복하기\n",
    "\n",
    "number = 35\n",
    "\n",
    "while True:\n",
    "    guess = int(input(\"숫자를 입력하세요:\"))\n",
    "    if guess == number:\n",
    "        print(\"정답입니다\")\n",
    "        break\n",
    "    else:\n",
    "        print(\"틀렸습니다\")"
   ]
  },
  {
   "cell_type": "code",
   "execution_count": 4,
   "metadata": {},
   "outputs": [
    {
     "name": "stdout",
     "output_type": "stream",
     "text": [
      "더 큰 수를 입력하세요\n",
      "더 작은 수를 입력하세요\n",
      "더 작은 수를 입력하세요\n",
      "정답입니다\n"
     ]
    }
   ],
   "source": [
    "# 크기 비교\n",
    "\n",
    "number = 35\n",
    "\n",
    "while True:\n",
    "    guess = int(input(\"숫자를 입력하세요:\"))\n",
    "    if guess == number:\n",
    "        print(\"정답입니다\")\n",
    "        break\n",
    "    elif guess > number:\n",
    "        print(\"더 작은 수를 입력하세요\")\n",
    "    else:\n",
    "        print(\"더 큰 수를 입력하세요\")"
   ]
  },
  {
   "cell_type": "code",
   "execution_count": 6,
   "metadata": {},
   "outputs": [
    {
     "name": "stdout",
     "output_type": "stream",
     "text": [
      "더 큰 수를 입력하세요\n",
      "더 작은 수를 입력하세요\n",
      "더 작은 수를 입력하세요\n",
      "더 작은 수를 입력하세요\n",
      "더 작은 수를 입력하세요\n",
      "더 작은 수를 입력하세요\n",
      "더 큰 수를 입력하세요\n",
      "더 큰 수를 입력하세요\n",
      "더 작은 수를 입력하세요\n",
      "정답입니다\n"
     ]
    }
   ],
   "source": [
    "#정답 Random 으로 생성하기\n",
    "\n",
    "import random\n",
    "number = random.randint(1,999)\n",
    "\n",
    "while True:\n",
    "    guess = int(input(\"숫자를 입력하세요:\"))\n",
    "    if guess == number:\n",
    "        print(\"정답입니다\")\n",
    "        break\n",
    "    elif guess > number:\n",
    "        print(\"더 작은 수를 입력하세요\")\n",
    "    else:\n",
    "        print(\"더 큰 수를 입력하세요\")"
   ]
  },
  {
   "cell_type": "code",
   "execution_count": null,
   "metadata": {},
   "outputs": [],
   "source": []
  }
 ],
 "metadata": {
  "kernelspec": {
   "display_name": "Python 3",
   "language": "python",
   "name": "python3"
  },
  "language_info": {
   "codemirror_mode": {
    "name": "ipython",
    "version": 3
   },
   "file_extension": ".py",
   "mimetype": "text/x-python",
   "name": "python",
   "nbconvert_exporter": "python",
   "pygments_lexer": "ipython3",
   "version": "3.6.4"
  }
 },
 "nbformat": 4,
 "nbformat_minor": 2
}

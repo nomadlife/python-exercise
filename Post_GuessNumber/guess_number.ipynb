{
 "cells": [
  {
   "cell_type": "markdown",
   "metadata": {},
   "source": [
    "# Guess Number\n"
   ]
  },
  {
   "cell_type": "code",
   "execution_count": 1,
   "metadata": {},
   "outputs": [
    {
     "name": "stdout",
     "output_type": "stream",
     "text": [
      "input number :34\n",
      "34\n"
     ]
    }
   ],
   "source": [
    "# 숫자 입력받기\n",
    "guess = eval(input(\"input number :\"))\n",
    "# input으로 받으면, 문자열 상태이기 때문에, eval() 이나, int() 로 숫자로 바꾸어 줍니다.\n",
    "\n",
    "print(guess)"
   ]
  },
  {
   "cell_type": "code",
   "execution_count": 40,
   "metadata": {},
   "outputs": [
    {
     "name": "stdout",
     "output_type": "stream",
     "text": [
      "숫자를 입력하세요 :34\n",
      "34\n"
     ]
    }
   ],
   "source": [
    "# 숫자 입력받기\n",
    "guess = input(\"숫자를 입력하세요 :\")\n",
    "# input으로 받으면, 문자열 상태이기 때문에, eval() 이나, int() 로 숫자로 바꾸어 줍니다.\n",
    "\n",
    "print(guess)"
   ]
  },
  {
   "cell_type": "code",
   "execution_count": 8,
   "metadata": {},
   "outputs": [
    {
     "name": "stdout",
     "output_type": "stream",
     "text": [
      "True\n"
     ]
    }
   ],
   "source": [
    "test1 = '23'\n",
    "test2 = '24'\n",
    "print(test1 < test2)"
   ]
  },
  {
   "cell_type": "code",
   "execution_count": 41,
   "metadata": {},
   "outputs": [
    {
     "name": "stdout",
     "output_type": "stream",
     "text": [
      "\u001b[31m\"red\"\u001b[0m\n"
     ]
    }
   ],
   "source": [
    "print(\"\\x1b[31m\\\"red\\\"\\x1b[0m\")"
   ]
  },
  {
   "cell_type": "code",
   "execution_count": 7,
   "metadata": {},
   "outputs": [
    {
     "data": {
      "text/plain": [
       "True"
      ]
     },
     "execution_count": 7,
     "metadata": {},
     "output_type": "execute_result"
    }
   ],
   "source": [
    "'a' < 'b'"
   ]
  },
  {
   "cell_type": "code",
   "execution_count": 9,
   "metadata": {},
   "outputs": [
    {
     "name": "stdout",
     "output_type": "stream",
     "text": [
      "input number :35\n",
      "That's not it\n"
     ]
    }
   ],
   "source": [
    "# 판단하기\n",
    "\n",
    "number = 35\n",
    "\n",
    "guess = eval(input(\"input number :\"))\n",
    "if guess == number:\n",
    "    print(\"You got it\")\n",
    "else:\n",
    "    print(\"That's not it\")"
   ]
  },
  {
   "cell_type": "code",
   "execution_count": 11,
   "metadata": {},
   "outputs": [
    {
     "name": "stdout",
     "output_type": "stream",
     "text": [
      "숫자를 입력하세요 :35\n",
      "틀렸습니다\n"
     ]
    }
   ],
   "source": [
    "# rewrite\n",
    "\n",
    "number = 35\n",
    "\n",
    "guess = input(\"숫자를 입력하세요 :\")\n",
    "if guess == number:\n",
    "    print(\"정답입니다\")\n",
    "else:\n",
    "    print(\"틀렸습니다\")"
   ]
  },
  {
   "cell_type": "code",
   "execution_count": 12,
   "metadata": {},
   "outputs": [
    {
     "name": "stdout",
     "output_type": "stream",
     "text": [
      "<class 'int'>\n",
      "<class 'str'>\n"
     ]
    }
   ],
   "source": [
    "print(type(number))\n",
    "print(type(guess))"
   ]
  },
  {
   "cell_type": "code",
   "execution_count": 13,
   "metadata": {},
   "outputs": [
    {
     "data": {
      "text/plain": [
       "False"
      ]
     },
     "execution_count": 13,
     "metadata": {},
     "output_type": "execute_result"
    }
   ],
   "source": [
    "1 == '1'"
   ]
  },
  {
   "cell_type": "code",
   "execution_count": 21,
   "metadata": {},
   "outputs": [
    {
     "name": "stdout",
     "output_type": "stream",
     "text": [
      "234\n"
     ]
    }
   ],
   "source": [
    "변수1 = 234\n",
    "print(변수1)"
   ]
  },
  {
   "cell_type": "code",
   "execution_count": 19,
   "metadata": {},
   "outputs": [
    {
     "data": {
      "text/plain": [
       "True"
      ]
     },
     "execution_count": 19,
     "metadata": {},
     "output_type": "execute_result"
    }
   ],
   "source": [
    "1 == 1.0"
   ]
  },
  {
   "cell_type": "code",
   "execution_count": 25,
   "metadata": {},
   "outputs": [
    {
     "name": "stdout",
     "output_type": "stream",
     "text": [
      "숫자를 입력하세요 :35\n",
      "정답입니다\n"
     ]
    }
   ],
   "source": [
    "# rewrite\n",
    "\n",
    "number = 35\n",
    "\n",
    "guess = int(input(\"숫자를 입력하세요 :\"))\n",
    "if guess == number:\n",
    "    print(\"정답입니다\")\n",
    "else:\n",
    "    print(\"틀렸습니다\")"
   ]
  },
  {
   "cell_type": "code",
   "execution_count": 1,
   "metadata": {},
   "outputs": [
    {
     "name": "stdout",
     "output_type": "stream",
     "text": [
      "input number :34\n",
      "That's not it\n",
      "input number :32\n",
      "That's not it\n",
      "input number :31\n",
      "That's not it\n",
      "input number :35\n",
      "You got it\n"
     ]
    }
   ],
   "source": [
    "# 반복하기\n",
    "\n",
    "number = 35\n",
    "found = False\n",
    "\n",
    "while not found:\n",
    "    guess = eval(input(\"input number :\"))\n",
    "    if guess == number:\n",
    "        print(\"You got it\")\n",
    "        found = True\n",
    "    else:\n",
    "        print(\"That's not it\")"
   ]
  },
  {
   "cell_type": "code",
   "execution_count": 27,
   "metadata": {},
   "outputs": [
    {
     "name": "stdout",
     "output_type": "stream",
     "text": [
      "숫자를 입력하세요 :32\n",
      "틀렸습니다\n",
      "숫자를 입력하세요 :34\n",
      "틀렸습니다\n",
      "숫자를 입력하세요 :36\n",
      "틀렸습니다\n",
      "숫자를 입력하세요 :35\n",
      "정답입니다\n"
     ]
    }
   ],
   "source": [
    "# rewrite\n",
    "\n",
    "number = 35\n",
    "\n",
    "while True:\n",
    "    guess = int(input(\"숫자를 입력하세요 :\"))\n",
    "    if guess == number:\n",
    "        print(\"정답입니다\")\n",
    "        break\n",
    "    else:\n",
    "        print(\"틀렸습니다\")\n"
   ]
  },
  {
   "cell_type": "code",
   "execution_count": 5,
   "metadata": {},
   "outputs": [
    {
     "name": "stdout",
     "output_type": "stream",
     "text": [
      "input number :34\n",
      "Guess higher!\n",
      "input number :37\n",
      "Guess lower!\n",
      "input number :35\n",
      "You got it\n"
     ]
    }
   ],
   "source": [
    "# up, down hint\n",
    "\n",
    "number = 35\n",
    "found = False\n",
    "\n",
    "while not found:\n",
    "    guess = eval(input(\"input number :\"))\n",
    "    if guess == number:\n",
    "        print(\"You got it\")\n",
    "        found = True\n",
    "    elif guess > number:\n",
    "        print(\"Guess lower!\")\n",
    "    else:\n",
    "        print(\"Guess higher!\")"
   ]
  },
  {
   "cell_type": "code",
   "execution_count": 31,
   "metadata": {},
   "outputs": [
    {
     "name": "stdout",
     "output_type": "stream",
     "text": [
      "숫자를 입력하세요 :34\n",
      "더 큰 수 입니다.\n",
      "숫자를 입력하세요 :36\n",
      "더 작은 수 입니다\n",
      "숫자를 입력하세요 :35\n",
      "정답입니다\n"
     ]
    }
   ],
   "source": [
    "# rewrite\n",
    "number = 35\n",
    "\n",
    "while True:\n",
    "    guess = int(input('숫자를 입력하세요 :'))\n",
    "    if guess == number:\n",
    "        print('정답입니다')\n",
    "        break\n",
    "    elif guess > number:\n",
    "        print('더 작은 수 입니다')\n",
    "    else:\n",
    "        print('더 큰 수 입니다.')"
   ]
  },
  {
   "cell_type": "code",
   "execution_count": 7,
   "metadata": {},
   "outputs": [
    {
     "name": "stdout",
     "output_type": "stream",
     "text": [
      "input number :500\n",
      "Guess lower!\n",
      "input number :250\n",
      "Guess higher!\n",
      "input number :375\n",
      "Guess higher!\n",
      "input number :430\n",
      "Guess higher!\n",
      "input number :475\n",
      "You got it\n"
     ]
    }
   ],
   "source": [
    "#정답 Random 으로 생성하기\n",
    "\n",
    "import random\n",
    "number = random.randint(1,999)\n",
    "found = False\n",
    "\n",
    "while not found:\n",
    "    guess = eval(input(\"input number :\"))\n",
    "    if guess == number:\n",
    "        print(\"You got it\")\n",
    "        found = True\n",
    "    elif guess > number:\n",
    "        print(\"Guess lower!\")\n",
    "    else:\n",
    "        print(\"Guess higher!\")"
   ]
  },
  {
   "cell_type": "code",
   "execution_count": 34,
   "metadata": {},
   "outputs": [
    {
     "name": "stdout",
     "output_type": "stream",
     "text": [
      "404\n",
      "숫자를 입력하세요 :403\n",
      "더 큰 수 입니다.\n",
      "숫자를 입력하세요 :405\n",
      "더 작은 수 입니다\n",
      "숫자를 입력하세요 :404\n",
      "정답입니다\n"
     ]
    }
   ],
   "source": [
    "# rewrite\n",
    "\n",
    "import random\n",
    "number = random.randint(1,999)\n",
    "print(number)\n",
    "\n",
    "while True:\n",
    "    guess = int(input('숫자를 입력하세요 :'))\n",
    "    if guess == number:\n",
    "        print('정답입니다')\n",
    "        break\n",
    "    elif guess > number:\n",
    "        print('더 작은 수 입니다')\n",
    "    else:\n",
    "        print('더 큰 수 입니다.')"
   ]
  },
  {
   "cell_type": "code",
   "execution_count": 38,
   "metadata": {},
   "outputs": [
    {
     "name": "stdout",
     "output_type": "stream",
     "text": [
      "967\n",
      "숫자를 입력하세요 :999\n",
      "1-999중의 숫자를 입력하세요\n",
      "숫자를 입력하세요 :888\n",
      "1-999중의 숫자를 입력하세요\n"
     ]
    },
    {
     "ename": "KeyboardInterrupt",
     "evalue": "",
     "output_type": "error",
     "traceback": [
      "\u001b[0;31m---------------------------------------------------------------------------\u001b[0m",
      "\u001b[0;31mKeyboardInterrupt\u001b[0m                         Traceback (most recent call last)",
      "\u001b[0;32m~/anaconda3/lib/python3.6/site-packages/ipykernel/kernelbase.py\u001b[0m in \u001b[0;36m_input_request\u001b[0;34m(self, prompt, ident, parent, password)\u001b[0m\n\u001b[1;32m    728\u001b[0m             \u001b[0;32mtry\u001b[0m\u001b[0;34m:\u001b[0m\u001b[0;34m\u001b[0m\u001b[0m\n\u001b[0;32m--> 729\u001b[0;31m                 \u001b[0mident\u001b[0m\u001b[0;34m,\u001b[0m \u001b[0mreply\u001b[0m \u001b[0;34m=\u001b[0m \u001b[0mself\u001b[0m\u001b[0;34m.\u001b[0m\u001b[0msession\u001b[0m\u001b[0;34m.\u001b[0m\u001b[0mrecv\u001b[0m\u001b[0;34m(\u001b[0m\u001b[0mself\u001b[0m\u001b[0;34m.\u001b[0m\u001b[0mstdin_socket\u001b[0m\u001b[0;34m,\u001b[0m \u001b[0;36m0\u001b[0m\u001b[0;34m)\u001b[0m\u001b[0;34m\u001b[0m\u001b[0m\n\u001b[0m\u001b[1;32m    730\u001b[0m             \u001b[0;32mexcept\u001b[0m \u001b[0mException\u001b[0m\u001b[0;34m:\u001b[0m\u001b[0;34m\u001b[0m\u001b[0m\n",
      "\u001b[0;32m~/anaconda3/lib/python3.6/site-packages/jupyter_client/session.py\u001b[0m in \u001b[0;36mrecv\u001b[0;34m(self, socket, mode, content, copy)\u001b[0m\n\u001b[1;32m    802\u001b[0m         \u001b[0;32mtry\u001b[0m\u001b[0;34m:\u001b[0m\u001b[0;34m\u001b[0m\u001b[0m\n\u001b[0;32m--> 803\u001b[0;31m             \u001b[0mmsg_list\u001b[0m \u001b[0;34m=\u001b[0m \u001b[0msocket\u001b[0m\u001b[0;34m.\u001b[0m\u001b[0mrecv_multipart\u001b[0m\u001b[0;34m(\u001b[0m\u001b[0mmode\u001b[0m\u001b[0;34m,\u001b[0m \u001b[0mcopy\u001b[0m\u001b[0;34m=\u001b[0m\u001b[0mcopy\u001b[0m\u001b[0;34m)\u001b[0m\u001b[0;34m\u001b[0m\u001b[0m\n\u001b[0m\u001b[1;32m    804\u001b[0m         \u001b[0;32mexcept\u001b[0m \u001b[0mzmq\u001b[0m\u001b[0;34m.\u001b[0m\u001b[0mZMQError\u001b[0m \u001b[0;32mas\u001b[0m \u001b[0me\u001b[0m\u001b[0;34m:\u001b[0m\u001b[0;34m\u001b[0m\u001b[0m\n",
      "\u001b[0;32m~/anaconda3/lib/python3.6/site-packages/zmq/sugar/socket.py\u001b[0m in \u001b[0;36mrecv_multipart\u001b[0;34m(self, flags, copy, track)\u001b[0m\n\u001b[1;32m    394\u001b[0m         \"\"\"\n\u001b[0;32m--> 395\u001b[0;31m         \u001b[0mparts\u001b[0m \u001b[0;34m=\u001b[0m \u001b[0;34m[\u001b[0m\u001b[0mself\u001b[0m\u001b[0;34m.\u001b[0m\u001b[0mrecv\u001b[0m\u001b[0;34m(\u001b[0m\u001b[0mflags\u001b[0m\u001b[0;34m,\u001b[0m \u001b[0mcopy\u001b[0m\u001b[0;34m=\u001b[0m\u001b[0mcopy\u001b[0m\u001b[0;34m,\u001b[0m \u001b[0mtrack\u001b[0m\u001b[0;34m=\u001b[0m\u001b[0mtrack\u001b[0m\u001b[0;34m)\u001b[0m\u001b[0;34m]\u001b[0m\u001b[0;34m\u001b[0m\u001b[0m\n\u001b[0m\u001b[1;32m    396\u001b[0m         \u001b[0;31m# have first part already, only loop while more to receive\u001b[0m\u001b[0;34m\u001b[0m\u001b[0;34m\u001b[0m\u001b[0m\n",
      "\u001b[0;32mzmq/backend/cython/socket.pyx\u001b[0m in \u001b[0;36mzmq.backend.cython.socket.Socket.recv\u001b[0;34m()\u001b[0m\n",
      "\u001b[0;32mzmq/backend/cython/socket.pyx\u001b[0m in \u001b[0;36mzmq.backend.cython.socket.Socket.recv\u001b[0;34m()\u001b[0m\n",
      "\u001b[0;32mzmq/backend/cython/socket.pyx\u001b[0m in \u001b[0;36mzmq.backend.cython.socket._recv_copy\u001b[0;34m()\u001b[0m\n",
      "\u001b[0;32m~/anaconda3/lib/python3.6/site-packages/zmq/backend/cython/checkrc.pxd\u001b[0m in \u001b[0;36mzmq.backend.cython.checkrc._check_rc\u001b[0;34m()\u001b[0m\n",
      "\u001b[0;31mKeyboardInterrupt\u001b[0m: ",
      "\nDuring handling of the above exception, another exception occurred:\n",
      "\u001b[0;31mKeyboardInterrupt\u001b[0m                         Traceback (most recent call last)",
      "\u001b[0;32m<ipython-input-38-e6972cef8588>\u001b[0m in \u001b[0;36m<module>\u001b[0;34m()\u001b[0m\n\u001b[1;32m      6\u001b[0m \u001b[0;34m\u001b[0m\u001b[0m\n\u001b[1;32m      7\u001b[0m \u001b[0;32mwhile\u001b[0m \u001b[0;32mTrue\u001b[0m\u001b[0;34m:\u001b[0m\u001b[0;34m\u001b[0m\u001b[0m\n\u001b[0;32m----> 8\u001b[0;31m     \u001b[0mguess\u001b[0m \u001b[0;34m=\u001b[0m \u001b[0minput\u001b[0m\u001b[0;34m(\u001b[0m\u001b[0;34m'숫자를 입력하세요 :'\u001b[0m\u001b[0;34m)\u001b[0m\u001b[0;34m\u001b[0m\u001b[0m\n\u001b[0m\u001b[1;32m      9\u001b[0m     \u001b[0;32mif\u001b[0m \u001b[0mguess\u001b[0m \u001b[0;32mnot\u001b[0m \u001b[0;32min\u001b[0m \u001b[0mrange\u001b[0m\u001b[0;34m(\u001b[0m\u001b[0;36m1\u001b[0m\u001b[0;34m,\u001b[0m\u001b[0;36m1000\u001b[0m\u001b[0;34m)\u001b[0m\u001b[0;34m:\u001b[0m\u001b[0;34m\u001b[0m\u001b[0m\n\u001b[1;32m     10\u001b[0m         \u001b[0mprint\u001b[0m\u001b[0;34m(\u001b[0m\u001b[0;34m'1-999중의 숫자를 입력하세요'\u001b[0m\u001b[0;34m)\u001b[0m\u001b[0;34m\u001b[0m\u001b[0m\n",
      "\u001b[0;32m~/anaconda3/lib/python3.6/site-packages/ipykernel/kernelbase.py\u001b[0m in \u001b[0;36mraw_input\u001b[0;34m(self, prompt)\u001b[0m\n\u001b[1;32m    702\u001b[0m             \u001b[0mself\u001b[0m\u001b[0;34m.\u001b[0m\u001b[0m_parent_ident\u001b[0m\u001b[0;34m,\u001b[0m\u001b[0;34m\u001b[0m\u001b[0m\n\u001b[1;32m    703\u001b[0m             \u001b[0mself\u001b[0m\u001b[0;34m.\u001b[0m\u001b[0m_parent_header\u001b[0m\u001b[0;34m,\u001b[0m\u001b[0;34m\u001b[0m\u001b[0m\n\u001b[0;32m--> 704\u001b[0;31m             \u001b[0mpassword\u001b[0m\u001b[0;34m=\u001b[0m\u001b[0;32mFalse\u001b[0m\u001b[0;34m,\u001b[0m\u001b[0;34m\u001b[0m\u001b[0m\n\u001b[0m\u001b[1;32m    705\u001b[0m         )\n\u001b[1;32m    706\u001b[0m \u001b[0;34m\u001b[0m\u001b[0m\n",
      "\u001b[0;32m~/anaconda3/lib/python3.6/site-packages/ipykernel/kernelbase.py\u001b[0m in \u001b[0;36m_input_request\u001b[0;34m(self, prompt, ident, parent, password)\u001b[0m\n\u001b[1;32m    732\u001b[0m             \u001b[0;32mexcept\u001b[0m \u001b[0mKeyboardInterrupt\u001b[0m\u001b[0;34m:\u001b[0m\u001b[0;34m\u001b[0m\u001b[0m\n\u001b[1;32m    733\u001b[0m                 \u001b[0;31m# re-raise KeyboardInterrupt, to truncate traceback\u001b[0m\u001b[0;34m\u001b[0m\u001b[0;34m\u001b[0m\u001b[0m\n\u001b[0;32m--> 734\u001b[0;31m                 \u001b[0;32mraise\u001b[0m \u001b[0mKeyboardInterrupt\u001b[0m\u001b[0;34m\u001b[0m\u001b[0m\n\u001b[0m\u001b[1;32m    735\u001b[0m             \u001b[0;32melse\u001b[0m\u001b[0;34m:\u001b[0m\u001b[0;34m\u001b[0m\u001b[0m\n\u001b[1;32m    736\u001b[0m                 \u001b[0;32mbreak\u001b[0m\u001b[0;34m\u001b[0m\u001b[0m\n",
      "\u001b[0;31mKeyboardInterrupt\u001b[0m: "
     ]
    }
   ],
   "source": [
    "# new - 잘못된 입력 처리\n",
    "\n",
    "import random\n",
    "number = random.randint(1,999)\n",
    "print(number)\n",
    "\n",
    "while True:\n",
    "    guess = input('숫자를 입력하세요 :')\n",
    "    if guess not in range(1,1000):\n",
    "        print('1-999중의 숫자를 입력하세요')\n",
    "    elif guess == number:\n",
    "        print('정답입니다')\n",
    "        break\n",
    "    elif guess > number:\n",
    "        print('더 작은 수 입니다')\n",
    "    else:\n",
    "        print('더 큰 수 입니다.')"
   ]
  },
  {
   "cell_type": "code",
   "execution_count": 39,
   "metadata": {},
   "outputs": [
    {
     "name": "stdout",
     "output_type": "stream",
     "text": [
      "627\n",
      "숫자를 입력하세요 :가나다라\n",
      "1-999중의 숫자를 입력하세요\n",
      "숫자를 입력하세요 :abcdefg\n",
      "1-999중의 숫자를 입력하세요\n",
      "숫자를 입력하세요 :628\n",
      "더 작은 수 입니다\n",
      "숫자를 입력하세요 :626\n",
      "더 큰 수 입니다.\n",
      "숫자를 입력하세요 :627\n",
      "정답입니다\n"
     ]
    }
   ],
   "source": [
    "# new 2 \n",
    "\n",
    "import random\n",
    "number = random.randint(1,999)\n",
    "print(number)\n",
    "\n",
    "while True:\n",
    "    try:\n",
    "        guess = int(input('숫자를 입력하세요 :'))\n",
    "        if guess == number:\n",
    "            print('정답입니다')\n",
    "            break\n",
    "        elif guess > number:\n",
    "            print('더 작은 수 입니다')\n",
    "        else:\n",
    "            print('더 큰 수 입니다.')\n",
    "    except:\n",
    "        print('1-999중의 숫자를 입력하세요')"
   ]
  }
 ],
 "metadata": {
  "kernelspec": {
   "display_name": "Python 3",
   "language": "python",
   "name": "python3"
  },
  "language_info": {
   "codemirror_mode": {
    "name": "ipython",
    "version": 3
   },
   "file_extension": ".py",
   "mimetype": "text/x-python",
   "name": "python",
   "nbconvert_exporter": "python",
   "pygments_lexer": "ipython3",
   "version": "3.6.4"
  }
 },
 "nbformat": 4,
 "nbformat_minor": 2
}

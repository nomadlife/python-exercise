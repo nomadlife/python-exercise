{
 "cells": [
  {
   "cell_type": "code",
   "execution_count": 38,
   "metadata": {},
   "outputs": [
    {
     "name": "stdout",
     "output_type": "stream",
     "text": [
      "(0, 8, 15, 16, 17)\n"
     ]
    }
   ],
   "source": [
    "block_data_test = {\n",
    "    1:\n",
    "    {\n",
    "        'id':1,\n",
    "        'data':(0,8,15,16,17),\n",
    "        'size':(3,3),\n",
    "        'range':(1,7)\n",
    "    },\n",
    "    2:\n",
    "    {\n",
    "        'id':2,\n",
    "        'data':(0,7,8,9,16),\n",
    "        'size':(4,4),\n",
    "        'range':(2,6)\n",
    "    }\n",
    "}\n",
    "\n",
    "# print(block_data_test)\n",
    "print(block_data_test[1]['data'])"
   ]
  },
  {
   "cell_type": "code",
   "execution_count": 17,
   "metadata": {},
   "outputs": [
    {
     "name": "stdout",
     "output_type": "stream",
     "text": [
      "Block(id=1, data=(0, 8, 15, 16, 17), size=1)\n"
     ]
    }
   ],
   "source": [
    "import collections\n",
    "Block = collections.namedtuple('Block', ['id', 'data', 'size', 'range'] )\n",
    "\n",
    "block_data = [\n",
    "            (0,8,15,16,17),\n",
    "            (0,7,8,9,16),\n",
    "            (0,8,9,16,17),\n",
    "            (0,1,8,16),\n",
    "            (0,1,8,16),\n",
    "            (0,1,9,10,11),\n",
    "            (0,1,2,3,9),\n",
    "            (0,6,7,8),\n",
    "            (0,7,8,9,17),\n",
    "            (0,8,16,24,32),\n",
    "            (0,1,9,17),\n",
    "            (0)\n",
    "            ]\n",
    "range_data = []\n",
    "blocks = [Block(id,data,size) for (id,data,size) in zip(range(1,13),block_data,range(1,13)) ]\n",
    "print(blocks[0])\n"
   ]
  },
  {
   "cell_type": "code",
   "execution_count": 14,
   "metadata": {},
   "outputs": [
    {
     "name": "stdout",
     "output_type": "stream",
     "text": [
      "xxxxxxxxxxxxxxxxxxxxxxxxxxxxxxxxxxxxxxxxxxxxxxxx\n",
      "1xxxxxx111xxxxxx1xxxxxxxxxxxxxxxxxxxxxxxxxxxxxxx\n",
      "total number of blocks :  48\n",
      "empty blocks :  43\n"
     ]
    }
   ],
   "source": [
    "shapes = ['o',\n",
    "        'xox;xox;ooo',\n",
    "        'xox;ooo;xox',\n",
    "        'oxx;oox;xoo',\n",
    "        'oo;ox;ox',\n",
    "        'ooxx;xooo',\n",
    "        'oooo;xoxx',\n",
    "        'xxo;ooo',\n",
    "        'xox;ooo;xxo',\n",
    "        'o;o;o;o;o',\n",
    "        'oo;xo;xo']\n",
    "\n",
    "import collections\n",
    "Block = collections.namedtuple('Block', ['id', 'data', 'size'] )\n",
    "\n",
    "block_data = [\n",
    "            (0,8,15,16,17),\n",
    "            (0,7,8,9,16),\n",
    "            (0,8,9,16,17),\n",
    "            (0,1,8,16),\n",
    "            (0,1,8,16),\n",
    "            (0,1,9,10,11),\n",
    "            (0,1,2,3,9),\n",
    "            (0,6,7,8),\n",
    "            (0,7,8,9,17),\n",
    "            (0,8,16,24,32),\n",
    "            (0,1,9,17),\n",
    "            (0)\n",
    "            ]\n",
    "\n",
    "blocks = [Block(id,data,size) for (id,data,size) in zip(range(1,13),block_data,range(1,13)) ]\n",
    "\n",
    "def show_list():\n",
    "    result = ''\n",
    "    for i,v in table.items():\n",
    "        result+=str(v)\n",
    "    print(result)\n",
    "\n",
    "def show_table():\n",
    "    result = ''\n",
    "    for i in range(6):\n",
    "        for j in range(1,9):\n",
    "            result+=str(table[i*8+j])\n",
    "        result+='\\n'\n",
    "    print(result)\n",
    "    \n",
    "def load_block(n, block):\n",
    "    result = True\n",
    "    for e in block:\n",
    "        if table[e+n] == 'x':\n",
    "            table[e+n]\n",
    "    table[n]\n"
   ]
  },
  {
   "cell_type": "code",
   "execution_count": 14,
   "metadata": {},
   "outputs": [
    {
     "name": "stdout",
     "output_type": "stream",
     "text": [
      "xxxxxxxxxxxxxxxxxxxxxxxxxxxxxxxxxxxxxxxxxxxxxxxx\n",
      "1xxxxxx111xxxxxx1xxxxxxxxxxxxxxxxxxxxxxxxxxxxxxx\n",
      "total number of blocks :  48\n",
      "empty blocks :  43\n"
     ]
    }
   ],
   "source": [
    "\n",
    "# print(blocks[0])\n",
    "table = {n:'x' for n in range(1,49)}\n",
    "# print(table)\n",
    "show_list()\n",
    "# show_table()\n",
    "for e in blocks[1]:\n",
    "    table[e+1] = \"1\"\n",
    "show_list()\n",
    "# show_table()\n",
    "print('total number of blocks : ',len(table))\n",
    "print('empty blocks : ',sum(value=='x' for value in table.values()))\n",
    "\n",
    "#for a in range():"
   ]
  },
  {
   "cell_type": "code",
   "execution_count": 16,
   "metadata": {
    "scrolled": true
   },
   "outputs": [
    {
     "name": "stdout",
     "output_type": "stream",
     "text": [
      "{'1': False, '2': False, '3': False, '4': False, '5': False, '6': False, '7': False, '8': False, '9': False, '10': False, '11': False, '12': False, '13': False, '14': False, '15': False, '16': False, '17': False, '18': False, '19': False, '20': False, '21': False, '22': False, '23': False, '24': False, '25': False, '26': False, '27': False, '28': False, '29': False, '30': False, '31': False, '32': False, '33': False, '34': False, '35': False, '36': False, '37': False, '38': False, '39': False, '40': False, '41': False, '42': False, '43': False, '44': False, '45': False, '46': False, '47': False, '48': False}\n"
     ]
    }
   ],
   "source": [
    "print({str(n):False for n in range(1,49)})"
   ]
  },
  {
   "cell_type": "code",
   "execution_count": null,
   "metadata": {},
   "outputs": [],
   "source": [
    "class Puzzle:\n",
    "    blocks = [(0),\n",
    "            (0,8,15,16,17),\n",
    "            (0,7,8,9,16),\n",
    "            (0,8,9,16,17),\n",
    "            (0,1,8,16),\n",
    "            (0,1,8,16),\n",
    "            (0,1,9,10,11),\n",
    "            (0,1,2,3,9),\n",
    "            (0,6,7,8),\n",
    "            (0,7,8,9,17),\n",
    "            (0,8,16,24,32),\n",
    "            (0,1,9,17)\n",
    "            ]\n",
    "    "
   ]
  },
  {
   "cell_type": "code",
   "execution_count": 23,
   "metadata": {},
   "outputs": [
    {
     "ename": "TypeError",
     "evalue": "can only concatenate list (not \"int\") to list",
     "output_type": "error",
     "traceback": [
      "\u001b[0;31m---------------------------------------------------------------------------\u001b[0m",
      "\u001b[0;31mTypeError\u001b[0m                                 Traceback (most recent call last)",
      "\u001b[0;32m<ipython-input-23-e259f035f6b7>\u001b[0m in \u001b[0;36m<module>\u001b[0;34m\u001b[0m\n\u001b[0;32m----> 1\u001b[0;31m \u001b[0;34m[\u001b[0m\u001b[0;36m1\u001b[0m\u001b[0;34m,\u001b[0m\u001b[0;36m2\u001b[0m\u001b[0;34m,\u001b[0m\u001b[0;36m3\u001b[0m\u001b[0;34m]\u001b[0m \u001b[0;34m+\u001b[0m \u001b[0;36m1\u001b[0m\u001b[0;34m\u001b[0m\u001b[0;34m\u001b[0m\u001b[0m\n\u001b[0m",
      "\u001b[0;31mTypeError\u001b[0m: can only concatenate list (not \"int\") to list"
     ]
    }
   ],
   "source": [
    "[1,2,3] + 1"
   ]
  }
 ],
 "metadata": {
  "kernelspec": {
   "display_name": "Python 3",
   "language": "python",
   "name": "python3"
  },
  "language_info": {
   "codemirror_mode": {
    "name": "ipython",
    "version": 3
   },
   "file_extension": ".py",
   "mimetype": "text/x-python",
   "name": "python",
   "nbconvert_exporter": "python",
   "pygments_lexer": "ipython3",
   "version": "3.7.3"
  }
 },
 "nbformat": 4,
 "nbformat_minor": 4
}

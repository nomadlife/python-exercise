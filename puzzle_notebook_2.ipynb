{
 "cells": [
  {
   "cell_type": "code",
   "execution_count": 38,
   "metadata": {},
   "outputs": [
    {
     "name": "stdout",
     "output_type": "stream",
     "text": [
      "(0, 8, 15, 16, 17)\n"
     ]
    }
   ],
   "source": [
    "# test - data structure\n",
    "block_data_test = {\n",
    "    1:\n",
    "    {\n",
    "        'id':1,\n",
    "        'data':(0,8,15,16,17),\n",
    "        'size':(3,3),\n",
    "        'range':(1,7)\n",
    "    },\n",
    "    2:\n",
    "    {\n",
    "        'id':2,\n",
    "        'data':(0,7,8,9,16),\n",
    "        'size':(4,4),\n",
    "        'range':(2,6)\n",
    "    }\n",
    "}\n",
    "\n",
    "# print(block_data_test)\n",
    "print(block_data_test[1]['data'])"
   ]
  },
  {
   "cell_type": "code",
   "execution_count": 1,
   "metadata": {},
   "outputs": [
    {
     "name": "stdout",
     "output_type": "stream",
     "text": [
      "Block(id=1, data=(0, 8, 15, 16, 17), size=5)\n"
     ]
    }
   ],
   "source": [
    "# test - data structure 2\n",
    "import collections\n",
    "Block = collections.namedtuple('Block', ['id', 'data', 'size'] )\n",
    "\n",
    "block_data = [\n",
    "            (0,8,15,16,17),\n",
    "            (0,7,8,9,16),\n",
    "            (0,8,9,16,17),\n",
    "            (0,1,8,16),\n",
    "            (0,1,8,16),\n",
    "            (0,1,9,10,11),\n",
    "            (0,1,2,3,9),\n",
    "            (0,6,7,8),\n",
    "            (0,7,8,9,17),\n",
    "            (0,8,16,24,32),\n",
    "            (0,1,9,17),\n",
    "            (0,)\n",
    "            ]\n",
    "# range_data = []\n",
    "blocks = [Block(id,data,len(data)) for (id,data) in zip(range(1,13),block_data)]\n",
    "print(blocks[0])\n"
   ]
  },
  {
   "cell_type": "code",
   "execution_count": 5,
   "metadata": {},
   "outputs": [
    {
     "name": "stdout",
     "output_type": "stream",
     "text": [
      "5 5 (0, 8, 15, 16, 17)\n",
      "10 5 (0, 7, 8, 9, 16)\n",
      "15 5 (0, 8, 9, 16, 17)\n",
      "19 4 (0, 1, 8, 16)\n",
      "23 4 (0, 1, 8, 16)\n",
      "28 5 (0, 1, 9, 10, 11)\n",
      "33 5 (0, 1, 2, 3, 9)\n",
      "37 4 (0, 6, 7, 8)\n",
      "42 5 (0, 7, 8, 9, 17)\n",
      "47 5 (0, 8, 16, 24, 32)\n",
      "51 4 (0, 1, 9, 17)\n",
      "52 1 (0,)\n",
      "52\n"
     ]
    }
   ],
   "source": [
    "# data check\n",
    "total = 0\n",
    "for b in block_data:\n",
    "    total += len(b)\n",
    "    print(total, len(b), b)\n",
    "print(total)"
   ]
  },
  {
   "cell_type": "code",
   "execution_count": 6,
   "metadata": {},
   "outputs": [
    {
     "name": "stdout",
     "output_type": "stream",
     "text": [
      "1 1 o\n",
      "6 5 xox;xox;ooo\n",
      "11 5 xox;ooo;xox\n",
      "16 5 oxx;oox;xoo\n",
      "20 4 oo;ox;ox\n",
      "25 5 ooxx;xooo\n",
      "30 5 oooo;xoxx\n",
      "34 4 xxo;ooo\n",
      "39 5 xox;ooo;xxo\n",
      "44 5 o;o;o;o;o\n",
      "48 4 oo;xo;xo\n",
      "48\n"
     ]
    }
   ],
   "source": [
    "shapes = ['o',\n",
    "        'xox;xox;ooo',\n",
    "        'xox;ooo;xox',\n",
    "        'oxx;oox;xoo',\n",
    "        'oo;ox;ox',\n",
    "        'ooxx;xooo',\n",
    "        'oooo;xoxx',\n",
    "        'xxo;ooo',\n",
    "        'xox;ooo;xxo',\n",
    "        'o;o;o;o;o',\n",
    "        'oo;xo;xo']\n",
    "total = 0\n",
    "for s in shapes:\n",
    "    count = 0\n",
    "    for i in s:\n",
    "        if i == 'o':\n",
    "            count += 1\n",
    "    total += count\n",
    "    print(total, count, s)\n",
    "print(total)"
   ]
  },
  {
   "cell_type": "code",
   "execution_count": 18,
   "metadata": {},
   "outputs": [
    {
     "name": "stdout",
     "output_type": "stream",
     "text": [
      "[(1,), (2, 10, 17, 18, 19), (2, 9, 10, 11, 18), (1, 9, 10, 18, 19), (1, 2, 9, 17), (1, 2, 10, 11, 12), (1, 2, 3, 4, 10), (3, 9, 10, 11), (2, 9, 10, 11, 19), (1, 9, 17, 25, 33), (1, 2, 10, 18)]\n",
      "(1,)\n",
      "(2, 10, 17, 18, 19)\n",
      "(2, 9, 10, 11, 18)\n",
      "(1, 9, 10, 18, 19)\n",
      "(1, 2, 9, 17)\n",
      "(1, 2, 10, 11, 12)\n",
      "(1, 2, 3, 4, 10)\n",
      "(3, 9, 10, 11)\n",
      "(2, 9, 10, 11, 19)\n",
      "(1, 9, 17, 25, 33)\n",
      "(1, 2, 10, 18)\n",
      "48\n"
     ]
    }
   ],
   "source": [
    "# test - data conversion\n",
    "shapes = ['o',\n",
    "        'xox;xox;ooo',\n",
    "        'xox;ooo;xox',\n",
    "        'oxx;oox;xoo',\n",
    "        'oo;ox;ox',\n",
    "        'ooxx;xooo',\n",
    "        'oooo;xoxx',\n",
    "        'xxo;ooo',\n",
    "        'xox;ooo;xxo',\n",
    "        'o;o;o;o;o',\n",
    "        'oo;xo;xo']\n",
    "numbers = []\n",
    "for s in shapes:\n",
    "    shape_number = []\n",
    "    position = 1\n",
    "    for e in s:\n",
    "        if e == 'o':\n",
    "            shape_number.append(position)\n",
    "            position += 1\n",
    "        elif e == 'x':\n",
    "            position += 1\n",
    "        elif e == ';':\n",
    "            if position <= 8: position = 9\n",
    "            elif position <= 16: position = 17\n",
    "            elif position <= 24: position = 25\n",
    "            elif position <= 32: position = 33\n",
    "            elif position <= 40: position = 41\n",
    "    numbers.append(tuple(shape_number))\n",
    "print(numbers)\n",
    "    \n",
    "for n in numbers:\n",
    "    print(n)\n",
    "\n",
    "total=0 \n",
    "for n in numbers:\n",
    "    total += len(n)\n",
    "print(total)"
   ]
  },
  {
   "cell_type": "code",
   "execution_count": 26,
   "metadata": {},
   "outputs": [
    {
     "name": "stdout",
     "output_type": "stream",
     "text": [
      "{1: 'x', 2: 'x', 3: 'x', 4: 'x', 5: 'x', 6: 'x', 7: 'x', 8: 'x', 9: 'x', 10: 'x', 11: 'x', 12: 'x', 13: 'x', 14: 'x', 15: 'x', 16: 'x', 17: 'x', 18: 'x', 19: 'x', 20: 'x', 21: 'x', 22: 'x', 23: 'x', 24: 'x', 25: 'x', 26: 'x', 27: 'x', 28: 'x', 29: 'x', 30: 'x', 31: 'x', 32: 'x', 33: 'x', 34: 'x', 35: 'x', 36: 'x', 37: 'x', 38: 'x', 39: 'x', 40: 'x', 41: 'x', 42: 'x', 43: 'x', 44: 'x', 45: 'x', 46: 'x', 47: 'x', 48: 'x'}\n",
      "xxxxxxxxxxxxxxxxxxxxxxxxxxxxxxxxxxxxxxxxxxxxxxxx\n",
      "xxxxxxxx\n",
      "xxxxxxxx\n",
      "xxxxxxxx\n",
      "xxxxxxxx\n",
      "xxxxxxxx\n",
      "xxxxxxxx\n",
      "\n",
      "Block(id=1, data=(1,), size=1)\n"
     ]
    },
    {
     "ename": "TypeError",
     "evalue": "can only concatenate tuple (not \"int\") to tuple",
     "output_type": "error",
     "traceback": [
      "\u001b[0;31m---------------------------------------------------------------------------\u001b[0m",
      "\u001b[0;31mTypeError\u001b[0m                                 Traceback (most recent call last)",
      "\u001b[0;32m<ipython-input-26-f5c940bd87de>\u001b[0m in \u001b[0;36m<module>\u001b[0;34m\u001b[0m\n\u001b[1;32m     65\u001b[0m \u001b[0mshow_table\u001b[0m\u001b[0;34m(\u001b[0m\u001b[0;34m)\u001b[0m\u001b[0;34m\u001b[0m\u001b[0;34m\u001b[0m\u001b[0m\n\u001b[1;32m     66\u001b[0m \u001b[0mprint\u001b[0m\u001b[0;34m(\u001b[0m\u001b[0mblocks\u001b[0m\u001b[0;34m[\u001b[0m\u001b[0;36m0\u001b[0m\u001b[0;34m]\u001b[0m\u001b[0;34m)\u001b[0m\u001b[0;34m\u001b[0m\u001b[0;34m\u001b[0m\u001b[0m\n\u001b[0;32m---> 67\u001b[0;31m \u001b[0mload_block\u001b[0m\u001b[0;34m(\u001b[0m\u001b[0;36m1\u001b[0m\u001b[0;34m,\u001b[0m\u001b[0mblocks\u001b[0m\u001b[0;34m[\u001b[0m\u001b[0;36m1\u001b[0m\u001b[0;34m]\u001b[0m\u001b[0;34m)\u001b[0m\u001b[0;34m\u001b[0m\u001b[0;34m\u001b[0m\u001b[0m\n\u001b[0m\u001b[1;32m     68\u001b[0m \u001b[0mshow_table\u001b[0m\u001b[0;34m(\u001b[0m\u001b[0;34m)\u001b[0m\u001b[0;34m\u001b[0m\u001b[0;34m\u001b[0m\u001b[0m\n",
      "\u001b[0;32m<ipython-input-26-f5c940bd87de>\u001b[0m in \u001b[0;36mload_block\u001b[0;34m(n, block)\u001b[0m\n\u001b[1;32m     57\u001b[0m     \u001b[0mresult\u001b[0m \u001b[0;34m=\u001b[0m \u001b[0;32mTrue\u001b[0m\u001b[0;34m\u001b[0m\u001b[0;34m\u001b[0m\u001b[0m\n\u001b[1;32m     58\u001b[0m     \u001b[0;32mfor\u001b[0m \u001b[0me\u001b[0m \u001b[0;32min\u001b[0m \u001b[0mblock\u001b[0m\u001b[0;34m:\u001b[0m\u001b[0;34m\u001b[0m\u001b[0;34m\u001b[0m\u001b[0m\n\u001b[0;32m---> 59\u001b[0;31m         \u001b[0;32mif\u001b[0m \u001b[0mtable\u001b[0m\u001b[0;34m[\u001b[0m\u001b[0me\u001b[0m\u001b[0;34m+\u001b[0m\u001b[0mn\u001b[0m\u001b[0;34m]\u001b[0m \u001b[0;34m==\u001b[0m \u001b[0;34m'x'\u001b[0m\u001b[0;34m:\u001b[0m\u001b[0;34m\u001b[0m\u001b[0;34m\u001b[0m\u001b[0m\n\u001b[0m\u001b[1;32m     60\u001b[0m             \u001b[0mtable\u001b[0m\u001b[0;34m[\u001b[0m\u001b[0me\u001b[0m\u001b[0;34m+\u001b[0m\u001b[0mn\u001b[0m\u001b[0;34m]\u001b[0m\u001b[0;34m\u001b[0m\u001b[0;34m\u001b[0m\u001b[0m\n\u001b[1;32m     61\u001b[0m     \u001b[0mtable\u001b[0m\u001b[0;34m[\u001b[0m\u001b[0mn\u001b[0m\u001b[0;34m]\u001b[0m\u001b[0;34m\u001b[0m\u001b[0;34m\u001b[0m\u001b[0m\n",
      "\u001b[0;31mTypeError\u001b[0m: can only concatenate tuple (not \"int\") to tuple"
     ]
    }
   ],
   "source": [
    "# object - base, load block\n",
    "shapes = ['o',\n",
    "        'xox;xox;ooo',\n",
    "        'xox;ooo;xox',\n",
    "        'oxx;oox;xoo',\n",
    "        'oo;ox;ox',\n",
    "        'ooxx;xooo',\n",
    "        'oooo;xoxx',\n",
    "        'xxo;ooo',\n",
    "        'xox;ooo;xxo',\n",
    "        'o;o;o;o;o',\n",
    "        'oo;xo;xo']\n",
    "\n",
    "import collections\n",
    "Block = collections.namedtuple('Block', ['id', 'shape', 'data', 'size'] )\n",
    "\n",
    "def convert_data(shapes: list) -> list:\n",
    "    block_data = []\n",
    "    for s in shapes:\n",
    "        shape_number = []\n",
    "        position = 1\n",
    "        for e in s:\n",
    "            if e == 'o':\n",
    "                shape_number.append(position)\n",
    "                position += 1\n",
    "            elif e == 'x':\n",
    "                position += 1\n",
    "            elif e == ';':\n",
    "                if position <= 8: position = 9\n",
    "                elif position <= 16: position = 17\n",
    "                elif position <= 24: position = 25\n",
    "                elif position <= 32: position = 33\n",
    "                elif position <= 40: position = 41\n",
    "        block_data.append(tuple(shape_number))\n",
    "    return block_data\n",
    "\n",
    "size_data = \n",
    "block_data = convert_data(shapes)\n",
    "blocks = [Block(no,shape,data,size) for (no,shape,data,size) in zip(range(1,13),shapes,block_data,range(1,13)) ]\n",
    "\n",
    "table = {n:'x' for n in range(1,49)}\n",
    "\n",
    "def show_list():\n",
    "    result = ''\n",
    "    for i,v in table.items():\n",
    "        result+=str(v)\n",
    "    print(result)\n",
    "\n",
    "def show_table():\n",
    "    result = ''\n",
    "    for i in range(6):\n",
    "        for j in range(1,9):\n",
    "            result+=str(table[i*8+j])\n",
    "        result+='\\n'\n",
    "    print(result)\n",
    "    \n",
    "def load_block(n, block):\n",
    "    result = True\n",
    "    for e in block:\n",
    "        if table[e+n] == 'x':\n",
    "            table[e+n]\n",
    "    table[n]\n",
    "\n",
    "print(table)\n",
    "show_list()\n",
    "show_table()\n",
    "print(blocks[0])\n",
    "load_block(1,blocks[1])\n",
    "show_table()"
   ]
  },
  {
   "cell_type": "code",
   "execution_count": 14,
   "metadata": {},
   "outputs": [
    {
     "name": "stdout",
     "output_type": "stream",
     "text": [
      "xxxxxxxxxxxxxxxxxxxxxxxxxxxxxxxxxxxxxxxxxxxxxxxx\n",
      "1xxxxxx111xxxxxx1xxxxxxxxxxxxxxxxxxxxxxxxxxxxxxx\n",
      "total number of blocks :  48\n",
      "empty blocks :  43\n"
     ]
    }
   ],
   "source": [
    "\n",
    "# print(blocks[0])\n",
    "table = {n:'x' for n in range(1,49)}\n",
    "# print(table)\n",
    "show_list()\n",
    "# show_table()\n",
    "for e in blocks[1]:\n",
    "    table[e+1] = \"1\"\n",
    "show_list()\n",
    "# show_table()\n",
    "print('total number of blocks : ',len(table))\n",
    "print('empty blocks : ',sum(value=='x' for value in table.values()))\n",
    "\n",
    "#for a in range():"
   ]
  },
  {
   "cell_type": "code",
   "execution_count": 16,
   "metadata": {
    "scrolled": true
   },
   "outputs": [
    {
     "name": "stdout",
     "output_type": "stream",
     "text": [
      "{'1': False, '2': False, '3': False, '4': False, '5': False, '6': False, '7': False, '8': False, '9': False, '10': False, '11': False, '12': False, '13': False, '14': False, '15': False, '16': False, '17': False, '18': False, '19': False, '20': False, '21': False, '22': False, '23': False, '24': False, '25': False, '26': False, '27': False, '28': False, '29': False, '30': False, '31': False, '32': False, '33': False, '34': False, '35': False, '36': False, '37': False, '38': False, '39': False, '40': False, '41': False, '42': False, '43': False, '44': False, '45': False, '46': False, '47': False, '48': False}\n"
     ]
    }
   ],
   "source": [
    "print({str(n):False for n in range(1,49)})"
   ]
  },
  {
   "cell_type": "code",
   "execution_count": null,
   "metadata": {},
   "outputs": [],
   "source": [
    "class Puzzle:\n",
    "    blocks = [(0),\n",
    "            (0,8,15,16,17),\n",
    "            (0,7,8,9,16),\n",
    "            (0,8,9,16,17),\n",
    "            (0,1,8,16),\n",
    "            (0,1,8,16),\n",
    "            (0,1,9,10,11),\n",
    "            (0,1,2,3,9),\n",
    "            (0,6,7,8),\n",
    "            (0,7,8,9,17),\n",
    "            (0,8,16,24,32),\n",
    "            (0,1,9,17)\n",
    "            ]\n",
    "    "
   ]
  },
  {
   "cell_type": "code",
   "execution_count": 23,
   "metadata": {},
   "outputs": [
    {
     "ename": "TypeError",
     "evalue": "can only concatenate list (not \"int\") to list",
     "output_type": "error",
     "traceback": [
      "\u001b[0;31m---------------------------------------------------------------------------\u001b[0m",
      "\u001b[0;31mTypeError\u001b[0m                                 Traceback (most recent call last)",
      "\u001b[0;32m<ipython-input-23-e259f035f6b7>\u001b[0m in \u001b[0;36m<module>\u001b[0;34m\u001b[0m\n\u001b[0;32m----> 1\u001b[0;31m \u001b[0;34m[\u001b[0m\u001b[0;36m1\u001b[0m\u001b[0;34m,\u001b[0m\u001b[0;36m2\u001b[0m\u001b[0;34m,\u001b[0m\u001b[0;36m3\u001b[0m\u001b[0;34m]\u001b[0m \u001b[0;34m+\u001b[0m \u001b[0;36m1\u001b[0m\u001b[0;34m\u001b[0m\u001b[0;34m\u001b[0m\u001b[0m\n\u001b[0m",
      "\u001b[0;31mTypeError\u001b[0m: can only concatenate list (not \"int\") to list"
     ]
    }
   ],
   "source": [
    "[1,2,3] + 1"
   ]
  }
 ],
 "metadata": {
  "kernelspec": {
   "display_name": "Python 3",
   "language": "python",
   "name": "python3"
  },
  "language_info": {
   "codemirror_mode": {
    "name": "ipython",
    "version": 3
   },
   "file_extension": ".py",
   "mimetype": "text/x-python",
   "name": "python",
   "nbconvert_exporter": "python",
   "pygments_lexer": "ipython3",
   "version": "3.7.6"
  }
 },
 "nbformat": 4,
 "nbformat_minor": 4
}

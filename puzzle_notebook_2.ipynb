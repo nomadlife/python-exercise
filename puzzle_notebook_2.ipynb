{
 "cells": [
  {
   "cell_type": "code",
   "execution_count": null,
   "metadata": {},
   "outputs": [],
   "source": [
    "import collections\n"
   ]
  },
  {
   "cell_type": "code",
   "execution_count": 1,
   "metadata": {},
   "outputs": [
    {
     "name": "stdout",
     "output_type": "stream",
     "text": [
      "(0, 8, 15, 16, 17)\n"
     ]
    }
   ],
   "source": [
    "shapes = ['o',\n",
    "        'xox;xox;ooo',\n",
    "        'xox;ooo;xox',\n",
    "        'oxx;oox;xoo',\n",
    "        'oo;ox;ox',\n",
    "        'ooxx;xooo',\n",
    "        'oooo;xoxx',\n",
    "        'xxo;ooo',\n",
    "        'xox;ooo;xxo',\n",
    "        'o;o;o;o;o',\n",
    "        'oo;xo;xo']\n",
    "\n",
    "blocks = [(0),\n",
    "            (0,8,15,16,17),\n",
    "            (0,7,8,9,16),\n",
    "            (0,8,9,16,17),\n",
    "            (0,1,8,16),\n",
    "            (0,1,8,16),\n",
    "            (0,1,9,10,11),\n",
    "            (0,1,2,3,9),\n",
    "            (0,6,7,8),\n",
    "            (0,7,8,9,17),\n",
    "            (0,8,16,24,32),\n",
    "            (0,1,9,17)\n",
    "            ]\n",
    "print(blocks[1])"
   ]
  }
 ],
 "metadata": {
  "kernelspec": {
   "display_name": "Python 3",
   "language": "python",
   "name": "python3"
  },
  "language_info": {
   "codemirror_mode": {
    "name": "ipython",
    "version": 3
   },
   "file_extension": ".py",
   "mimetype": "text/x-python",
   "name": "python",
   "nbconvert_exporter": "python",
   "pygments_lexer": "ipython3",
   "version": "3.7.3"
  }
 },
 "nbformat": 4,
 "nbformat_minor": 4
}

{
 "cells": [
  {
   "cell_type": "code",
   "execution_count": 6,
   "metadata": {},
   "outputs": [
    {
     "name": "stdout",
     "output_type": "stream",
     "text": [
      "True\n",
      "1080\n"
     ]
    }
   ],
   "source": [
    "# test 1\n",
    "import  cv2, dlib, sys\n",
    "import numpy as np\n",
    "\n",
    "cap = cv2.VideoCapture('../face_detect_sample.mp4')\n",
    "ret, img = cap.read()\n",
    "print(ret)\n",
    "print(len(img))"
   ]
  },
  {
   "cell_type": "code",
   "execution_count": 4,
   "metadata": {},
   "outputs": [],
   "source": [
    "# test 2 \n",
    "import  cv2, dlib, sys\n",
    "import numpy as np\n",
    "\n",
    "cap = cv2.VideoCapture('../face_detect_sample.mp4')\n",
    "\n",
    "while True:\n",
    "    ret, img = cap.read()\n",
    "    if not ret:\n",
    "        break\n",
    "        \n",
    "    cv2.imshow('img', img)\n",
    "    cv2.waitKey(1)\n"
   ]
  },
  {
   "cell_type": "code",
   "execution_count": null,
   "metadata": {},
   "outputs": [],
   "source": [
    "# test 3\n",
    "import  cv2, dlib, sys\n",
    "import numpy as np\n",
    "\n",
    "cap = cv2.VideoCapture('../face_detect_sample.mp4')\n",
    "scaler = 0.3\n",
    "\n",
    "while True:\n",
    "    ret, img = cap.read()\n",
    "    if not ret:\n",
    "        break\n",
    "        \n",
    "    img = cv2.resize(img, (int(img.shape[1] * scaler), int(img.shape[0] * scaler)))\n",
    "    \n",
    "    cv2.imshow('img', img)\n",
    "    cv2.waitKey(30)"
   ]
  },
  {
   "cell_type": "code",
   "execution_count": 9,
   "metadata": {},
   "outputs": [],
   "source": [
    "# test 4 - face detect \n",
    "# draw rectangle\n",
    "\n",
    "import  cv2, dlib, sys\n",
    "import numpy as np\n",
    "\n",
    "detector = dlib.get_frontal_face_detector()\n",
    "predictor = dlib.shape_predictor('../shape_predictor_68_face_landmarks.dat')\n",
    "\n",
    "cap = cv2.VideoCapture('../face_detect_sample.mp4')\n",
    "scaler = 0.3\n",
    "\n",
    "while True:\n",
    "    ret, img = cap.read()\n",
    "    if not ret:\n",
    "        break\n",
    "        \n",
    "    img = cv2.resize(img, (int(img.shape[1] * scaler), int(img.shape[0] * scaler)))\n",
    "    ori = img.copy()\n",
    "    \n",
    "    # detect faces\n",
    "    faces = detector(img)\n",
    "    if len(faces) == 0:\n",
    "        continue\n",
    "    else:\n",
    "        face = faces[0]\n",
    "        \n",
    "    \n",
    "    # visualize\n",
    "    img = cv2.rectangle(img, pt1=(face.left(), face.top()), pt2=(face.right(), face.bottom()), \n",
    "                        color=(255, 255, 255), thickness=2, lineType=cv2.LINE_AA)\n",
    "    \n",
    "    cv2.imshow('img', img)\n",
    "    cv2.waitKey(30)"
   ]
  },
  {
   "cell_type": "code",
   "execution_count": 3,
   "metadata": {},
   "outputs": [
    {
     "ename": "IndexError",
     "evalue": "",
     "output_type": "error",
     "traceback": [
      "\u001b[0;31m---------------------------------------------------------------------------\u001b[0m",
      "\u001b[0;31mIndexError\u001b[0m                                Traceback (most recent call last)",
      "\u001b[0;32m<ipython-input-3-6cba47056103>\u001b[0m in \u001b[0;36m<module>\u001b[0;34m\u001b[0m\n\u001b[1;32m     21\u001b[0m     \u001b[0;31m# detect faces\u001b[0m\u001b[0;34m\u001b[0m\u001b[0;34m\u001b[0m\u001b[0;34m\u001b[0m\u001b[0m\n\u001b[1;32m     22\u001b[0m     \u001b[0mfaces\u001b[0m \u001b[0;34m=\u001b[0m \u001b[0mdetector\u001b[0m\u001b[0;34m(\u001b[0m\u001b[0mimg\u001b[0m\u001b[0;34m)\u001b[0m\u001b[0;34m\u001b[0m\u001b[0;34m\u001b[0m\u001b[0m\n\u001b[0;32m---> 23\u001b[0;31m     \u001b[0mface\u001b[0m \u001b[0;34m=\u001b[0m \u001b[0mfaces\u001b[0m\u001b[0;34m[\u001b[0m\u001b[0;36m0\u001b[0m\u001b[0;34m]\u001b[0m\u001b[0;34m\u001b[0m\u001b[0;34m\u001b[0m\u001b[0m\n\u001b[0m\u001b[1;32m     24\u001b[0m \u001b[0;34m\u001b[0m\u001b[0m\n\u001b[1;32m     25\u001b[0m     \u001b[0mdlib_shape\u001b[0m \u001b[0;34m=\u001b[0m \u001b[0mpredictor\u001b[0m\u001b[0;34m(\u001b[0m\u001b[0mimg\u001b[0m\u001b[0;34m,\u001b[0m \u001b[0mface\u001b[0m\u001b[0;34m)\u001b[0m\u001b[0;34m\u001b[0m\u001b[0;34m\u001b[0m\u001b[0m\n",
      "\u001b[0;31mIndexError\u001b[0m: "
     ]
    }
   ],
   "source": [
    "# test 5 - face detect \n",
    "# draw circle\n",
    "import  cv2, dlib, sys\n",
    "import numpy as np\n",
    "\n",
    "detector = dlib.get_frontal_face_detector()\n",
    "predictor = dlib.shape_predictor('../shape_predictor_68_face_landmarks.dat')\n",
    "\n",
    "cap = cv2.VideoCapture('../face_detect_sample.mp4')\n",
    "scaler = 0.3\n",
    "\n",
    "while True:\n",
    "    ret, img = cap.read()\n",
    "    if not ret:\n",
    "        break\n",
    "        \n",
    "    img = cv2.resize(img, (int(img.shape[1] * scaler), int(img.shape[0] * scaler)))\n",
    "    ori = img.copy()\n",
    "    \n",
    "    # detect faces\n",
    "    faces = detector(img)\n",
    "    if len(faces) == 0:\n",
    "        continue\n",
    "    else:\n",
    "        face = faces[0]\n",
    "    \n",
    "    dlib_shape = predictor(img, face)\n",
    "    shape_2d = np.array([[p.x, p.y] for p in dlib_shape.parts()])\n",
    "    \n",
    "    # visualize\n",
    "    img = cv2.rectangle(img, pt1=(face.left(), face.top()), pt2=(face.right(), face.bottom()), \n",
    "                        color=(255, 255, 255), thickness=2, lineType=cv2.LINE_AA)\n",
    "    \n",
    "    for s in shape_2d:\n",
    "        cv2.circle(img, center=tuple(s), radius=1, color=(255, 255, 255), thickness=2, lineType=cv2.LINE.AA)\n",
    "    cv2.imshow('img', img)\n",
    "    cv2.waitKey(30)"
   ]
  }
 ],
 "metadata": {
  "kernelspec": {
   "display_name": "Python 3",
   "language": "python",
   "name": "python3"
  },
  "language_info": {
   "codemirror_mode": {
    "name": "ipython",
    "version": 3
   },
   "file_extension": ".py",
   "mimetype": "text/x-python",
   "name": "python",
   "nbconvert_exporter": "python",
   "pygments_lexer": "ipython3",
   "version": "3.6.9"
  }
 },
 "nbformat": 4,
 "nbformat_minor": 4
}

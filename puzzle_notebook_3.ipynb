{
 "cells": [
  {
   "cell_type": "code",
   "execution_count": 239,
   "metadata": {},
   "outputs": [
    {
     "data": {
      "text/plain": [
       "3"
      ]
     },
     "execution_count": 239,
     "metadata": {},
     "output_type": "execute_result"
    }
   ],
   "source": [
    "test = 'xox;xox;ooo'\n",
    "len(test.split(';')[0])\n"
   ]
  },
  {
   "cell_type": "code",
   "execution_count": 293,
   "metadata": {},
   "outputs": [
    {
     "name": "stdout",
     "output_type": "stream",
     "text": [
      "3.6.9 (default, Nov  7 2019, 10:44:02) \n",
      "[GCC 8.3.0]\n"
     ]
    }
   ],
   "source": [
    "import sys\n",
    "print(sys.version)"
   ]
  },
  {
   "cell_type": "code",
   "execution_count": 295,
   "metadata": {},
   "outputs": [
    {
     "name": "stderr",
     "output_type": "stream",
     "text": [
      "E\n",
      "======================================================================\n",
      "ERROR: /home/jw/ (unittest.loader._FailedTest)\n",
      "----------------------------------------------------------------------\n",
      "AttributeError: module '__main__' has no attribute '/home/jw/'\n",
      "\n",
      "----------------------------------------------------------------------\n",
      "Ran 1 test in 0.001s\n",
      "\n",
      "FAILED (errors=1)\n"
     ]
    },
    {
     "ename": "SystemExit",
     "evalue": "True",
     "output_type": "error",
     "traceback": [
      "An exception has occurred, use %tb to see the full traceback.\n",
      "\u001b[0;31mSystemExit\u001b[0m\u001b[0;31m:\u001b[0m True\n"
     ]
    },
    {
     "name": "stderr",
     "output_type": "stream",
     "text": [
      "/home/jw/envs/py3ai/lib/python3.6/site-packages/IPython/core/interactiveshell.py:3339: UserWarning: To exit: use 'exit', 'quit', or Ctrl-D.\n",
      "  warn(\"To exit: use 'exit', 'quit', or Ctrl-D.\", stacklevel=1)\n"
     ]
    }
   ],
   "source": [
    "import unittest\n",
    "\n",
    "def fun(x):\n",
    "    return x + 1\n",
    "\n",
    "class MyTest(unittest.TestCase):\n",
    "    def test(self):\n",
    "        self.assertEqual(fun(3), 4)\n",
    "if __name__ == '__main__':\n",
    "    unittest.main()"
   ]
  },
  {
   "cell_type": "code",
   "execution_count": 301,
   "metadata": {},
   "outputs": [],
   "source": [
    "# Block class\n",
    "import collections\n",
    "Block = collections.namedtuple('Block', ['id', 'shape', 'data', 'fill_number', 'row', 'col', 'used'] )\n",
    "\n",
    "block_input = ['o',\n",
    "            'xox;xox;ooo',\n",
    "            'xox;ooo;xox',\n",
    "            'oxx;oox;xoo',\n",
    "            'oo;ox;ox',\n",
    "            'ooxx;xooo',\n",
    "            'oooo;xoxx',\n",
    "            'xxo;ooo',\n",
    "            'xox;ooo;xxo',\n",
    "            'o;o;o;o;o',\n",
    "            'oo;xo;xo']\n",
    "    \n",
    "class Blocks:\n",
    "    def __init__(self, block_input = None ):\n",
    "        if block_input == None:\n",
    "            print('''please input block list data. \n",
    "                [...'xxo;ooo',\n",
    "                'oo;xo;xo' ...]\n",
    "                ''')\n",
    "        else :\n",
    "            self.block_list = []\n",
    "            block_serial_data = self.convert_serial(block_input)\n",
    "            for (no,shape,data) in zip(range(1,13), block_input, block_serial_data):\n",
    "                row = shape.count(';')+1\n",
    "                col = len(shape.split(';')[0])\n",
    "                fill = len(data)\n",
    "                block = Block(no, shape, data, fill,row, col,  False)\n",
    "                self.block_list.append(block)\n",
    "                \n",
    "#             self.block_list = [Block(no,shape,data,fill,False,row,col) for (no,shape,data,fill) in zip(range(1,13),block_input,block_serial_data,fill_numbers)]\n",
    "            print(\"block data created : \",len(self.block_list))\n",
    "\n",
    "    def mark_used(self, n):\n",
    "        self.block_list[n].used = True\n",
    "        \n",
    "    def convert_serial(self, shapes: list) -> list:\n",
    "        block_data = []\n",
    "        for shape in shapes:\n",
    "            shape_number = []\n",
    "            position = 1\n",
    "            for s in shape:\n",
    "                if s == 'o':\n",
    "                    shape_number.append(position)\n",
    "                    position += 1\n",
    "                elif s == 'x':\n",
    "                    position += 1\n",
    "                elif s == ';':\n",
    "                    if position <= 8: position = 9\n",
    "                    elif position <= 16: position = 17\n",
    "                    elif position <= 24: position = 25\n",
    "                    elif position <= 32: position = 33\n",
    "                    elif position <= 40: position = 41\n",
    "            block_data.append(tuple(shape_number))\n",
    "        return block_data\n",
    "\n",
    "#     def count_fill_number(self, shapes: list) -> int:\n",
    "#         fill_list = []\n",
    "#         for shape in shapes:\n",
    "#             size=0\n",
    "#             for s in shape:\n",
    "#                 if s == 'o':\n",
    "#                     size+=1\n",
    "#             fill_list.append(size)\n",
    "#         return fill_list\n",
    "    \n",
    "    \n",
    "    "
   ]
  },
  {
   "cell_type": "code",
   "execution_count": 300,
   "metadata": {},
   "outputs": [],
   "source": [
    "import unittest\n",
    "\n",
    "class MyTest(unittest.TestCase):\n",
    "    def test(self):\n",
    "        blocks = Blocks()\n",
    "        self.assertEqual(fun(3), 4)\n",
    "\n",
    "mytest = MyTest()\n",
    "mytest.test()"
   ]
  },
  {
   "cell_type": "code",
   "execution_count": 302,
   "metadata": {},
   "outputs": [
    {
     "name": "stdout",
     "output_type": "stream",
     "text": [
      "please input block list data. \n",
      "                [...'xxo;ooo',\n",
      "                'oo;xo;xo' ...]\n",
      "                \n"
     ]
    }
   ],
   "source": [
    "# object init\n",
    "blocks = Blocks()"
   ]
  },
  {
   "cell_type": "code",
   "execution_count": 303,
   "metadata": {},
   "outputs": [
    {
     "name": "stdout",
     "output_type": "stream",
     "text": [
      "block data created :  11\n"
     ]
    }
   ],
   "source": [
    "# object init\n",
    "blocks = Blocks(block_input)"
   ]
  },
  {
   "cell_type": "code",
   "execution_count": 268,
   "metadata": {},
   "outputs": [
    {
     "data": {
      "text/plain": [
       "[Block(id=1, shape='o', data=(1,), fill_number=1, row=1, col=1, used=False),\n",
       " Block(id=2, shape='xox;xox;ooo', data=(2, 10, 17, 18, 19), fill_number=5, row=3, col=3, used=False),\n",
       " Block(id=3, shape='xox;ooo;xox', data=(2, 9, 10, 11, 18), fill_number=5, row=3, col=3, used=False),\n",
       " Block(id=4, shape='oxx;oox;xoo', data=(1, 9, 10, 18, 19), fill_number=5, row=3, col=3, used=False),\n",
       " Block(id=5, shape='oo;ox;ox', data=(1, 2, 9, 17), fill_number=4, row=3, col=2, used=False),\n",
       " Block(id=6, shape='ooxx;xooo', data=(1, 2, 10, 11, 12), fill_number=5, row=2, col=4, used=False),\n",
       " Block(id=7, shape='oooo;xoxx', data=(1, 2, 3, 4, 10), fill_number=5, row=2, col=4, used=False),\n",
       " Block(id=8, shape='xxo;ooo', data=(3, 9, 10, 11), fill_number=4, row=2, col=3, used=False),\n",
       " Block(id=9, shape='xox;ooo;xxo', data=(2, 9, 10, 11, 19), fill_number=5, row=3, col=3, used=False),\n",
       " Block(id=10, shape='o;o;o;o;o', data=(1, 9, 17, 25, 33), fill_number=5, row=5, col=1, used=False),\n",
       " Block(id=11, shape='oo;xo;xo', data=(1, 2, 10, 18), fill_number=4, row=3, col=2, used=False)]"
      ]
     },
     "execution_count": 268,
     "metadata": {},
     "output_type": "execute_result"
    }
   ],
   "source": [
    "blocks.block_list"
   ]
  },
  {
   "cell_type": "code",
   "execution_count": 269,
   "metadata": {},
   "outputs": [
    {
     "ename": "AttributeError",
     "evalue": "can't set attribute",
     "output_type": "error",
     "traceback": [
      "\u001b[0;31m---------------------------------------------------------------------------\u001b[0m",
      "\u001b[0;31mAttributeError\u001b[0m                            Traceback (most recent call last)",
      "\u001b[0;32m<ipython-input-269-b5447e1642c8>\u001b[0m in \u001b[0;36m<module>\u001b[0;34m\u001b[0m\n\u001b[0;32m----> 1\u001b[0;31m \u001b[0mblocks\u001b[0m\u001b[0;34m.\u001b[0m\u001b[0mmark_used\u001b[0m\u001b[0;34m(\u001b[0m\u001b[0;36m2\u001b[0m\u001b[0;34m)\u001b[0m\u001b[0;34m\u001b[0m\u001b[0;34m\u001b[0m\u001b[0m\n\u001b[0m\u001b[1;32m      2\u001b[0m \u001b[0mblocks\u001b[0m\u001b[0;34m.\u001b[0m\u001b[0mblock_list\u001b[0m\u001b[0;34m\u001b[0m\u001b[0;34m\u001b[0m\u001b[0m\n",
      "\u001b[0;32m<ipython-input-266-21780f301f8d>\u001b[0m in \u001b[0;36mmark_used\u001b[0;34m(self, n)\u001b[0m\n\u001b[1;32m     38\u001b[0m \u001b[0;34m\u001b[0m\u001b[0m\n\u001b[1;32m     39\u001b[0m     \u001b[0;32mdef\u001b[0m \u001b[0mmark_used\u001b[0m\u001b[0;34m(\u001b[0m\u001b[0mself\u001b[0m\u001b[0;34m,\u001b[0m \u001b[0mn\u001b[0m\u001b[0;34m)\u001b[0m\u001b[0;34m:\u001b[0m\u001b[0;34m\u001b[0m\u001b[0;34m\u001b[0m\u001b[0m\n\u001b[0;32m---> 40\u001b[0;31m         \u001b[0mself\u001b[0m\u001b[0;34m.\u001b[0m\u001b[0mblock_list\u001b[0m\u001b[0;34m[\u001b[0m\u001b[0mn\u001b[0m\u001b[0;34m]\u001b[0m\u001b[0;34m.\u001b[0m\u001b[0mused\u001b[0m \u001b[0;34m=\u001b[0m \u001b[0;32mTrue\u001b[0m\u001b[0;34m\u001b[0m\u001b[0;34m\u001b[0m\u001b[0m\n\u001b[0m\u001b[1;32m     41\u001b[0m \u001b[0;34m\u001b[0m\u001b[0m\n\u001b[1;32m     42\u001b[0m     \u001b[0;32mdef\u001b[0m \u001b[0mconvert_serial\u001b[0m\u001b[0;34m(\u001b[0m\u001b[0mself\u001b[0m\u001b[0;34m,\u001b[0m \u001b[0mshapes\u001b[0m\u001b[0;34m:\u001b[0m \u001b[0mlist\u001b[0m\u001b[0;34m)\u001b[0m \u001b[0;34m->\u001b[0m \u001b[0mlist\u001b[0m\u001b[0;34m:\u001b[0m\u001b[0;34m\u001b[0m\u001b[0;34m\u001b[0m\u001b[0m\n",
      "\u001b[0;31mAttributeError\u001b[0m: can't set attribute"
     ]
    }
   ],
   "source": [
    "blocks.mark_used(2)\n",
    "blocks.block_list"
   ]
  },
  {
   "cell_type": "code",
   "execution_count": 304,
   "metadata": {},
   "outputs": [],
   "source": [
    "# Puzzle Class\n",
    "\n",
    "class Puzzle:\n",
    "    \n",
    "#     loadable = True\n",
    "    table = {}\n",
    "    table_row = None\n",
    "    table_col = None\n",
    "    \n",
    "    def __init__(self, x, y):\n",
    "        if x == None or y == None:\n",
    "            print('please input dimension (r,c).')\n",
    "        else:\n",
    "            self.dimension = (x, y)\n",
    "            self.table_row = y\n",
    "            self.table_col = x\n",
    "            length = x * y\n",
    "            self.table = {n:'x' for n in range(1,length + 1)}\n",
    "            print('table created',x,' x ',y)\n",
    "\n",
    "    def table_init(self):\n",
    "        self.table = {n:'x' for n in range(1,len(self.table) + 1)}\n",
    "        return self\n",
    "    \n",
    "    def show_list(self):\n",
    "        result = ''\n",
    "        for i,v in self.table.items():\n",
    "            result+=str(v)\n",
    "        print(result)\n",
    "        return self\n",
    "\n",
    "    def show_table(self):\n",
    "        result = ''\n",
    "        result = ''\n",
    "        for k,v in self.table.items():\n",
    "            if v == 'x':\n",
    "                result += '.x'\n",
    "            else:\n",
    "                result += v.zfill(2)\n",
    "            if k%self.table_col == 0:\n",
    "                result += '\\n'\n",
    "                \n",
    "#         for r in range(self.table_row):\n",
    "#             for c in range(self.table_col):\n",
    "#                 if self.table[r*self.table_row + c + 1] == 'x':\n",
    "#                     result+=str(self.table[r*8+c+1]).rjust(2, '.')\n",
    "#                 else:\n",
    "#                     result+=str(self.table[r*8+c+1]).zfill(2)\n",
    "#             result+='\\n'\n",
    "        print(result)\n",
    "        return self\n",
    "\n",
    "    def isLoadable(self, n : int, block : Block):\n",
    "        loadable = True\n",
    "#         print(\"check loadability\")\n",
    "        if (n-1)%8 + block.col > 8:\n",
    "            loadable = False\n",
    "        elif (n-1)//8 + block.row > 6:\n",
    "            loadable = False\n",
    "        else:\n",
    "            for e in block.data:\n",
    "    #             print(e+n-1, self.table[e+n-1], end=', ')\n",
    "                if self.table[e+n-1] == 'x':\n",
    "                    pass\n",
    "                else:\n",
    "                    loadable = False\n",
    "                    break\n",
    "        return loadable\n",
    "    \n",
    "    def load_block(self, n : int, block : Block):\n",
    "        print(\"load_block() called\", n, block.id)\n",
    "        for e in block.data:\n",
    "            self.table[e+n-1] = str(block.id)\n",
    "        print(\"block loaded\")\n",
    "        return self\n",
    "    \n",
    "    def isFull(self):\n",
    "        result = True\n",
    "        for i,v in self.table.items():\n",
    "            if v==\"x\":\n",
    "                result = False\n",
    "                break\n",
    "        print(result)\n",
    "            \n"
   ]
  },
  {
   "cell_type": "code",
   "execution_count": 305,
   "metadata": {},
   "outputs": [
    {
     "name": "stdout",
     "output_type": "stream",
     "text": [
      "table created 6  x  8\n",
      "{1: 'x', 2: 'x', 3: 'x', 4: 'x', 5: 'x', 6: 'x', 7: 'x', 8: 'x', 9: 'x', 10: 'x', 11: 'x', 12: 'x', 13: 'x', 14: 'x', 15: 'x', 16: 'x', 17: 'x', 18: 'x', 19: 'x', 20: 'x', 21: 'x', 22: 'x', 23: 'x', 24: 'x', 25: 'x', 26: 'x', 27: 'x', 28: 'x', 29: 'x', 30: 'x', 31: 'x', 32: 'x', 33: 'x', 34: 'x', 35: 'x', 36: 'x', 37: 'x', 38: 'x', 39: 'x', 40: 'x', 41: 'x', 42: 'x', 43: 'x', 44: 'x', 45: 'x', 46: 'x', 47: 'x', 48: 'x'}\n"
     ]
    }
   ],
   "source": [
    "puzzle = Puzzle(6,8)\n",
    "print(puzzle.table)"
   ]
  },
  {
   "cell_type": "code",
   "execution_count": 306,
   "metadata": {},
   "outputs": [
    {
     "data": {
      "text/plain": [
       "True"
      ]
     },
     "execution_count": 306,
     "metadata": {},
     "output_type": "execute_result"
    }
   ],
   "source": [
    "puzzle.isLoadable(1,blocks.block_list[1])"
   ]
  },
  {
   "cell_type": "code",
   "execution_count": 307,
   "metadata": {
    "scrolled": true
   },
   "outputs": [
    {
     "name": "stdout",
     "output_type": "stream",
     "text": [
      "xxxxxxxxxxxxxxxxxxxxxxxxxxxxxxxxxxxxxxxxxxxxxxxx\n",
      ".x.x.x.x.x.x\n",
      ".x.x.x.x.x.x\n",
      ".x.x.x.x.x.x\n",
      ".x.x.x.x.x.x\n",
      ".x.x.x.x.x.x\n",
      ".x.x.x.x.x.x\n",
      ".x.x.x.x.x.x\n",
      ".x.x.x.x.x.x\n",
      "\n",
      "Block(id=2, shape='xox;xox;ooo', data=(2, 10, 17, 18, 19), fill_number=5, row=3, col=3, used=False)\n",
      "load_block() called 1 2\n",
      "block loaded\n",
      ".x02.x.x.x.x\n",
      ".x.x.x02.x.x\n",
      ".x.x.x.x0202\n",
      "02.x.x.x.x.x\n",
      ".x.x.x.x.x.x\n",
      ".x.x.x.x.x.x\n",
      ".x.x.x.x.x.x\n",
      ".x.x.x.x.x.x\n",
      "\n",
      "x2xxxxxxx2xxxxxx222xxxxxxxxxxxxxxxxxxxxxxxxxxxxx\n",
      "Block(id=3, shape='xox;ooo;xox', data=(2, 9, 10, 11, 18), fill_number=5, row=3, col=3, used=False)\n",
      "load_block() called 1 3\n",
      "block loaded\n",
      ".x03.x.x.x.x\n",
      ".x.x030303.x\n",
      ".x.x.x.x0203\n",
      "02.x.x.x.x.x\n",
      ".x.x.x.x.x.x\n",
      ".x.x.x.x.x.x\n",
      ".x.x.x.x.x.x\n",
      ".x.x.x.x.x.x\n",
      "\n",
      "x3xxxxxx333xxxxx232xxxxxxxxxxxxxxxxxxxxxxxxxxxxx\n",
      "False\n"
     ]
    }
   ],
   "source": [
    "puzzle.show_list()\n",
    "puzzle.show_table()\n",
    "print(blocks.block_list[1])\n",
    "puzzle.load_block(1,blocks.block_list[1])\n",
    "puzzle.show_table()\n",
    "puzzle.show_list()\n",
    "print(blocks.block_list[2])\n",
    "puzzle.load_block(1,blocks.block_list[2])\n",
    "puzzle.show_table()\n",
    "puzzle.show_list()\n",
    "puzzle.isFull()"
   ]
  },
  {
   "cell_type": "code",
   "execution_count": 262,
   "metadata": {},
   "outputs": [
    {
     "name": "stdout",
     "output_type": "stream",
     "text": [
      "Block(id=1, shape='o', data=(1,), fill_number=1, row=1, col=1, used=False)\n",
      "load_block() called 1 1\n",
      "block loaded\n",
      ".1.x.x.x.x.x.x.x\n",
      ".x.x.x.x.x.x.x.x\n",
      ".x.x.x.x.x.x.x.x\n",
      ".x.x.x.x.x.x.x.x\n",
      ".x.x.x.x.x.x.x.x\n",
      ".x.x.x.x.x.x.x.x\n",
      "\n",
      "Block(id=2, shape='xox;xox;ooo', data=(2, 10, 17, 18, 19), fill_number=5, row=3, col=3, used=False)\n",
      "load_block() called 1 2\n",
      "block loaded\n",
      ".x.2.x.x.x.x.x.x\n",
      ".x.2.x.x.x.x.x.x\n",
      ".2.2.2.x.x.x.x.x\n",
      ".x.x.x.x.x.x.x.x\n",
      ".x.x.x.x.x.x.x.x\n",
      ".x.x.x.x.x.x.x.x\n",
      "\n",
      "Block(id=3, shape='xox;ooo;xox', data=(2, 9, 10, 11, 18), fill_number=5, row=3, col=3, used=False)\n",
      "load_block() called 1 3\n",
      "block loaded\n",
      ".x.3.x.x.x.x.x.x\n",
      ".3.3.3.x.x.x.x.x\n",
      ".x.3.x.x.x.x.x.x\n",
      ".x.x.x.x.x.x.x.x\n",
      ".x.x.x.x.x.x.x.x\n",
      ".x.x.x.x.x.x.x.x\n",
      "\n",
      "Block(id=4, shape='oxx;oox;xoo', data=(1, 9, 10, 18, 19), fill_number=5, row=3, col=3, used=False)\n",
      "load_block() called 1 4\n",
      "block loaded\n",
      ".4.x.x.x.x.x.x.x\n",
      ".4.4.x.x.x.x.x.x\n",
      ".x.4.4.x.x.x.x.x\n",
      ".x.x.x.x.x.x.x.x\n",
      ".x.x.x.x.x.x.x.x\n",
      ".x.x.x.x.x.x.x.x\n",
      "\n",
      "Block(id=5, shape='oo;ox;ox', data=(1, 2, 9, 17), fill_number=4, row=3, col=2, used=False)\n",
      "load_block() called 1 5\n",
      "block loaded\n",
      ".5.5.x.x.x.x.x.x\n",
      ".5.x.x.x.x.x.x.x\n",
      ".5.x.x.x.x.x.x.x\n",
      ".x.x.x.x.x.x.x.x\n",
      ".x.x.x.x.x.x.x.x\n",
      ".x.x.x.x.x.x.x.x\n",
      "\n",
      "Block(id=6, shape='ooxx;xooo', data=(1, 2, 10, 11, 12), fill_number=5, row=2, col=4, used=False)\n",
      "load_block() called 1 6\n",
      "block loaded\n",
      ".6.6.x.x.x.x.x.x\n",
      ".x.6.6.6.x.x.x.x\n",
      ".x.x.x.x.x.x.x.x\n",
      ".x.x.x.x.x.x.x.x\n",
      ".x.x.x.x.x.x.x.x\n",
      ".x.x.x.x.x.x.x.x\n",
      "\n",
      "Block(id=7, shape='oooo;xoxx', data=(1, 2, 3, 4, 10), fill_number=5, row=2, col=4, used=False)\n",
      "load_block() called 1 7\n",
      "block loaded\n",
      ".7.7.7.7.x.x.x.x\n",
      ".x.7.x.x.x.x.x.x\n",
      ".x.x.x.x.x.x.x.x\n",
      ".x.x.x.x.x.x.x.x\n",
      ".x.x.x.x.x.x.x.x\n",
      ".x.x.x.x.x.x.x.x\n",
      "\n",
      "Block(id=8, shape='xxo;ooo', data=(3, 9, 10, 11), fill_number=4, row=2, col=3, used=False)\n",
      "load_block() called 1 8\n",
      "block loaded\n",
      ".x.x.8.x.x.x.x.x\n",
      ".8.8.8.x.x.x.x.x\n",
      ".x.x.x.x.x.x.x.x\n",
      ".x.x.x.x.x.x.x.x\n",
      ".x.x.x.x.x.x.x.x\n",
      ".x.x.x.x.x.x.x.x\n",
      "\n",
      "Block(id=9, shape='xox;ooo;xxo', data=(2, 9, 10, 11, 19), fill_number=5, row=3, col=3, used=False)\n",
      "load_block() called 1 9\n",
      "block loaded\n",
      ".x.9.x.x.x.x.x.x\n",
      ".9.9.9.x.x.x.x.x\n",
      ".x.x.9.x.x.x.x.x\n",
      ".x.x.x.x.x.x.x.x\n",
      ".x.x.x.x.x.x.x.x\n",
      ".x.x.x.x.x.x.x.x\n",
      "\n",
      "Block(id=10, shape='o;o;o;o;o', data=(1, 9, 17, 25, 33), fill_number=5, row=5, col=1, used=False)\n",
      "load_block() called 1 10\n",
      "block loaded\n",
      "10.x.x.x.x.x.x.x\n",
      "10.x.x.x.x.x.x.x\n",
      "10.x.x.x.x.x.x.x\n",
      "10.x.x.x.x.x.x.x\n",
      "10.x.x.x.x.x.x.x\n",
      ".x.x.x.x.x.x.x.x\n",
      "\n",
      "Block(id=11, shape='oo;xo;xo', data=(1, 2, 10, 18), fill_number=4, row=3, col=2, used=False)\n",
      "load_block() called 1 11\n",
      "block loaded\n",
      "1111.x.x.x.x.x.x\n",
      ".x11.x.x.x.x.x.x\n",
      ".x11.x.x.x.x.x.x\n",
      ".x.x.x.x.x.x.x.x\n",
      ".x.x.x.x.x.x.x.x\n",
      ".x.x.x.x.x.x.x.x\n",
      "\n"
     ]
    }
   ],
   "source": [
    "puzzle.table_init()\n",
    "for b in blocks.block_list:\n",
    "    print(b)\n",
    "    puzzle.load_block(1,b)\n",
    "    puzzle.show_table()\n",
    "    puzzle.table_init()"
   ]
  },
  {
   "cell_type": "code",
   "execution_count": 263,
   "metadata": {
    "scrolled": false
   },
   "outputs": [
    {
     "name": "stdout",
     "output_type": "stream",
     "text": [
      "load_block() called 1 2\n",
      "block loaded\n",
      ".x.2.x.x.x.x.x.x\n",
      ".x.2.x.x.x.x.x.x\n",
      ".2.2.2.x.x.x.x.x\n",
      ".x.x.x.x.x.x.x.x\n",
      ".x.x.x.x.x.x.x.x\n",
      ".x.x.x.x.x.x.x.x\n",
      "\n",
      "load_block() called 2 2\n",
      "block loaded\n",
      ".x.x.2.x.x.x.x.x\n",
      ".x.x.2.x.x.x.x.x\n",
      ".x.2.2.2.x.x.x.x\n",
      ".x.x.x.x.x.x.x.x\n",
      ".x.x.x.x.x.x.x.x\n",
      ".x.x.x.x.x.x.x.x\n",
      "\n",
      "load_block() called 3 2\n",
      "block loaded\n",
      ".x.x.x.2.x.x.x.x\n",
      ".x.x.x.2.x.x.x.x\n",
      ".x.x.2.2.2.x.x.x\n",
      ".x.x.x.x.x.x.x.x\n",
      ".x.x.x.x.x.x.x.x\n",
      ".x.x.x.x.x.x.x.x\n",
      "\n",
      "load_block() called 4 2\n",
      "block loaded\n",
      ".x.x.x.x.2.x.x.x\n",
      ".x.x.x.x.2.x.x.x\n",
      ".x.x.x.2.2.2.x.x\n",
      ".x.x.x.x.x.x.x.x\n",
      ".x.x.x.x.x.x.x.x\n",
      ".x.x.x.x.x.x.x.x\n",
      "\n",
      "load_block() called 5 2\n",
      "block loaded\n",
      ".x.x.x.x.x.2.x.x\n",
      ".x.x.x.x.x.2.x.x\n",
      ".x.x.x.x.2.2.2.x\n",
      ".x.x.x.x.x.x.x.x\n",
      ".x.x.x.x.x.x.x.x\n",
      ".x.x.x.x.x.x.x.x\n",
      "\n",
      "load_block() called 6 2\n",
      "block loaded\n",
      ".x.x.x.x.x.x.2.x\n",
      ".x.x.x.x.x.x.2.x\n",
      ".x.x.x.x.x.2.2.2\n",
      ".x.x.x.x.x.x.x.x\n",
      ".x.x.x.x.x.x.x.x\n",
      ".x.x.x.x.x.x.x.x\n",
      "\n",
      "load_block() called 9 2\n",
      "block loaded\n",
      ".x.x.x.x.x.x.x.x\n",
      ".x.2.x.x.x.x.x.x\n",
      ".x.2.x.x.x.x.x.x\n",
      ".2.2.2.x.x.x.x.x\n",
      ".x.x.x.x.x.x.x.x\n",
      ".x.x.x.x.x.x.x.x\n",
      "\n",
      "load_block() called 10 2\n",
      "block loaded\n",
      ".x.x.x.x.x.x.x.x\n",
      ".x.x.2.x.x.x.x.x\n",
      ".x.x.2.x.x.x.x.x\n",
      ".x.2.2.2.x.x.x.x\n",
      ".x.x.x.x.x.x.x.x\n",
      ".x.x.x.x.x.x.x.x\n",
      "\n",
      "load_block() called 11 2\n",
      "block loaded\n",
      ".x.x.x.x.x.x.x.x\n",
      ".x.x.x.2.x.x.x.x\n",
      ".x.x.x.2.x.x.x.x\n",
      ".x.x.2.2.2.x.x.x\n",
      ".x.x.x.x.x.x.x.x\n",
      ".x.x.x.x.x.x.x.x\n",
      "\n",
      "load_block() called 12 2\n",
      "block loaded\n",
      ".x.x.x.x.x.x.x.x\n",
      ".x.x.x.x.2.x.x.x\n",
      ".x.x.x.x.2.x.x.x\n",
      ".x.x.x.2.2.2.x.x\n",
      ".x.x.x.x.x.x.x.x\n",
      ".x.x.x.x.x.x.x.x\n",
      "\n",
      "load_block() called 13 2\n",
      "block loaded\n",
      ".x.x.x.x.x.x.x.x\n",
      ".x.x.x.x.x.2.x.x\n",
      ".x.x.x.x.x.2.x.x\n",
      ".x.x.x.x.2.2.2.x\n",
      ".x.x.x.x.x.x.x.x\n",
      ".x.x.x.x.x.x.x.x\n",
      "\n",
      "load_block() called 14 2\n",
      "block loaded\n",
      ".x.x.x.x.x.x.x.x\n",
      ".x.x.x.x.x.x.2.x\n",
      ".x.x.x.x.x.x.2.x\n",
      ".x.x.x.x.x.2.2.2\n",
      ".x.x.x.x.x.x.x.x\n",
      ".x.x.x.x.x.x.x.x\n",
      "\n",
      "load_block() called 17 2\n",
      "block loaded\n",
      ".x.x.x.x.x.x.x.x\n",
      ".x.x.x.x.x.x.x.x\n",
      ".x.2.x.x.x.x.x.x\n",
      ".x.2.x.x.x.x.x.x\n",
      ".2.2.2.x.x.x.x.x\n",
      ".x.x.x.x.x.x.x.x\n",
      "\n",
      "load_block() called 18 2\n",
      "block loaded\n",
      ".x.x.x.x.x.x.x.x\n",
      ".x.x.x.x.x.x.x.x\n",
      ".x.x.2.x.x.x.x.x\n",
      ".x.x.2.x.x.x.x.x\n",
      ".x.2.2.2.x.x.x.x\n",
      ".x.x.x.x.x.x.x.x\n",
      "\n",
      "load_block() called 19 2\n",
      "block loaded\n",
      ".x.x.x.x.x.x.x.x\n",
      ".x.x.x.x.x.x.x.x\n",
      ".x.x.x.2.x.x.x.x\n",
      ".x.x.x.2.x.x.x.x\n",
      ".x.x.2.2.2.x.x.x\n",
      ".x.x.x.x.x.x.x.x\n",
      "\n",
      "load_block() called 20 2\n",
      "block loaded\n",
      ".x.x.x.x.x.x.x.x\n",
      ".x.x.x.x.x.x.x.x\n",
      ".x.x.x.x.2.x.x.x\n",
      ".x.x.x.x.2.x.x.x\n",
      ".x.x.x.2.2.2.x.x\n",
      ".x.x.x.x.x.x.x.x\n",
      "\n",
      "load_block() called 21 2\n",
      "block loaded\n",
      ".x.x.x.x.x.x.x.x\n",
      ".x.x.x.x.x.x.x.x\n",
      ".x.x.x.x.x.2.x.x\n",
      ".x.x.x.x.x.2.x.x\n",
      ".x.x.x.x.2.2.2.x\n",
      ".x.x.x.x.x.x.x.x\n",
      "\n",
      "load_block() called 22 2\n",
      "block loaded\n",
      ".x.x.x.x.x.x.x.x\n",
      ".x.x.x.x.x.x.x.x\n",
      ".x.x.x.x.x.x.2.x\n",
      ".x.x.x.x.x.x.2.x\n",
      ".x.x.x.x.x.2.2.2\n",
      ".x.x.x.x.x.x.x.x\n",
      "\n",
      "load_block() called 25 2\n",
      "block loaded\n",
      ".x.x.x.x.x.x.x.x\n",
      ".x.x.x.x.x.x.x.x\n",
      ".x.x.x.x.x.x.x.x\n",
      ".x.2.x.x.x.x.x.x\n",
      ".x.2.x.x.x.x.x.x\n",
      ".2.2.2.x.x.x.x.x\n",
      "\n",
      "load_block() called 26 2\n",
      "block loaded\n",
      ".x.x.x.x.x.x.x.x\n",
      ".x.x.x.x.x.x.x.x\n",
      ".x.x.x.x.x.x.x.x\n",
      ".x.x.2.x.x.x.x.x\n",
      ".x.x.2.x.x.x.x.x\n",
      ".x.2.2.2.x.x.x.x\n",
      "\n",
      "load_block() called 27 2\n",
      "block loaded\n",
      ".x.x.x.x.x.x.x.x\n",
      ".x.x.x.x.x.x.x.x\n",
      ".x.x.x.x.x.x.x.x\n",
      ".x.x.x.2.x.x.x.x\n",
      ".x.x.x.2.x.x.x.x\n",
      ".x.x.2.2.2.x.x.x\n",
      "\n",
      "load_block() called 28 2\n",
      "block loaded\n",
      ".x.x.x.x.x.x.x.x\n",
      ".x.x.x.x.x.x.x.x\n",
      ".x.x.x.x.x.x.x.x\n",
      ".x.x.x.x.2.x.x.x\n",
      ".x.x.x.x.2.x.x.x\n",
      ".x.x.x.2.2.2.x.x\n",
      "\n",
      "load_block() called 29 2\n",
      "block loaded\n",
      ".x.x.x.x.x.x.x.x\n",
      ".x.x.x.x.x.x.x.x\n",
      ".x.x.x.x.x.x.x.x\n",
      ".x.x.x.x.x.2.x.x\n",
      ".x.x.x.x.x.2.x.x\n",
      ".x.x.x.x.2.2.2.x\n",
      "\n",
      "load_block() called 30 2\n",
      "block loaded\n",
      ".x.x.x.x.x.x.x.x\n",
      ".x.x.x.x.x.x.x.x\n",
      ".x.x.x.x.x.x.x.x\n",
      ".x.x.x.x.x.x.2.x\n",
      ".x.x.x.x.x.x.2.x\n",
      ".x.x.x.x.x.2.2.2\n",
      "\n"
     ]
    }
   ],
   "source": [
    "puzzle.table_init()\n",
    "b=blocks.block_list[1]\n",
    "for i,v in puzzle.table.items():\n",
    "    if puzzle.isLoadable(i,b):\n",
    "        puzzle.load_block(i,b)\n",
    "        puzzle.show_table()\n",
    "        puzzle.table_init()"
   ]
  },
  {
   "cell_type": "code",
   "execution_count": 264,
   "metadata": {
    "scrolled": false
   },
   "outputs": [
    {
     "name": "stdout",
     "output_type": "stream",
     "text": [
      "load_block() called 1 1\n",
      "block loaded\n",
      "1 1block loaded; load_block() called 1 2\n",
      "block loaded\n",
      "1 2block loaded; 1 3; 1 4; 1 5; 1 6; 1 7; 1 8; 1 9; 1 10; 1 11; 2 1; 2 2; 2 3; 2 4; 2 5; 2 6; 2 7; 2 8; 2 9; 2 10; 2 11; load_block() called 3 1\n",
      "block loaded\n",
      "3 1block loaded; 3 2; load_block() called 3 3\n",
      "block loaded\n",
      "3 3block loaded; 3 4; 3 5; 3 6; 3 7; 3 8; 3 9; 3 10; 3 11; 4 1; 4 2; 4 3; 4 4; 4 5; 4 6; 4 7; 4 8; 4 9; 4 10; 4 11; load_block() called 5 1\n",
      "block loaded\n",
      "5 1block loaded; load_block() called 5 2\n",
      "block loaded\n",
      "5 2block loaded; 5 3; 5 4; 5 5; 5 6; 5 7; 5 8; 5 9; 5 10; 5 11; 6 1; 6 2; 6 3; 6 4; 6 5; 6 6; 6 7; 6 8; 6 9; 6 10; 6 11; load_block() called 7 1\n",
      "block loaded\n",
      "7 1block loaded; 7 2; 7 3; 7 4; 7 5; 7 6; 7 7; 7 8; 7 9; 7 10; 7 11; load_block() called 8 1\n",
      "block loaded\n",
      "8 1block loaded; 8 2; 8 3; 8 4; 8 5; 8 6; 8 7; 8 8; 8 9; 8 10; 8 11; load_block() called 9 1\n",
      "block loaded\n",
      "9 1block loaded; 9 2; 9 3; 9 4; 9 5; 9 6; 9 7; 9 8; 9 9; 9 10; 9 11; 10 1; 10 2; 10 3; 10 4; 10 5; 10 6; 10 7; 10 8; 10 9; 10 10; 10 11; 11 1; 11 2; 11 3; 11 4; 11 5; 11 6; 11 7; 11 8; 11 9; 11 10; 11 11; 12 1; 12 2; 12 3; 12 4; 12 5; 12 6; 12 7; 12 8; 12 9; 12 10; 12 11; 13 1; 13 2; 13 3; 13 4; 13 5; 13 6; 13 7; 13 8; 13 9; 13 10; 13 11; 14 1; 14 2; 14 3; 14 4; 14 5; 14 6; 14 7; 14 8; 14 9; 14 10; 14 11; load_block() called 15 1\n",
      "block loaded\n",
      "15 1block loaded; 15 2; 15 3; 15 4; 15 5; 15 6; 15 7; 15 8; 15 9; 15 10; 15 11; load_block() called 16 1\n",
      "block loaded\n",
      "16 1block loaded; 16 2; 16 3; 16 4; 16 5; 16 6; 16 7; 16 8; 16 9; 16 10; 16 11; 17 1; 17 2; 17 3; 17 4; 17 5; 17 6; 17 7; 17 8; 17 9; 17 10; 17 11; 18 1; 18 2; 18 3; 18 4; 18 5; 18 6; 18 7; 18 8; 18 9; 18 10; 18 11; 19 1; 19 2; 19 3; 19 4; 19 5; 19 6; 19 7; 19 8; 19 9; 19 10; 19 11; 20 1; 20 2; 20 3; 20 4; 20 5; 20 6; 20 7; 20 8; 20 9; 20 10; 20 11; 21 1; 21 2; 21 3; 21 4; 21 5; 21 6; 21 7; 21 8; 21 9; 21 10; 21 11; 22 1; 22 2; 22 3; 22 4; 22 5; 22 6; 22 7; load_block() called 22 8\n",
      "block loaded\n",
      "22 8block loaded; 22 9; 22 10; 22 11; 23 1; 23 2; 23 3; 23 4; 23 5; 23 6; 23 7; 23 8; 23 9; 23 10; 23 11; 24 1; 24 2; 24 3; 24 4; 24 5; 24 6; 24 7; 24 8; 24 9; 24 10; 24 11; load_block() called 25 1\n",
      "block loaded\n",
      "25 1block loaded; load_block() called 25 2\n",
      "block loaded\n",
      "25 2block loaded; 25 3; 25 4; 25 5; 25 6; 25 7; 25 8; 25 9; 25 10; 25 11; 26 1; 26 2; 26 3; 26 4; 26 5; 26 6; 26 7; 26 8; 26 9; 26 10; 26 11; load_block() called 27 1\n",
      "block loaded\n",
      "27 1block loaded; 27 2; load_block() called 27 3\n",
      "block loaded\n",
      "27 3block loaded; 27 4; 27 5; 27 6; 27 7; 27 8; 27 9; 27 10; 27 11; 28 1; 28 2; 28 3; 28 4; 28 5; 28 6; 28 7; 28 8; 28 9; 28 10; 28 11; load_block() called 29 1\n",
      "block loaded\n",
      "29 1block loaded; 29 2; 29 3; 29 4; 29 5; 29 6; 29 7; 29 8; 29 9; 29 10; 29 11; 30 1; 30 2; 30 3; 30 4; 30 5; 30 6; 30 7; 30 8; 30 9; 30 10; 30 11; 31 1; 31 2; 31 3; 31 4; 31 5; 31 6; 31 7; 31 8; 31 9; 31 10; 31 11; 32 1; 32 2; 32 3; 32 4; 32 5; 32 6; 32 7; 32 8; 32 9; 32 10; 32 11; load_block() called 33 1\n",
      "block loaded\n",
      "33 1block loaded; 33 2; 33 3; 33 4; 33 5; 33 6; 33 7; 33 8; 33 9; 33 10; 33 11; 34 1; 34 2; 34 3; 34 4; 34 5; 34 6; 34 7; 34 8; 34 9; 34 10; 34 11; 35 1; 35 2; 35 3; 35 4; 35 5; 35 6; 35 7; 35 8; 35 9; 35 10; 35 11; 36 1; 36 2; 36 3; 36 4; 36 5; 36 6; 36 7; 36 8; 36 9; 36 10; 36 11; 37 1; 37 2; 37 3; 37 4; 37 5; 37 6; 37 7; load_block() called 37 8\n",
      "block loaded\n",
      "37 8block loaded; 37 9; 37 10; 37 11; load_block() called 38 1\n",
      "block loaded\n",
      "38 1block loaded; 38 2; 38 3; 38 4; 38 5; 38 6; 38 7; 38 8; 38 9; 38 10; 38 11; 39 1; 39 2; 39 3; 39 4; 39 5; 39 6; 39 7; 39 8; 39 9; 39 10; 39 11; load_block() called 40 1\n",
      "block loaded\n",
      "40 1block loaded; 40 2; 40 3; 40 4; 40 5; 40 6; 40 7; 40 8; 40 9; 40 10; 40 11; 41 1; 41 2; 41 3; 41 4; 41 5; 41 6; 41 7; 41 8; 41 9; 41 10; 41 11; 42 1; 42 2; 42 3; 42 4; 42 5; 42 6; 42 7; 42 8; 42 9; 42 10; 42 11; 43 1; 43 2; 43 3; 43 4; 43 5; 43 6; 43 7; 43 8; 43 9; 43 10; 43 11; 44 1; 44 2; 44 3; 44 4; 44 5; 44 6; 44 7; 44 8; 44 9; 44 10; 44 11; 45 1; 45 2; 45 3; 45 4; 45 5; 45 6; 45 7; 45 8; 45 9; 45 10; 45 11; 46 1; 46 2; 46 3; 46 4; 46 5; 46 6; 46 7; 46 8; 46 9; 46 10; 46 11; 47 1; 47 2; 47 3; 47 4; 47 5; 47 6; 47 7; 47 8; 47 9; 47 10; 47 11; load_block() called 48 1\n",
      "block loaded\n",
      "48 1block loaded; 48 2; 48 3; 48 4; 48 5; 48 6; 48 7; 48 8; 48 9; 48 10; 48 11; .1.2.1.3.1.2.1.1\n",
      ".1.2.3.3.3.2.1.1\n",
      ".2.2.2.3.2.2.2.8\n",
      ".1.2.1.3.1.8.8.8\n",
      ".1.2.3.3.3.1.8.1\n",
      ".2.2.2.3.8.8.8.1\n",
      "\n"
     ]
    },
    {
     "data": {
      "text/plain": [
       "<__main__.Puzzle at 0x7f77fdba5ba8>"
      ]
     },
     "execution_count": 264,
     "metadata": {},
     "output_type": "execute_result"
    }
   ],
   "source": [
    "for ti,tv in puzzle.table.items():\n",
    "    for b in blocks.block_list:\n",
    "        if b.used == False and puzzle.isLoadable(ti,b):\n",
    "            puzzle.load_block(ti,b)\n",
    "            b.used == True\n",
    "            print(ti,b.id, end='block loaded; ')\n",
    "        else:\n",
    "            print(ti,b.id, end='; ')\n",
    "puzzle.show_table()"
   ]
  },
  {
   "cell_type": "code",
   "execution_count": 181,
   "metadata": {},
   "outputs": [
    {
     "name": "stdout",
     "output_type": "stream",
     "text": [
      "x2xxxxxx\n",
      "x2xxxxxx\n",
      "222xxxxx\n",
      "xxxxxxxx\n",
      "xxxxxxxx\n",
      "xxxxxxxx\n",
      "\n"
     ]
    },
    {
     "data": {
      "text/plain": [
       "<__main__.Puzzle at 0x7f77fdbc1f60>"
      ]
     },
     "execution_count": 181,
     "metadata": {},
     "output_type": "execute_result"
    }
   ],
   "source": [
    "puzzle.show_table()"
   ]
  },
  {
   "cell_type": "code",
   "execution_count": 265,
   "metadata": {},
   "outputs": [
    {
     "data": {
      "text/plain": [
       "[Block(id=1, shape='o', data=(1,), fill_number=1, row=1, col=1, used=False),\n",
       " Block(id=2, shape='xox;xox;ooo', data=(2, 10, 17, 18, 19), fill_number=5, row=3, col=3, used=False),\n",
       " Block(id=3, shape='xox;ooo;xox', data=(2, 9, 10, 11, 18), fill_number=5, row=3, col=3, used=False),\n",
       " Block(id=4, shape='oxx;oox;xoo', data=(1, 9, 10, 18, 19), fill_number=5, row=3, col=3, used=False),\n",
       " Block(id=5, shape='oo;ox;ox', data=(1, 2, 9, 17), fill_number=4, row=3, col=2, used=False),\n",
       " Block(id=6, shape='ooxx;xooo', data=(1, 2, 10, 11, 12), fill_number=5, row=2, col=4, used=False),\n",
       " Block(id=7, shape='oooo;xoxx', data=(1, 2, 3, 4, 10), fill_number=5, row=2, col=4, used=False),\n",
       " Block(id=8, shape='xxo;ooo', data=(3, 9, 10, 11), fill_number=4, row=2, col=3, used=False),\n",
       " Block(id=9, shape='xox;ooo;xxo', data=(2, 9, 10, 11, 19), fill_number=5, row=3, col=3, used=False),\n",
       " Block(id=10, shape='o;o;o;o;o', data=(1, 9, 17, 25, 33), fill_number=5, row=5, col=1, used=False),\n",
       " Block(id=11, shape='oo;xo;xo', data=(1, 2, 10, 18), fill_number=4, row=3, col=2, used=False)]"
      ]
     },
     "execution_count": 265,
     "metadata": {},
     "output_type": "execute_result"
    }
   ],
   "source": [
    "blocks.block_list"
   ]
  },
  {
   "cell_type": "code",
   "execution_count": null,
   "metadata": {},
   "outputs": [],
   "source": [
    "### REF\n",
    "class Puzzle:\n",
    "    table_row = 6\n",
    "    table_column = 8\n",
    "    table = {}\n",
    "    \n",
    "    err_duplicated = []\n",
    "    \n",
    "    shapes = ['o',\n",
    "        'xox;xox;ooo',\n",
    "        'xox;ooo;xox',\n",
    "        'oxx;oox;xoo',\n",
    "        'oo;ox;ox',\n",
    "        'ooxx;xooo',\n",
    "        'oooo;xoxx',\n",
    "        'xxo;ooo',\n",
    "        'xox;ooo;xxo',\n",
    "        'o;o;o;o;o',\n",
    "        'oo;xo;xo']\n",
    "    \n",
    "    def __init__(self):\n",
    "        # self.dims = [ (len(shape.split(';')),len(shape.split(';')[0])) for shape in self.shapes ]\n",
    "        # self._blocks = [Block2(shape, (len(shape.split(';')),len(shape.split(';')[0])) ) for shape in self.shapes]\n",
    "        \n",
    "        self.new()\n",
    "        \n",
    "        self._blocks = []\n",
    "        for shape in self.shapes:\n",
    "            shape_list = shape.split(';')\n",
    "            shape_fill = []\n",
    "            for i,r in enumerate(shape_list):\n",
    "                for j,c in enumerate(r):\n",
    "                    if c=='o':\n",
    "                        shape_fill.append((i,j))\n",
    "\n",
    "            self._blocks.append( Block3(shape, (len(shape_list),len(shape_list[0])), shape_fill, len(self._blocks)) )\n",
    "\n",
    "\n",
    "    def __len__(self):\n",
    "        return len(self._blocks)\n",
    "    \n",
    "    def __getitem__(self, position):\n",
    "        return self._blocks[position]\n",
    "    \n",
    "    \n",
    "    def new(self):\n",
    "        for r in range(self.table_row):\n",
    "            for c in range(self.table_column):\n",
    "                self.table[r,c]='x'\n",
    "        return self\n",
    "        \n",
    "    def show_table(self):\n",
    "        #print('table size : {} x {}'.format(table_row, table_column))\n",
    "        result = ''\n",
    "        for r in range(self.table_row):\n",
    "            for c in range(self.table_column):\n",
    "                if self.table[(r,c)] == 'x':\n",
    "                    result+='x'\n",
    "                elif (r,c) in self.err_duplicated:\n",
    "                    result+='\\033[93'+self.table[(r,c)]+'\\033[00'\n",
    "                else:\n",
    "                    result+=self.table[(r,c)]\n",
    "            result+='\\n'\n",
    "        print(result)\n",
    "        if len(self.err_duplicated) > 0 :\n",
    "            print('block duplicated :', self.err_duplicated)\n",
    "        \n",
    "    def load_block(self, coor, block : Block3):\n",
    "        # move coordination\n",
    "        fill_list = []\n",
    "        for e in block.shape_fill:\n",
    "            new_row = e[0]+coor[0]\n",
    "            new_collumn = e[1]+coor[1]\n",
    "            \n",
    "            fill_list.append((new_row, new_collumn))\n",
    "            \n",
    "        # check if loadable\n",
    "        for f in fill_list:\n",
    "            if self.table[f] != 'x':\n",
    "                self.err_duplicated.append(f)\n",
    "\n",
    "        # fill table and return\n",
    "        for f in fill_list:   \n",
    "            self.table[f]=str(block.id)\n",
    "        return self"
   ]
  },
  {
   "cell_type": "code",
   "execution_count": 14,
   "metadata": {},
   "outputs": [
    {
     "name": "stdout",
     "output_type": "stream",
     "text": [
      "xxxxxxxxxxxxxxxxxxxxxxxxxxxxxxxxxxxxxxxxxxxxxxxx\n",
      "1xxxxxx111xxxxxx1xxxxxxxxxxxxxxxxxxxxxxxxxxxxxxx\n",
      "total number of blocks :  48\n",
      "empty blocks :  43\n"
     ]
    }
   ],
   "source": [
    "\n",
    "# print(blocks[0])\n",
    "table = {n:'x' for n in range(1,49)}\n",
    "# print(table)\n",
    "show_list()\n",
    "# show_table()\n",
    "for e in blocks[1]:\n",
    "    table[e+1] = \"1\"\n",
    "show_list()\n",
    "# show_table()\n",
    "print('total number of blocks : ',len(table))\n",
    "print('empty blocks : ',sum(value=='x' for value in table.values()))\n",
    "\n",
    "#for a in range():"
   ]
  },
  {
   "cell_type": "code",
   "execution_count": 16,
   "metadata": {
    "scrolled": true
   },
   "outputs": [
    {
     "name": "stdout",
     "output_type": "stream",
     "text": [
      "{'1': False, '2': False, '3': False, '4': False, '5': False, '6': False, '7': False, '8': False, '9': False, '10': False, '11': False, '12': False, '13': False, '14': False, '15': False, '16': False, '17': False, '18': False, '19': False, '20': False, '21': False, '22': False, '23': False, '24': False, '25': False, '26': False, '27': False, '28': False, '29': False, '30': False, '31': False, '32': False, '33': False, '34': False, '35': False, '36': False, '37': False, '38': False, '39': False, '40': False, '41': False, '42': False, '43': False, '44': False, '45': False, '46': False, '47': False, '48': False}\n"
     ]
    }
   ],
   "source": [
    "print({str(n):False for n in range(1,49)})"
   ]
  },
  {
   "cell_type": "code",
   "execution_count": null,
   "metadata": {},
   "outputs": [],
   "source": [
    "class Puzzle:\n",
    "    blocks = [(0),\n",
    "            (0,8,15,16,17),\n",
    "            (0,7,8,9,16),\n",
    "            (0,8,9,16,17),\n",
    "            (0,1,8,16),\n",
    "            (0,1,8,16),\n",
    "            (0,1,9,10,11),\n",
    "            (0,1,2,3,9),\n",
    "            (0,6,7,8),\n",
    "            (0,7,8,9,17),\n",
    "            (0,8,16,24,32),\n",
    "            (0,1,9,17)\n",
    "            ]\n",
    "    "
   ]
  },
  {
   "cell_type": "code",
   "execution_count": 23,
   "metadata": {},
   "outputs": [
    {
     "ename": "TypeError",
     "evalue": "can only concatenate list (not \"int\") to list",
     "output_type": "error",
     "traceback": [
      "\u001b[0;31m---------------------------------------------------------------------------\u001b[0m",
      "\u001b[0;31mTypeError\u001b[0m                                 Traceback (most recent call last)",
      "\u001b[0;32m<ipython-input-23-e259f035f6b7>\u001b[0m in \u001b[0;36m<module>\u001b[0;34m\u001b[0m\n\u001b[0;32m----> 1\u001b[0;31m \u001b[0;34m[\u001b[0m\u001b[0;36m1\u001b[0m\u001b[0;34m,\u001b[0m\u001b[0;36m2\u001b[0m\u001b[0;34m,\u001b[0m\u001b[0;36m3\u001b[0m\u001b[0;34m]\u001b[0m \u001b[0;34m+\u001b[0m \u001b[0;36m1\u001b[0m\u001b[0;34m\u001b[0m\u001b[0;34m\u001b[0m\u001b[0m\n\u001b[0m",
      "\u001b[0;31mTypeError\u001b[0m: can only concatenate list (not \"int\") to list"
     ]
    }
   ],
   "source": [
    "[1,2,3] + 1"
   ]
  }
 ],
 "metadata": {
  "kernelspec": {
   "display_name": "Python 3",
   "language": "python",
   "name": "python3"
  },
  "language_info": {
   "codemirror_mode": {
    "name": "ipython",
    "version": 3
   },
   "file_extension": ".py",
   "mimetype": "text/x-python",
   "name": "python",
   "nbconvert_exporter": "python",
   "pygments_lexer": "ipython3",
   "version": "3.6.9"
  }
 },
 "nbformat": 4,
 "nbformat_minor": 4
}

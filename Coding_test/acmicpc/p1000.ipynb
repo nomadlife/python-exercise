{
 "cells": [
  {
   "cell_type": "markdown",
   "metadata": {},
   "source": [
    "## 1000"
   ]
  },
  {
   "cell_type": "code",
   "execution_count": 1,
   "metadata": {},
   "outputs": [
    {
     "name": "stdout",
     "output_type": "stream",
     "text": [
      "1 2\n",
      "3\n"
     ]
    }
   ],
   "source": [
    "a, b = map(int, input().split())\n",
    "print(a+b)"
   ]
  },
  {
   "cell_type": "markdown",
   "metadata": {},
   "source": [
    "## 1002"
   ]
  },
  {
   "cell_type": "code",
   "execution_count": 3,
   "metadata": {},
   "outputs": [
    {
     "name": "stdout",
     "output_type": "stream",
     "text": [
      "3\n",
      "1 2 3 1 2 3\n",
      "1 2 3 1 2 3\n",
      "2 3 4 2 3  4\n",
      "2 3 4 2 3 4\n",
      "12 23 2 21 43 3\n",
      "12 23 2 21 43 3\n"
     ]
    }
   ],
   "source": [
    "loop = int(input())\n",
    "for i in range(loop):\n",
    "    x1,y1,r1,x2,y2,r2 = map(int, input().split())\n",
    "    print(x1,y1,r1,x2,y2,r2)\n"
   ]
  },
  {
   "cell_type": "code",
   "execution_count": 7,
   "metadata": {},
   "outputs": [
    {
     "name": "stdout",
     "output_type": "stream",
     "text": [
      "3\n",
      "0 0 13 40 0 37\n",
      "13 37 50 40.0\n",
      "0 0 3 0 7 4\n",
      "3 4 7 7.0\n",
      "1 1 1 1 1 5\n",
      "1 5 6 0.0\n"
     ]
    }
   ],
   "source": [
    "loop = int(input())\n",
    "for i in range(loop):\n",
    "    x1,y1,r1,x2,y2,r2 = map(int, input().split())\n",
    "    distance = ((x2-x1)**2 + (y2-y1)**2)**0.5\n",
    "    print(r1,r2,r1+r2,distance)\n"
   ]
  },
  {
   "cell_type": "code",
   "execution_count": 1,
   "metadata": {},
   "outputs": [
    {
     "data": {
      "text/plain": [
       "1"
      ]
     },
     "execution_count": 1,
     "metadata": {},
     "output_type": "execute_result"
    }
   ],
   "source": [
    "abs(-1)"
   ]
  },
  {
   "cell_type": "code",
   "execution_count": 4,
   "metadata": {},
   "outputs": [
    {
     "name": "stdout",
     "output_type": "stream",
     "text": [
      "3\n",
      "0 0 13 40 0 37\n",
      "2\n",
      "0 0 3 0 7 4\n",
      "1\n",
      "1 1 1 1 1 5\n",
      "0\n"
     ]
    }
   ],
   "source": [
    "loop = int(input())\n",
    "for i in range(loop):\n",
    "    x1,y1,r1,x2,y2,r2 = map(int, input().split())\n",
    "    if x1 == x2 and y1 == y2 and r1 == r2:\n",
    "        print(-1)\n",
    "    else:\n",
    "        distance = ((x2-x1)**2 + (y2-y1)**2)**0.5\n",
    "        if r1+r2 > distance and abs(r1-r2) < distance:\n",
    "            print(2)\n",
    "        elif r1+r2 == distance or abs(r1-r2) == distance:\n",
    "            print(1)\n",
    "        elif r1+r2 < distance or abs(r1-r2) > distance:\n",
    "            print(0)\n",
    "#0 0 13 40 0 37\n",
    "#0 0 3 0 7 4\n",
    "#1 1 1 1 1 5"
   ]
  },
  {
   "cell_type": "code",
   "execution_count": 5,
   "metadata": {},
   "outputs": [
    {
     "data": {
      "text/plain": [
       "['0 0 13 40 0 37', '0 0 3 0 7 4', '1 1 1 1 1 5', '']"
      ]
     },
     "execution_count": 5,
     "metadata": {},
     "output_type": "execute_result"
    }
   ],
   "source": [
    "raw = '''0 0 13 40 0 37\n",
    "0 0 3 0 7 4\n",
    "1 1 1 1 1 5\n",
    "'''\n",
    "data = raw.split('\\n')\n",
    "data"
   ]
  },
  {
   "cell_type": "code",
   "execution_count": 13,
   "metadata": {},
   "outputs": [
    {
     "name": "stdout",
     "output_type": "stream",
     "text": [
      "3\n",
      "0 0 13 40 0 37\n",
      "0 0 3 0 7 4\n",
      "1 1 1 1 1 5\n"
     ]
    }
   ],
   "source": [
    "raw = '''0 0 13 40 0 37\n",
    "0 0 3 0 7 4\n",
    "1 1 1 1 1 5'''\n",
    "data = raw.split('\\n')\n",
    "print(len(data))\n",
    "for d in data:\n",
    "    a,b,c,d,e,f = d.split()\n",
    "    print(a,b,c,d,e,f)"
   ]
  },
  {
   "cell_type": "code",
   "execution_count": 17,
   "metadata": {},
   "outputs": [
    {
     "name": "stdout",
     "output_type": "stream",
     "text": [
      "0 0 13 40 0 37\n",
      "2\n",
      "0 0 3 0 7 4\n",
      "1\n",
      "1 1 1 1 1 5\n",
      "0\n"
     ]
    }
   ],
   "source": [
    "raw = '''0 0 13 40 0 37\n",
    "0 0 3 0 7 4\n",
    "1 1 1 1 1 5'''\n",
    "data = raw.split('\\n')\n",
    "\n",
    "for d in data:\n",
    "    x1,y1,r1,x2,y2,r2 = map(int, d.split())\n",
    "    print(x1,y1,r1,x2,y2,r2)\n",
    "    if x1 == x2 and y1 == y2 and r1 == r2:\n",
    "        print(-1)\n",
    "    else:\n",
    "        distance = ((x2-x1)**2 + (y2-y1)**2)**0.5\n",
    "        if r1+r2 > distance and abs(r1-r2) < distance:\n",
    "            print(2)\n",
    "        elif r1+r2 == distance or abs(r1-r2) == distance:\n",
    "            print(1)\n",
    "        elif r1+r2 < distance or abs(r1-r2) > distance:\n",
    "            print(0)\n"
   ]
  },
  {
   "cell_type": "code",
   "execution_count": 19,
   "metadata": {},
   "outputs": [
    {
     "name": "stdout",
     "output_type": "stream",
     "text": [
      "0 0 13 40 0 37\n",
      "distance: 40.0\n",
      "2\n",
      "0 0 3 0 7 4\n",
      "distance: 7.0\n",
      "1\n",
      "1 1 1 1 1 5\n",
      "distance: 0.0\n",
      "0\n"
     ]
    }
   ],
   "source": [
    "raw = '''0 0 13 40 0 37\n",
    "0 0 3 0 7 4\n",
    "1 1 1 1 1 5'''\n",
    "data = raw.split('\\n')\n",
    "\n",
    "for d in data:\n",
    "    x1,y1,r1,x2,y2,r2 = map(int, d.split())\n",
    "    print(x1,y1,r1,x2,y2,r2)\n",
    "    distance = ((x2-x1)**2 + (y2-y1)**2)**0.5\n",
    "    print('distance:',distance)\n",
    "    if x1 == x2 and y1 == y2 and r1 == r2:\n",
    "        print(-1)\n",
    "    elif r1+r2 > distance and abs(r1-r2) < distance:\n",
    "        print(2)\n",
    "    elif r1+r2 == distance or abs(r1-r2) == distance:\n",
    "        print(1)\n",
    "    elif r1+r2 < distance or abs(r1-r2) > distance:\n",
    "        print(0)\n"
   ]
  },
  {
   "cell_type": "code",
   "execution_count": 21,
   "metadata": {},
   "outputs": [
    {
     "name": "stdout",
     "output_type": "stream",
     "text": [
      "0 0 13 40 0 37\n",
      "2\n",
      "0 0 3 0 7 4\n",
      "1\n",
      "1 1 1 1 1 5\n",
      "0\n"
     ]
    }
   ],
   "source": [
    "raw = '''0 0 13 40 0 37\n",
    "0 0 3 0 7 4\n",
    "1 1 1 1 1 5'''\n",
    "\n",
    "for d in raw.split('\\n'):\n",
    "    x1,y1,r1,x2,y2,r2 = map(int, d.split())\n",
    "    print(x1,y1,r1,x2,y2,r2)\n",
    "    distance = ((x2-x1)**2 + (y2-y1)**2)**0.5\n",
    "    if x1 == x2 and y1 == y2 and r1 == r2:\n",
    "        print(-1)\n",
    "    elif r1+r2 > distance and abs(r1-r2) < distance:\n",
    "        print(2)\n",
    "    elif r1+r2 == distance or abs(r1-r2) == distance:\n",
    "        print(1)\n",
    "    elif r1+r2 < distance or abs(r1-r2) > distance:\n",
    "        print(0)\n"
   ]
  }
 ],
 "metadata": {
  "kernelspec": {
   "display_name": "Python 3",
   "language": "python",
   "name": "python3"
  },
  "language_info": {
   "codemirror_mode": {
    "name": "ipython",
    "version": 3
   },
   "file_extension": ".py",
   "mimetype": "text/x-python",
   "name": "python",
   "nbconvert_exporter": "python",
   "pygments_lexer": "ipython3",
   "version": "3.6.6"
  }
 },
 "nbformat": 4,
 "nbformat_minor": 2
}

{
 "cells": [
  {
   "cell_type": "markdown",
   "metadata": {},
   "source": [
    "## Min cost climbing stairs\n"
   ]
  },
  {
   "cell_type": "code",
   "execution_count": 8,
   "metadata": {},
   "outputs": [
    {
     "data": {
      "text/plain": [
       "12"
      ]
     },
     "execution_count": 8,
     "metadata": {},
     "output_type": "execute_result"
    }
   ],
   "source": [
    "#p1\n",
    "# java - > python\n",
    "case1=0\n",
    "case2=0\n",
    "current=0\n",
    "cost = [1,2,3,4,5,6,7]\n",
    "for i in range(len(cost)-1,-1,-1):\n",
    "    current = cost[i] + min(case1,case2)\n",
    "    case2 = case1\n",
    "    case1 = current\n",
    "min(case1,case2)"
   ]
  },
  {
   "cell_type": "code",
   "execution_count": 36,
   "metadata": {},
   "outputs": [
    {
     "data": {
      "text/plain": [
       "12"
      ]
     },
     "execution_count": 36,
     "metadata": {},
     "output_type": "execute_result"
    }
   ],
   "source": [
    "# recursion\n",
    "def func(i=-1):\n",
    "    if i < 0 : return min(func(i+1),func(i+2))\n",
    "    elif i > 6 : return 0\n",
    "    else: \n",
    "        return cost[i] + min(func(i+1),func(i+2))\n",
    "\n",
    "cost = [1,2,3,4,5,6,7]\n",
    "func()"
   ]
  },
  {
   "cell_type": "code",
   "execution_count": 5,
   "metadata": {},
   "outputs": [
    {
     "name": "stdout",
     "output_type": "stream",
     "text": [
      "15\n"
     ]
    }
   ],
   "source": [
    "#p2\n",
    "case1=0\n",
    "case2=0\n",
    "current=0\n",
    "cost = [10,15,20]\n",
    "for i in range(len(cost)-1,-1,-1):\n",
    "    current = cost[i] + min(case1,case2)\n",
    "    case2 = case1\n",
    "    case1 = current\n",
    "print(min(case1,case2))"
   ]
  },
  {
   "cell_type": "code",
   "execution_count": null,
   "metadata": {},
   "outputs": [],
   "source": [
    "# recursion\n",
    "def func(i=-1):\n",
    "    if i < 0 : return min(func(i+1),func(i+2))\n",
    "    elif i > 6 : return 0\n",
    "    else: \n",
    "        return cost[i] + min(func(i+1),func(i+2))\n",
    "    \n",
    "cost = [10,15,20]\n",
    "func()"
   ]
  },
  {
   "cell_type": "code",
   "execution_count": 6,
   "metadata": {},
   "outputs": [
    {
     "name": "stdout",
     "output_type": "stream",
     "text": [
      "6\n"
     ]
    }
   ],
   "source": [
    "#p3\n",
    "case1=0\n",
    "case2=0\n",
    "current=0\n",
    "cost = [1,100,1,1,1,100,1,1,100,1]\n",
    "for i in range(len(cost)-1,-1,-1):\n",
    "    current = cost[i] + min(case1,case2)\n",
    "    case2 = case1\n",
    "    case1 = current\n",
    "print(min(case1,case2))"
   ]
  }
 ],
 "metadata": {
  "kernelspec": {
   "display_name": "Python 3",
   "language": "python",
   "name": "python3"
  },
  "language_info": {
   "codemirror_mode": {
    "name": "ipython",
    "version": 3
   },
   "file_extension": ".py",
   "mimetype": "text/x-python",
   "name": "python",
   "nbconvert_exporter": "python",
   "pygments_lexer": "ipython3",
   "version": "3.6.4"
  }
 },
 "nbformat": 4,
 "nbformat_minor": 2
}

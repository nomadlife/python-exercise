{
 "cells": [
  {
   "cell_type": "code",
   "execution_count": 2,
   "metadata": {},
   "outputs": [],
   "source": [
    "import logging, threading\n",
    "from queue import Queue\n",
    "\n",
    "logger = logging.getLogger()\n",
    "logger.setLevel(logging.DEBUG)\n",
    "formatter = logging.Formatter('%(asctime)s - %(message)s')\n",
    "ch = logging.StreamHandler()\n",
    "ch.setLevel(logging.DEBUG)\n",
    "ch.setFormatter(formatter)\n",
    "logger.addHandler(ch)\n",
    "fibo_dict = {}\n",
    "shared_queue = Queue()\n",
    "input_list = [3, 10, 5, 7]\n",
    "\n",
    "queue_condition = threading.Condition()\n",
    "\n",
    "def fibonacci_task(condition):\n",
    "    with condition:\n",
    "        while shared_queue.empty():\n",
    "            logger.info(\"[%s] - waiting for elements in queue..\"\n",
    "                % threading.current_thread().name)\n",
    "            condition.wait()\n",
    "        else:\n",
    "            value = shared_queue.get()\n",
    "            a, b = 0, 1\n",
    "            for item in range(value):\n",
    "                a, b = b, a + b\n",
    "                fibo_dict[value] = a\n",
    "        shared_queue.task_done()\n",
    "        logger.debug(\"[%s] fibonacci of key [%d] with\n",
    "            result [%d]\" %\n",
    "            (threading.current_thread().name, value,\n",
    "                fibo_dict[value]))\n"
   ]
  }
 ],
 "metadata": {
  "kernelspec": {
   "display_name": "Python 3",
   "language": "python",
   "name": "python3"
  },
  "language_info": {
   "codemirror_mode": {
    "name": "ipython",
    "version": 3
   },
   "file_extension": ".py",
   "mimetype": "text/x-python",
   "name": "python",
   "nbconvert_exporter": "python",
   "pygments_lexer": "ipython3",
   "version": "3.5.3"
  }
 },
 "nbformat": 4,
 "nbformat_minor": 2
}

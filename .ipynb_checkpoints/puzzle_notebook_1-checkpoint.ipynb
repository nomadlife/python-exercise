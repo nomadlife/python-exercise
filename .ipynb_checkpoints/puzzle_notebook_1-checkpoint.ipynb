{
 "cells": [
  {
   "cell_type": "code",
   "execution_count": 1,
   "metadata": {},
   "outputs": [],
   "source": [
    "import collections\n",
    "\n",
    "Block = collections.namedtuple('Block', ['dim', 'shape'])\n",
    "Block2 = collections.namedtuple('Block2', ['shape', 'size'] )\n",
    "Block3 = collections.namedtuple('Block3', ['shape', 'size', 'shape_fill', 'id'] )\n"
   ]
  },
  {
   "cell_type": "code",
   "execution_count": 5,
   "metadata": {},
   "outputs": [
    {
     "name": "stdout",
     "output_type": "stream",
     "text": [
      "Block3(shape='o', size=(1, 1), shape_fill=[(0, 0)], id=0)\n",
      "Block3(shape='xox;xox;ooo', size=(3, 3), shape_fill=[(0, 1), (1, 1), (2, 0), (2, 1), (2, 2)], id=1)\n",
      "Block3(shape='xox;ooo;xox', size=(3, 3), shape_fill=[(0, 1), (1, 0), (1, 1), (1, 2), (2, 1)], id=2)\n",
      "Block3(shape='oxx;oox;xoo', size=(3, 3), shape_fill=[(0, 0), (1, 0), (1, 1), (2, 1), (2, 2)], id=3)\n",
      "Block3(shape='oo;ox;ox', size=(3, 2), shape_fill=[(0, 0), (0, 1), (1, 0), (2, 0)], id=4)\n",
      "Block3(shape='ooxx;xooo', size=(2, 4), shape_fill=[(0, 0), (0, 1), (1, 1), (1, 2), (1, 3)], id=5)\n",
      "Block3(shape='oooo;xoxx', size=(2, 4), shape_fill=[(0, 0), (0, 1), (0, 2), (0, 3), (1, 1)], id=6)\n",
      "Block3(shape='xxo;ooo', size=(2, 3), shape_fill=[(0, 2), (1, 0), (1, 1), (1, 2)], id=7)\n",
      "Block3(shape='xox;ooo;xxo', size=(3, 3), shape_fill=[(0, 1), (1, 0), (1, 1), (1, 2), (2, 2)], id=8)\n",
      "Block3(shape='o;o;o;o;o', size=(5, 1), shape_fill=[(0, 0), (1, 0), (2, 0), (3, 0), (4, 0)], id=9)\n",
      "Block3(shape='oo;xo;xo', size=(3, 2), shape_fill=[(0, 0), (0, 1), (1, 1), (2, 1)], id=10)\n"
     ]
    }
   ],
   "source": [
    "class Puzzle:\n",
    "    shapes = ['o',\n",
    "        'xox;xox;ooo',\n",
    "        'xox;ooo;xox',\n",
    "        'oxx;oox;xoo',\n",
    "        'oo;ox;ox',\n",
    "        'ooxx;xooo',\n",
    "        'oooo;xoxx',\n",
    "        'xxo;ooo',\n",
    "        'xox;ooo;xxo',\n",
    "        'o;o;o;o;o',\n",
    "        'oo;xo;xo']\n",
    "    \n",
    "    def __init__(self):\n",
    "        # self.dims = [ (len(shape.split(';')),len(shape.split(';')[0])) for shape in self.shapes ]\n",
    "        # self._blocks = [Block2(shape, (len(shape.split(';')),len(shape.split(';')[0])) ) for shape in self.shapes] \n",
    "        self._blocks = []\n",
    "        for shape in self.shapes:\n",
    "            shape_list = shape.split(';')\n",
    "            shape_fill = []\n",
    "            for i,r in enumerate(shape_list):\n",
    "                for j,c in enumerate(r):\n",
    "                    if c=='o':\n",
    "                        shape_fill.append((i,j))\n",
    "\n",
    "            self._blocks.append( Block3(shape, (len(shape_list),len(shape_list[0])), shape_fill, len(self._blocks)) )\n",
    "\n",
    "\n",
    "    def __len__(self):\n",
    "        return len(self._blocks)\n",
    "    def __getitem__(self, position):\n",
    "        return self._blocks[position]\n",
    "\n",
    "puzzle = Puzzle()\n",
    "# print(puzzle._blocks)\n",
    "for b in puzzle._blocks:\n",
    "    print(b)"
   ]
  },
  {
   "cell_type": "code",
   "execution_count": 31,
   "metadata": {},
   "outputs": [
    {
     "name": "stdout",
     "output_type": "stream",
     "text": [
      "xxxxxxxx\n",
      "xxxxxxxx\n",
      "xxxxxxxx\n",
      "xxxxxxxx\n",
      "xxxxxxxx\n",
      "xxxxxxxx\n",
      "\n",
      "11\n"
     ]
    }
   ],
   "source": [
    "class Puzzle:\n",
    "    table_row = 6\n",
    "    table_column = 8\n",
    "    table = {}\n",
    "    \n",
    "    err_duplicated = []\n",
    "    \n",
    "    shapes = ['o',\n",
    "        'xox;xox;ooo',\n",
    "        'xox;ooo;xox',\n",
    "        'oxx;oox;xoo',\n",
    "        'oo;ox;ox',\n",
    "        'ooxx;xooo',\n",
    "        'oooo;xoxx',\n",
    "        'xxo;ooo',\n",
    "        'xox;ooo;xxo',\n",
    "        'o;o;o;o;o',\n",
    "        'oo;xo;xo']\n",
    "    \n",
    "    def __init__(self):\n",
    "        # self.dims = [ (len(shape.split(';')),len(shape.split(';')[0])) for shape in self.shapes ]\n",
    "        # self._blocks = [Block2(shape, (len(shape.split(';')),len(shape.split(';')[0])) ) for shape in self.shapes]\n",
    "        \n",
    "        self.new()\n",
    "        \n",
    "        self._blocks = []\n",
    "        for shape in self.shapes:\n",
    "            shape_list = shape.split(';')\n",
    "            shape_fill = []\n",
    "            for i,r in enumerate(shape_list):\n",
    "                for j,c in enumerate(r):\n",
    "                    if c=='o':\n",
    "                        shape_fill.append((i,j))\n",
    "\n",
    "            self._blocks.append( Block3(shape, (len(shape_list),len(shape_list[0])), shape_fill, len(self._blocks)) )\n",
    "\n",
    "\n",
    "    def __len__(self):\n",
    "        return len(self._blocks)\n",
    "    \n",
    "    def __getitem__(self, position):\n",
    "        return self._blocks[position]\n",
    "    \n",
    "    \n",
    "    def new(self):\n",
    "        for r in range(self.table_row):\n",
    "            for c in range(self.table_column):\n",
    "                self.table[r,c]='x'\n",
    "        return self\n",
    "        \n",
    "    def show_table(self):\n",
    "        #print('table size : {} x {}'.format(table_row, table_column))\n",
    "        result = ''\n",
    "        for r in range(self.table_row):\n",
    "            for c in range(self.table_column):\n",
    "                if self.table[(r,c)] == 'x':\n",
    "                    result+='x'\n",
    "                elif (r,c) in self.err_duplicated:\n",
    "                    result+='\\033[93'+self.table[(r,c)]+'\\033[00'\n",
    "                else:\n",
    "                    result+=self.table[(r,c)]\n",
    "            result+='\\n'\n",
    "        print(result)\n",
    "        if len(self.err_duplicated) > 0 :\n",
    "            print('block duplicated :', self.err_duplicated)\n",
    "        \n",
    "    def load_block(self, coor, block : Block3):\n",
    "        # move coordination\n",
    "        fill_list = []\n",
    "        for e in block.shape_fill:\n",
    "            new_row = e[0]+coor[0]\n",
    "            new_collumn = e[1]+coor[1]\n",
    "            \n",
    "            fill_list.append((new_row, new_collumn))\n",
    "            \n",
    "        # check if loadable\n",
    "        for f in fill_list:\n",
    "            if self.table[f] != 'x':\n",
    "                self.err_duplicated.append(f)\n",
    "\n",
    "        # fill table and return\n",
    "        for f in fill_list:   \n",
    "            self.table[f]=str(block.id)\n",
    "        return self\n",
    "    \n",
    "        \n",
    "\n",
    "puzzle = Puzzle()\n",
    "puzzle.show_table()\n",
    "print(len(puzzle))"
   ]
  },
  {
   "cell_type": "code",
   "execution_count": 32,
   "metadata": {},
   "outputs": [
    {
     "name": "stdout",
     "output_type": "stream",
     "text": [
      "0xxxxxxx\n",
      "xxxxxxxx\n",
      "xxxxxxxx\n",
      "xxxxxxxx\n",
      "xxxxxxxx\n",
      "xxxxxxxx\n",
      "\n",
      "03xxxxxx\n",
      "x33xxxxx\n",
      "xx33xxxx\n",
      "xxxxxxxx\n",
      "xxxxxxxx\n",
      "xxxxxxxx\n",
      "\n",
      "03xxxxxx\n",
      "x33xxxxx\n",
      "xx\u001b[934\u001b[00\u001b[934\u001b[00xxxx\n",
      "xx4xxxxx\n",
      "xx4xxxxx\n",
      "xxxxxxxx\n",
      "\n",
      "block duplicated : [(2, 2), (2, 3)]\n"
     ]
    }
   ],
   "source": [
    "puzzle.load_block((0,0),puzzle._blocks[0]).show_table()\n",
    "puzzle.load_block((0,1),puzzle._blocks[3]).show_table()\n",
    "puzzle.load_block((2,2),puzzle._blocks[4]).show_table()"
   ]
  },
  {
   "cell_type": "code",
   "execution_count": 23,
   "metadata": {},
   "outputs": [
    {
     "name": "stdout",
     "output_type": "stream",
     "text": [
      "03xxxxxx\n",
      "x33xxxxx\n",
      "xx33xxxx\n",
      "xxxxxxxx\n",
      "xxxxxxxx\n",
      "xxxxxxxx\n",
      "\n"
     ]
    }
   ],
   "source": [
    "puzzle.load_block((0,1),puzzle._blocks[3]).show_table()"
   ]
  },
  {
   "cell_type": "code",
   "execution_count": 19,
   "metadata": {},
   "outputs": [
    {
     "name": "stdout",
     "output_type": "stream",
     "text": [
      "x1xxxxxx\n",
      "x1xxxxxx\n",
      "111xxxxx\n",
      "xxxxxxxx\n",
      "xxxxxxxx\n",
      "xxxxxxxx\n",
      "\n"
     ]
    }
   ],
   "source": [
    "puzzle.new().load_block((0,0),puzzle._blocks[1]).show_table()"
   ]
  },
  {
   "cell_type": "code",
   "execution_count": null,
   "metadata": {},
   "outputs": [],
   "source": []
  },
  {
   "cell_type": "code",
   "execution_count": 12,
   "metadata": {},
   "outputs": [
    {
     "data": {
      "text/plain": [
       "['o',\n",
       " 'xox;xox;ooo',\n",
       " 'xox;ooo;xox',\n",
       " 'oxx;oox;xoo',\n",
       " 'oo;ox;ox',\n",
       " 'ooxx;xooo',\n",
       " 'oooo;xoxx',\n",
       " 'xxo;ooo',\n",
       " 'xox;ooo;xxo',\n",
       " 'o;o;o;o;o',\n",
       " 'oo;xo;xo']"
      ]
     },
     "execution_count": 12,
     "metadata": {},
     "output_type": "execute_result"
    }
   ],
   "source": [
    "puzzle.shapes"
   ]
  },
  {
   "cell_type": "code",
   "execution_count": 3,
   "metadata": {},
   "outputs": [
    {
     "name": "stdout",
     "output_type": "stream",
     "text": [
      "False\n",
      "{(0, 0): False, (0, 1): False, (0, 2): False, (0, 3): False, (0, 4): False, (0, 5): False, (0, 6): False, (0, 7): False, (1, 0): False, (1, 1): False, (1, 2): False, (1, 3): False, (1, 4): False, (1, 5): False, (1, 6): False, (1, 7): False, (2, 0): False, (2, 1): False, (2, 2): False, (2, 3): False, (2, 4): False, (2, 5): False, (2, 6): False, (2, 7): False, (3, 0): False, (3, 1): False, (3, 2): False, (3, 3): False, (3, 4): False, (3, 5): False, (3, 6): False, (3, 7): False, (4, 0): False, (4, 1): False, (4, 2): False, (4, 3): False, (4, 4): False, (4, 5): False, (4, 6): False, (4, 7): False, (5, 0): False, (5, 1): False, (5, 2): False, (5, 3): False, (5, 4): False, (5, 5): False, (5, 6): False, (5, 7): True, (5, 8): True, (6, 8): True, (7, 7): True, (7, 8): True, (7, 9): True}\n"
     ]
    }
   ],
   "source": [
    "\n",
    "# print(puzzle._blocks)\n",
    "# for b in puzzle._blocks:\n",
    "#     print(b)\n",
    "\n",
    "table_row = 6\n",
    "table_column = 8\n",
    "table = {}\n",
    "for r in range(table_row):\n",
    "    for c in range(table_column):\n",
    "        table[r,c]=False\n",
    "# print(table)\n",
    "\n",
    "def load_block(coor, block : Block3):\n",
    "    # move coordination\n",
    "    fill_list = []\n",
    "    for e in block.shape_fill:\n",
    "        fill_list.append((e[0]+coor[0], e[1]+coor[1]))\n",
    "    # check if loadable\n",
    "    for f in fill_list:\n",
    "        if f in table and table[f] == True:\n",
    "            return False\n",
    "    # fill table and return\n",
    "    for f in fill_list:   \n",
    "        table[f]=True\n",
    "    return True\n",
    "        \n",
    "\n",
    "print(table)"
   ]
  },
  {
   "cell_type": "code",
   "execution_count": 11,
   "metadata": {},
   "outputs": [
    {
     "data": {
      "text/plain": [
       "True"
      ]
     },
     "execution_count": 11,
     "metadata": {},
     "output_type": "execute_result"
    }
   ],
   "source": [
    "load_block((0,0),puzzle._blocks[0])"
   ]
  },
  {
   "cell_type": "code",
   "execution_count": null,
   "metadata": {},
   "outputs": [],
   "source": [
    "def loop_block( block_list : list):\n",
    "    for B in block_list:\n",
    "        load_complete = False\n",
    "        for k,v in table.items():\n",
    "            if v == False:\n",
    "                if load_block((r,c),B) == False:\n",
    "                    next\n",
    "                else:\n",
    "                    load_complete = True\n",
    "                    break\n",
    "        if load_complete == False:\n",
    "            return False\n",
    "        else:\n",
    "            next\n",
    "    return True\n",
    "\n",
    "print(loop_block(puzzle._blocks))\n",
    "print(table)"
   ]
  }
 ],
 "metadata": {
  "kernelspec": {
   "display_name": "Python 3",
   "language": "python",
   "name": "python3"
  },
  "language_info": {
   "codemirror_mode": {
    "name": "ipython",
    "version": 3
   },
   "file_extension": ".py",
   "mimetype": "text/x-python",
   "name": "python",
   "nbconvert_exporter": "python",
   "pygments_lexer": "ipython3",
   "version": "3.7.3"
  }
 },
 "nbformat": 4,
 "nbformat_minor": 2
}

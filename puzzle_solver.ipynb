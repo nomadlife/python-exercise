{
 "cells": [
  {
   "cell_type": "raw",
   "metadata": {},
   "source": [
    "'''\n",
    "table size 6x8\n",
    "\n",
    "\n",
    "**blocks**\n",
    "b0 : 1x1\n",
    "o\n",
    "\n",
    "b1 : 3x3\n",
    "xox\n",
    "xox\n",
    "ooo\n",
    "\n",
    "b2 : 3x3\n",
    "xox\n",
    "ooo\n",
    "xox\n",
    "\n",
    "b3 : 3x3\n",
    "oxx\n",
    "oox\n",
    "xoo\n",
    "\n",
    "b4 : 3x2\n",
    "oo\n",
    "ox\n",
    "ox\n",
    "\n",
    "b5 : 2x4\n",
    "ooxx\n",
    "xooo\n",
    "\n",
    "b6 : 2x4\n",
    "oooo\n",
    "xoxx\n",
    "\n",
    "b7 : 2x3\n",
    "xxo\n",
    "ooo\n",
    "\n",
    "b8 : 3x3\n",
    "xox\n",
    "ooo\n",
    "xxo\n",
    "\n",
    "b9 :5x1\n",
    "o\n",
    "o\n",
    "o\n",
    "o\n",
    "o\n",
    "\n",
    "b10 : 3x2\n",
    "oo\n",
    "xo\n",
    "xo\n",
    "\n",
    "\n",
    "'''"
   ]
  },
  {
   "cell_type": "code",
   "execution_count": 2,
   "metadata": {},
   "outputs": [
    {
     "name": "stdout",
     "output_type": "stream",
     "text": [
      "0 0\n",
      "0 1\n",
      "0 2\n",
      "0 3\n",
      "0 4\n",
      "0 5\n",
      "1 0\n",
      "1 1\n",
      "1 2\n",
      "1 3\n",
      "1 4\n",
      "1 5\n",
      "2 0\n",
      "2 1\n",
      "2 2\n",
      "2 3\n",
      "2 4\n",
      "2 5\n",
      "3 0\n",
      "3 1\n",
      "3 2\n",
      "3 3\n",
      "3 4\n",
      "3 5\n"
     ]
    }
   ],
   "source": [
    "size = (3,3)\n",
    "for i in range(6):\n",
    "    if i + size[0] > 6:\n",
    "        continue\n",
    "    for j in range(8):\n",
    "        if j+size[1] > 8:\n",
    "            continue\n",
    "        print(i,j)"
   ]
  },
  {
   "cell_type": "code",
   "execution_count": null,
   "metadata": {},
   "outputs": [],
   "source": []
  }
 ],
 "metadata": {
  "kernelspec": {
   "display_name": "Python 3",
   "language": "python",
   "name": "python3"
  },
  "language_info": {
   "codemirror_mode": {
    "name": "ipython",
    "version": 3
   },
   "file_extension": ".py",
   "mimetype": "text/x-python",
   "name": "python",
   "nbconvert_exporter": "python",
   "pygments_lexer": "ipython3",
   "version": "3.6.4"
  }
 },
 "nbformat": 4,
 "nbformat_minor": 2
}

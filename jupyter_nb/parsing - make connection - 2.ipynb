{
 "cells": [
  {
   "cell_type": "code",
   "execution_count": 25,
   "metadata": {},
   "outputs": [
    {
     "data": {
      "text/plain": [
       "337"
      ]
     },
     "execution_count": 25,
     "metadata": {},
     "output_type": "execute_result"
    }
   ],
   "source": [
    "from bs4 import BeautifulSoup\n",
    "with open('work_test.htm') as file:\n",
    "    data = file.read()\n",
    "divpm = BeautifulSoup(data,'html.parser').find('div', attrs={'id':'Page'}).findAll('div',attrs = {'parameters':True})\n",
    "\n",
    "total = {}\n",
    "for i,div in enumerate(divpm):\n",
    "    total[div['id']] = {'id':div['id'], 'no':i, 'src':div['src']}\n",
    "    for p in div['parameters'].split(';'):\n",
    "        total[div['id']].update(dict(zip(p.split(':')[::2], p.split(':')[1::2])))\n",
    "    for s in div['style'].split('; '):\n",
    "        total[div['id']].update(dict(zip(s.split(':')[::2], s.split(': ')[1::2])))\n",
    "    for t in div['hdxproperties'].split(';'):\n",
    "        total[div['id']].update(dict(zip(t.split(':')[::2], t.split(':')[1::2])))\n",
    "\n",
    "len(total)"
   ]
  },
  {
   "cell_type": "code",
   "execution_count": 24,
   "metadata": {},
   "outputs": [
    {
     "name": "stdout",
     "output_type": "stream",
     "text": [
      "{'all': 337, 'Line': 200, 'none': 33, 'ValveMan': 75, 'CPump': 6, 'TankNozzle': 8, 'BP': 3, 'ValvePseudo': 12}\n"
     ]
    }
   ],
   "source": [
    "# check element numbers \n",
    "count= {'all':0}\n",
    "for i,v in total.items():\n",
    "    if 'Value?ShapeID' in v :\n",
    "        #print('{:25} {}'.format(i, v['Value?ShapeID']))\n",
    "        if v['Value?ShapeID'] in count :\n",
    "            count[v['Value?ShapeID']] += 1\n",
    "        else:\n",
    "            count[v['Value?ShapeID']] = 1\n",
    "    else:\n",
    "        #print(i)\n",
    "        if 'none' in count:\n",
    "            count['none'] += 1\n",
    "        else:\n",
    "            count['none'] = 1\n",
    "    count['all'] += 1\n",
    "print(count)"
   ]
  },
  {
   "cell_type": "code",
   "execution_count": null,
   "metadata": {},
   "outputs": [],
   "source": [
    "from bs4 import BeautifulSoup\n",
    "with open('work_test.htm') as file:\n",
    "    data = file.read()\n",
    "soup = BeautifulSoup(data,'html.parser')\n",
    "\n",
    "main = soup.find('div', attrs={'id':'Page'})\n",
    "\n",
    "divpm = main.findAll('div',attrs = {'parameters':True})\n",
    "\n",
    "total = {}\n",
    "for i,div in enumerate(divpm):\n",
    "    total[div['id']] = {'id':div['id'], 'no':i, 'src':div['src']}\n",
    "    for p in div['parameters'].split(';'):\n",
    "        total[div['id']].update(dict(zip(p.split(':')[::2], p.split(':')[1::2])))\n",
    "    for s in div['style'].split('; '):\n",
    "        total[div['id']].update(dict(zip(s.split(':')[::2], s.split(': ')[1::2])))\n",
    "    for t in div['hdxproperties'].split(';'):\n",
    "        total[div['id']].update(dict(zip(t.split(':')[::2], t.split(':')[1::2])))\n",
    "        \n",
    "result = {}\n",
    "for i,each in total.items():\n",
    "    temp = dict(zip(['type','element','rotation','Value?EndPoint1','Value?EndPoint2'],['','','','','']))\n",
    "    if 'Value?ShapeID' in each:\n",
    "        temp['type'] = each['Value?ShapeID']\n",
    "    if 'Point?element' in each:\n",
    "        temp['element'] = each['Point?element']\n",
    "    if 'Rotation' in each:\n",
    "        temp['rotation'] = each['Rotation']\n",
    "    if 'Value?EndPoint1' in each:\n",
    "        temp['endpoint1'] = each['Value?EndPoint1']\n",
    "    if 'Value?EndPoint2' in each:\n",
    "        temp['endpoint2'] = each['Value?EndPoint2']\n",
    "    temp['left'] = each['LEFT'].rstrip('px')\n",
    "    temp['top'] = each['TOP'].rstrip('px')\n",
    "    temp['height'] = each['HEIGHT'].rstrip('px')\n",
    "    temp['width'] = each['WIDTH'].rstrip('px')\n",
    "    temp.update(dict(zip(['x1','y1','x2','y2'],[0,0,0,0])))\n",
    "    if temp['type'] == 'Line':\n",
    "        if each['src'][-11::] == 'MALineU.sha':\n",
    "            temp['direction'] = 'V'\n",
    "        else : \n",
    "            temp['direction'] = 'H'\n",
    "        if temp['direction'] == 'H':\n",
    "            temp['x1'] = int(temp['left'])\n",
    "            temp['y1'] = int(temp['top'])\n",
    "            temp['x2'] = int(temp['left']) + int(temp['width'])\n",
    "            temp['y2'] = temp['y1']\n",
    "        elif temp['direction'] == 'V':\n",
    "            temp['x1'] = int(temp['left'])\n",
    "            temp['y1'] = int(temp['top'])\n",
    "            temp['x2'] = temp['x1'] \n",
    "            temp['y2'] = int(temp['top']) + int(temp['height'])\n",
    "\n",
    "    elif temp['type'] == 'ValveMan':\n",
    "        temp['x1'] = int(temp['left'])\n",
    "        temp['y1'] = int(temp['top']) + int(temp['height'])/2\n",
    "        temp['x2'] = temp['x1'] + int(temp['width'])\n",
    "        temp['y2'] = temp['y1']\n",
    "        if temp['rotation'] == '90' or temp['rotation'] == '270':\n",
    "            temp['x1'] = temp['x1'] + int(temp['width'])/2\n",
    "            temp['y1'] = temp['y1'] - int(temp['width'])/2\n",
    "            temp['x2'] = temp['x2'] - int(temp['width'])/2\n",
    "            temp['y2'] = temp['y2'] + int(temp['width'])/2   \n",
    "    result[i] = temp\n",
    "for i,each in result.items():\n",
    "    if each['type'] != '':\n",
    "        each['point1'] = {}\n",
    "        each['point2'] = {}\n",
    "        for j,target in result.items():\n",
    "            if target['type'] != '' and j != i:\n",
    "                value = ((target['x1'] - each['x1'])**2 + (target['y1'] - each['y1'])**2)**0.5\n",
    "                if value < 10:\n",
    "                    each['point1'][j] = {'distance':value, 'point':'1','element':target['element'],'type':target['type']}\n",
    "                    \n",
    "                value = ((target['x2'] - each['x1'])**2 + (target['y2'] - each['y1'])**2)**0.5\n",
    "                if value < 10:\n",
    "                    each['point1'][j] = {'distance':value, 'point':'2','element':target['element'],'type':target['type']}\n",
    "                    \n",
    "                value = ((target['x1'] - each['x2'])**2 + (target['y1'] - each['y2'])**2)**0.5\n",
    "                if value < 10:\n",
    "                    each['point2'][j] = {'distance':value, 'point':'1','element':target['element'],'type':target['type']}\n",
    "                    \n",
    "                value = ((target['x2'] - each['x2'])**2 + (target['y2'] - each['y2'])**2)**0.5\n",
    "                if value < 10:\n",
    "                    each['point2'][j] = {'distance':value, 'point':'2','element':target['element'],'type':target['type']}"
   ]
  }
 ],
 "metadata": {
  "kernelspec": {
   "display_name": "Python 3",
   "language": "python",
   "name": "python3"
  },
  "language_info": {
   "codemirror_mode": {
    "name": "ipython",
    "version": 3
   },
   "file_extension": ".py",
   "mimetype": "text/x-python",
   "name": "python",
   "nbconvert_exporter": "python",
   "pygments_lexer": "ipython3",
   "version": "3.6.4"
  }
 },
 "nbformat": 4,
 "nbformat_minor": 2
}

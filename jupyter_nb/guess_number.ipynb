{
 "cells": [
  {
   "cell_type": "markdown",
   "metadata": {},
   "source": [
    "# Guess Number\n"
   ]
  },
  {
   "cell_type": "code",
   "execution_count": 1,
   "metadata": {},
   "outputs": [
    {
     "name": "stdout",
     "output_type": "stream",
     "text": [
      "input number :34\n",
      "34\n"
     ]
    }
   ],
   "source": [
    "# 숫자 입력받기\n",
    "guess = eval(input(\"input number :\"))\n",
    "# input으로 받으면, 문자열 상태이기 때문에, eval() 이나, int() 로 숫자로 바꾸어 줍니다.\n",
    "\n",
    "print(guess)"
   ]
  },
  {
   "cell_type": "code",
   "execution_count": 4,
   "metadata": {},
   "outputs": [
    {
     "name": "stdout",
     "output_type": "stream",
     "text": [
      "input number :35\n",
      "You got it\n"
     ]
    }
   ],
   "source": [
    "# 판단하기\n",
    "\n",
    "number = 35\n",
    "\n",
    "guess = eval(input(\"input number :\"))\n",
    "if guess == number:\n",
    "    print(\"You got it\")\n",
    "else:\n",
    "    print(\"That's not it\")"
   ]
  },
  {
   "cell_type": "code",
   "execution_count": 1,
   "metadata": {},
   "outputs": [
    {
     "name": "stdout",
     "output_type": "stream",
     "text": [
      "input number :34\n",
      "That's not it\n",
      "input number :32\n",
      "That's not it\n",
      "input number :31\n",
      "That's not it\n",
      "input number :35\n",
      "You got it\n"
     ]
    }
   ],
   "source": [
    "# 반복하기\n",
    "\n",
    "number = 35\n",
    "found = False\n",
    "\n",
    "while not found:\n",
    "    guess = eval(input(\"input number :\"))\n",
    "    if guess == number:\n",
    "        print(\"You got it\")\n",
    "        found = True\n",
    "    else:\n",
    "        print(\"That's not it\")"
   ]
  },
  {
   "cell_type": "code",
   "execution_count": 5,
   "metadata": {},
   "outputs": [
    {
     "name": "stdout",
     "output_type": "stream",
     "text": [
      "input number :34\n",
      "Guess higher!\n",
      "input number :37\n",
      "Guess lower!\n",
      "input number :35\n",
      "You got it\n"
     ]
    }
   ],
   "source": [
    "# up, down hint\n",
    "\n",
    "number = 35\n",
    "found = False\n",
    "\n",
    "while not found:\n",
    "    guess = eval(input(\"input number :\"))\n",
    "    if guess == number:\n",
    "        print(\"You got it\")\n",
    "        found = True\n",
    "    elif guess > number:\n",
    "        print(\"Guess lower!\")\n",
    "    else:\n",
    "        print(\"Guess higher!\")"
   ]
  },
  {
   "cell_type": "code",
   "execution_count": 7,
   "metadata": {},
   "outputs": [
    {
     "name": "stdout",
     "output_type": "stream",
     "text": [
      "input number :500\n",
      "Guess lower!\n",
      "input number :250\n",
      "Guess higher!\n",
      "input number :375\n",
      "Guess higher!\n",
      "input number :430\n",
      "Guess higher!\n",
      "input number :475\n",
      "You got it\n"
     ]
    }
   ],
   "source": [
    "#정답 Random 으로 생성하기\n",
    "\n",
    "import random\n",
    "number = random.randint(1,999)\n",
    "found = False\n",
    "\n",
    "while not found:\n",
    "    guess = eval(input(\"input number :\"))\n",
    "    if guess == number:\n",
    "        print(\"You got it\")\n",
    "        found = True\n",
    "    elif guess > number:\n",
    "        print(\"Guess lower!\")\n",
    "    else:\n",
    "        print(\"Guess higher!\")"
   ]
  }
 ],
 "metadata": {
  "kernelspec": {
   "display_name": "Python 3",
   "language": "python",
   "name": "python3"
  },
  "language_info": {
   "codemirror_mode": {
    "name": "ipython",
    "version": 3
   },
   "file_extension": ".py",
   "mimetype": "text/x-python",
   "name": "python",
   "nbconvert_exporter": "python",
   "pygments_lexer": "ipython3",
   "version": "3.5.1"
  }
 },
 "nbformat": 4,
 "nbformat_minor": 2
}

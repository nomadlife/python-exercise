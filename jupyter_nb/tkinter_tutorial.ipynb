{
 "cells": [
  {
   "cell_type": "markdown",
   "metadata": {},
   "source": [
    "from Derek Banas Youtube : Leran to Program 20 - tkinter tutorial 1"
   ]
  },
  {
   "cell_type": "code",
   "execution_count": null,
   "metadata": {
    "collapsed": true
   },
   "outputs": [],
   "source": [
    "import tkinter\n",
    "tkinter._test()"
   ]
  },
  {
   "cell_type": "code",
   "execution_count": 1,
   "metadata": {},
   "outputs": [],
   "source": [
    "from tkinter import *\n",
    "from tkinter import ttk\n",
    "    \n",
    "root = Tk()\n",
    "\n",
    "root.title(\"First GUI\")\n",
    "\n",
    "ttk.Button(root, text=\"Hello TkInter\").grid()\n",
    "\n",
    "root.mainloop()"
   ]
  },
  {
   "cell_type": "code",
   "execution_count": 1,
   "metadata": {},
   "outputs": [
    {
     "ename": "SystemExit",
     "evalue": "0",
     "output_type": "error",
     "traceback": [
      "An exception has occurred, use %tb to see the full traceback.\n",
      "\u001b[0;31mSystemExit\u001b[0m\u001b[0;31m:\u001b[0m 0\n"
     ]
    },
    {
     "name": "stderr",
     "output_type": "stream",
     "text": [
      "/Users/jw/venv/py3tk/lib/python3.6/site-packages/IPython/core/interactiveshell.py:2918: UserWarning: To exit: use 'exit', 'quit', or Ctrl-D.\n",
      "  warn(\"To exit: use 'exit', 'quit', or Ctrl-D.\", stacklevel=1)\n"
     ]
    }
   ],
   "source": [
    "from tkinter import *\n",
    "from tkinter import ttk\n",
    "\n",
    "root = Tk()\n",
    "\n",
    "frame = Frame(root)\n",
    "\n",
    "labelText = StringVar()\n",
    "\n",
    "label = Label(frame, textvariable=labelText)\n",
    "button = Button(frame, text=\"Click Me\")\n",
    "\n",
    "labelText.set(\"I am a Label\")\n",
    "\n",
    "label.pack()\n",
    "button.pack()\n",
    "frame.pack()\n",
    "\n",
    "root.mainloop()"
   ]
  },
  {
   "cell_type": "code",
   "execution_count": 4,
   "metadata": {
    "collapsed": true
   },
   "outputs": [],
   "source": [
    "from tkinter import *\n",
    "from tkinter import ttk\n",
    "\n",
    "root = Tk()\n",
    "\n",
    "frame = Frame(root)\n",
    "\n",
    "Label(frame, text=\"A Bunch of Buttons\").pack()\n",
    "\n",
    "Button(frame, text=\"B1\").pack(side=LEFT, fill=Y)\n",
    "Button(frame, text=\"B2\").pack(side=TOP, fill=X)\n",
    "Button(frame, text=\"B3\").pack(side=RIGHT, fill=X)\n",
    "Button(frame, text=\"B4\").pack(side=LEFT, fill=X)\n",
    "\n",
    "frame.pack()\n",
    "\n",
    "root.mainloop()"
   ]
  },
  {
   "cell_type": "code",
   "execution_count": 6,
   "metadata": {
    "collapsed": true
   },
   "outputs": [],
   "source": [
    "from tkinter import *\n",
    "from tkinter import ttk\n",
    "\n",
    "root = Tk()\n",
    "\n",
    "# N,NE,NW,W,E for sticky\n",
    "Label(root, text=\"First name\").grid(row=0, sticky=W, padx=4)\n",
    "Entry(root).grid(row=0, column=1, sticky=E, pady=4)\n",
    "\n",
    "Label(root, text=\"Last name\").grid(row=1, sticky=W, padx=4)\n",
    "Entry(root).grid(row=1, column=1, sticky=E, pady=4)\n",
    "\n",
    "Button(root, text=\"Sunmit\").grid(row=3)\n",
    "\n",
    "root.mainloop()"
   ]
  },
  {
   "cell_type": "code",
   "execution_count": 19,
   "metadata": {},
   "outputs": [],
   "source": [
    "from tkinter import *\n",
    "from tkinter import ttk\n",
    "\n",
    "root = Tk()\n",
    "\n",
    "Label(root, text=\"Description\").grid(row=0, column=0,sticky=W)\n",
    "Entry(root, width=50).grid(row=0, column=1)\n",
    "Button(root, text=\"Summit\").grid(row=0, column=8)\n",
    "\n",
    "Label(root, text=\"Quality\").grid(row=1, column=0, sticky=W)\n",
    "Radiobutton(root, text=\"New\", value=1).grid(row=2, column=0, sticky=W)\n",
    "Radiobutton(root, text=\"Good\", value=2).grid(row=3, column=0, sticky=W)\n",
    "Radiobutton(root, text=\"Poor\", value=3).grid(row=4, column=0, sticky=W)\n",
    "Radiobutton(root, text=\"Damaged\", value=4).grid(row=5, column=0, sticky=W)\n",
    "\n",
    "root.mainloop()"
   ]
  },
  {
   "cell_type": "code",
   "execution_count": 20,
   "metadata": {},
   "outputs": [],
   "source": [
    "from tkinter import *\n",
    "from tkinter import ttk\n",
    "\n",
    "root = Tk()\n",
    "\n",
    "Label(root, text=\"Description\").grid(row=0, column=0,sticky=W)\n",
    "Entry(root, width=50).grid(row=0, column=1)\n",
    "Button(root, text=\"Summit\").grid(row=0, column=8)\n",
    "\n",
    "Label(root, text=\"Quality\").grid(row=1, column=0, sticky=W)\n",
    "Radiobutton(root, text=\"New\", value=1).grid(row=2, column=0, sticky=W)\n",
    "Radiobutton(root, text=\"Good\", value=2).grid(row=3, column=0, sticky=W)\n",
    "Radiobutton(root, text=\"Poor\", value=3).grid(row=4, column=0, sticky=W)\n",
    "Radiobutton(root, text=\"Damaged\", value=4).grid(row=5, column=0, sticky=W)\n",
    "\n",
    "Label(root, text=\"Benefits\").grid(row=1, column=1, sticky=W)\n",
    "Checkbutton(root, text=\"Free Shipping\").grid(row=2, column=1, sticky=W)\n",
    "Checkbutton(root, text=\"Bonus Gift\").grid(row=3, column=1, sticky=W)\n",
    "\n",
    "\n",
    "root.mainloop()"
   ]
  },
  {
   "cell_type": "code",
   "execution_count": 24,
   "metadata": {},
   "outputs": [],
   "source": [
    "from tkinter import *\n",
    "from tkinter import ttk\n",
    "\n",
    "def get_sum(event):\n",
    "    num1 = int(num1Entry.get())\n",
    "    num2 = int(num2Entry.get())\n",
    "    \n",
    "    sum = num1 + num2\n",
    "    \n",
    "    sumEntry.delete(0,\"end\")\n",
    "    sumEntry.insert(0,sum)\n",
    "\n",
    "root = Tk()\n",
    "\n",
    "num1Entry = Entry(root)\n",
    "num1Entry.pack(side=LEFT)\n",
    "\n",
    "Label(root, text=\"+\").pack(side=LEFT)\n",
    "\n",
    "num2Entry = Entry(root)\n",
    "num2Entry.pack(side=LEFT)\n",
    "\n",
    "equalButton = Button(root, text=\"=\")\n",
    "equalButton.bind(\"<Button-1>\", get_sum)\n",
    "equalButton.pack(side=LEFT)\n",
    "\n",
    "sumEntry = Entry(root)\n",
    "sumEntry.pack(side=LEFT)\n",
    "\n",
    "\n",
    "root.mainloop()"
   ]
  }
 ],
 "metadata": {
  "kernelspec": {
   "display_name": "Python 3",
   "language": "python",
   "name": "python3"
  },
  "language_info": {
   "codemirror_mode": {
    "name": "ipython",
    "version": 3
   },
   "file_extension": ".py",
   "mimetype": "text/x-python",
   "name": "python",
   "nbconvert_exporter": "python",
   "pygments_lexer": "ipython3",
   "version": "3.6.2"
  }
 },
 "nbformat": 4,
 "nbformat_minor": 1
}

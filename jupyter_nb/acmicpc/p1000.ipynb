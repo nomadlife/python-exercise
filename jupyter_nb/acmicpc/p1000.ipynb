{
 "cells": [
  {
   "cell_type": "markdown",
   "metadata": {},
   "source": [
    "## 1000"
   ]
  },
  {
   "cell_type": "code",
   "execution_count": 1,
   "metadata": {},
   "outputs": [
    {
     "name": "stdout",
     "output_type": "stream",
     "text": [
      "1 2\n",
      "3\n"
     ]
    }
   ],
   "source": [
    "a, b = map(int, input().split())\n",
    "print(a+b)"
   ]
  },
  {
   "cell_type": "markdown",
   "metadata": {},
   "source": [
    "## 1002"
   ]
  },
  {
   "cell_type": "code",
   "execution_count": 3,
   "metadata": {},
   "outputs": [
    {
     "name": "stdout",
     "output_type": "stream",
     "text": [
      "3\n",
      "1 2 3 1 2 3\n",
      "1 2 3 1 2 3\n",
      "2 3 4 2 3  4\n",
      "2 3 4 2 3 4\n",
      "12 23 2 21 43 3\n",
      "12 23 2 21 43 3\n"
     ]
    }
   ],
   "source": [
    "loop = int(input())\n",
    "for i in range(loop):\n",
    "    x1,y1,r1,x2,y2,r2 = map(int, input().split())\n",
    "    print(x1,y1,r1,x2,y2,r2)\n"
   ]
  },
  {
   "cell_type": "code",
   "execution_count": 7,
   "metadata": {},
   "outputs": [
    {
     "name": "stdout",
     "output_type": "stream",
     "text": [
      "3\n",
      "0 0 13 40 0 37\n",
      "13 37 50 40.0\n",
      "0 0 3 0 7 4\n",
      "3 4 7 7.0\n",
      "1 1 1 1 1 5\n",
      "1 5 6 0.0\n"
     ]
    }
   ],
   "source": [
    "loop = int(input())\n",
    "for i in range(loop):\n",
    "    x1,y1,r1,x2,y2,r2 = map(int, input().split())\n",
    "    distance = ((x2-x1)**2 + (y2-y1)**2)**0.5\n",
    "    print(r1,r2,r1+r2,distance)\n"
   ]
  },
  {
   "cell_type": "code",
   "execution_count": 6,
   "metadata": {},
   "outputs": [
    {
     "name": "stdout",
     "output_type": "stream",
     "text": [
      "3\n",
      "0 0 13 40 0 37\n",
      "2\n",
      "0 0 3 0 7 4\n",
      "1\n",
      "1 1 1 1 1 5\n",
      "2\n"
     ]
    }
   ],
   "source": [
    "loop = int(input())\n",
    "for i in range(loop):\n",
    "    x1,y1,r1,x2,y2,r2 = map(int, input().split())\n",
    "    if x1 == x2 and y1 == y2 and r1 == r2:\n",
    "        print(-1)\n",
    "    else:\n",
    "        distance = ((x2-x1)**2 + (y2-y1)**2)**0.5\n",
    "        if r1+r2 > distance:\n",
    "            print(2)\n",
    "        elif r1+r2 == distance:\n",
    "            print(1)\n",
    "        elif r1+r2 < distance:\n",
    "            print(0)\n"
   ]
  }
 ],
 "metadata": {
  "kernelspec": {
   "display_name": "Python 3",
   "language": "python",
   "name": "python3"
  },
  "language_info": {
   "codemirror_mode": {
    "name": "ipython",
    "version": 3
   },
   "file_extension": ".py",
   "mimetype": "text/x-python",
   "name": "python",
   "nbconvert_exporter": "python",
   "pygments_lexer": "ipython3",
   "version": "3.6.4"
  }
 },
 "nbformat": 4,
 "nbformat_minor": 2
}

{
 "cells": [
  {
   "cell_type": "markdown",
   "metadata": {},
   "source": [
    "## 4963"
   ]
  },
  {
   "cell_type": "code",
   "execution_count": 1,
   "metadata": {},
   "outputs": [
    {
     "data": {
      "text/plain": [
       "['1 1',\n",
       " '0',\n",
       " '2 2',\n",
       " '0 1',\n",
       " '1 0',\n",
       " '3 2',\n",
       " '1 1 1',\n",
       " '1 1 1',\n",
       " '5 4',\n",
       " '1 0 1 0 0',\n",
       " '1 0 0 0 0',\n",
       " '1 0 1 0 1',\n",
       " '1 0 0 1 0',\n",
       " '5 4',\n",
       " '1 1 1 0 1',\n",
       " '1 0 1 0 1',\n",
       " '1 0 1 0 1',\n",
       " '1 0 1 1 1',\n",
       " '5 5',\n",
       " '1 0 1 0 1',\n",
       " '0 0 0 0 0',\n",
       " '1 0 1 0 1',\n",
       " '0 0 0 0 0',\n",
       " '1 0 1 0 1',\n",
       " '0 0']"
      ]
     },
     "execution_count": 1,
     "metadata": {},
     "output_type": "execute_result"
    }
   ],
   "source": [
    "raw = '''1 1\n",
    "0\n",
    "2 2\n",
    "0 1\n",
    "1 0\n",
    "3 2\n",
    "1 1 1\n",
    "1 1 1\n",
    "5 4\n",
    "1 0 1 0 0\n",
    "1 0 0 0 0\n",
    "1 0 1 0 1\n",
    "1 0 0 1 0\n",
    "5 4\n",
    "1 1 1 0 1\n",
    "1 0 1 0 1\n",
    "1 0 1 0 1\n",
    "1 0 1 1 1\n",
    "5 5\n",
    "1 0 1 0 1\n",
    "0 0 0 0 0\n",
    "1 0 1 0 1\n",
    "0 0 0 0 0\n",
    "1 0 1 0 1\n",
    "0 0'''\n",
    "data = raw.split('\\n')\n",
    "data"
   ]
  },
  {
   "cell_type": "code",
   "execution_count": 4,
   "metadata": {},
   "outputs": [
    {
     "name": "stdout",
     "output_type": "stream",
     "text": [
      "1 1\n",
      "0\n",
      "2 2\n",
      "0 1\n",
      "1 0\n",
      "3 2\n",
      "1 1 1\n",
      "1 1 1\n",
      "5 4\n",
      "1 0 1 0 0\n",
      "1 0 0 0 0\n",
      "1 0 1 0 1\n",
      "1 0 0 1 0\n",
      "5 4\n",
      "1 1 1 0 1\n",
      "1 0 1 0 1\n",
      "1 0 1 0 1\n",
      "1 0 1 1 1\n",
      "5 5\n",
      "1 0 1 0 1\n",
      "0 0 0 0 0\n",
      "1 0 1 0 1\n",
      "0 0 0 0 0\n",
      "1 0 1 0 1\n",
      "0 0\n"
     ]
    }
   ],
   "source": [
    "for i in range(len(data)):\n",
    "    print(data[i])"
   ]
  },
  {
   "cell_type": "code",
   "execution_count": 10,
   "metadata": {},
   "outputs": [
    {
     "name": "stdout",
     "output_type": "stream",
     "text": [
      "['0', '0']\n",
      "0\n",
      "=====\n",
      "['0', '0']\n",
      "0 1\n",
      "1 0\n",
      "=====\n",
      "['0', '0']\n",
      "1 1 1\n",
      "1 1 1\n",
      "=====\n",
      "['0', '0']\n",
      "1 0 1 0 0\n",
      "1 0 0 0 0\n",
      "1 0 1 0 1\n",
      "1 0 0 1 0\n",
      "=====\n",
      "['0', '0']\n",
      "1 1 1 0 1\n",
      "1 0 1 0 1\n",
      "1 0 1 0 1\n",
      "1 0 1 1 1\n",
      "=====\n",
      "['0', '0']\n",
      "1 0 1 0 1\n",
      "0 0 0 0 0\n",
      "1 0 1 0 1\n",
      "0 0 0 0 0\n",
      "1 0 1 0 1\n",
      "=====\n",
      "['0', '0']\n",
      "=====\n"
     ]
    }
   ],
   "source": [
    "i=0\n",
    "while i < len(data):\n",
    "    line = data[i].split()\n",
    "    loop = int(line[1])\n",
    "    print(value)\n",
    "    for j in range(loop):\n",
    "        print(data[i+j+1])\n",
    "    print('=====')\n",
    "    i += loop + 1"
   ]
  }
 ],
 "metadata": {
  "kernelspec": {
   "display_name": "Python 3",
   "language": "python",
   "name": "python3"
  },
  "language_info": {
   "codemirror_mode": {
    "name": "ipython",
    "version": 3
   },
   "file_extension": ".py",
   "mimetype": "text/x-python",
   "name": "python",
   "nbconvert_exporter": "python",
   "pygments_lexer": "ipython3",
   "version": "3.6.6"
  }
 },
 "nbformat": 4,
 "nbformat_minor": 2
}

{
 "cells": [
  {
   "cell_type": "markdown",
   "metadata": {},
   "source": [
    "## p1738"
   ]
  },
  {
   "cell_type": "code",
   "execution_count": 49,
   "metadata": {},
   "outputs": [
    {
     "data": {
      "text/plain": [
       "'1 2 3\\n1 3 4\\n3 1 -7\\n2 3 2\\n3 4 1\\n4 2 -5\\n4 5 1'"
      ]
     },
     "execution_count": 49,
     "metadata": {},
     "output_type": "execute_result"
    }
   ],
   "source": [
    "test='''1 2 3\n",
    "1 3 4\n",
    "3 1 -7\n",
    "2 3 2\n",
    "3 4 1\n",
    "4 2 -5\n",
    "4 5 1'''\n",
    "test"
   ]
  },
  {
   "cell_type": "code",
   "execution_count": 17,
   "metadata": {},
   "outputs": [
    {
     "name": "stdout",
     "output_type": "stream",
     "text": [
      "['1', '2', '3', '1', '3', '4', '3', '1', '-7', '2', '3', '2', '3', '4', '1', '4', '2', '-5', '4', '5', '1']\n",
      "['1 2 3', '1 3 4', '3 1 -7', '2 3 2', '3 4 1', '4 2 -5', '4 5 1']\n"
     ]
    }
   ],
   "source": [
    "print(test.split())\n",
    "print(test.split('\\n'))"
   ]
  },
  {
   "cell_type": "code",
   "execution_count": 18,
   "metadata": {},
   "outputs": [
    {
     "name": "stdout",
     "output_type": "stream",
     "text": [
      "['1', '2', '3']\n",
      "['1', '3', '4']\n",
      "['3', '1', '-7']\n",
      "['2', '3', '2']\n",
      "['3', '4', '1']\n",
      "['4', '2', '-5']\n",
      "['4', '5', '1']\n"
     ]
    }
   ],
   "source": [
    "for i in test.split('\\n'):\n",
    "    print(i.split())"
   ]
  },
  {
   "cell_type": "code",
   "execution_count": 23,
   "metadata": {},
   "outputs": [
    {
     "name": "stdout",
     "output_type": "stream",
     "text": [
      "[['1', '2', '3'], ['1', '3', '4'], ['3', '1', '-7'], ['2', '3', '2'], ['3', '4', '1'], ['4', '2', '-5'], ['4', '5', '1']]\n"
     ]
    }
   ],
   "source": [
    "numbers=[i.split() for i in test.split('\\n')]\n",
    "print(numbers)"
   ]
  },
  {
   "cell_type": "code",
   "execution_count": 50,
   "metadata": {},
   "outputs": [
    {
     "name": "stdout",
     "output_type": "stream",
     "text": [
      "[[1, 2, 3], [1, 3, 4], [3, 1, -7], [2, 3, 2], [3, 4, 1], [4, 2, -5], [4, 5, 1]]\n",
      "7\n"
     ]
    }
   ],
   "source": [
    "numbers=[[int(j) for j in i.split()] for i in test.split('\\n')]\n",
    "print(numbers)\n",
    "print(len(numbers))"
   ]
  },
  {
   "cell_type": "code",
   "execution_count": 38,
   "metadata": {},
   "outputs": [
    {
     "name": "stdout",
     "output_type": "stream",
     "text": [
      "1234\n",
      "134\n"
     ]
    }
   ],
   "source": [
    "data='''1 2 3\n",
    "1 3 4\n",
    "3 1 -7\n",
    "2 3 2\n",
    "3 4 1\n",
    "4 2 -5\n",
    "4 5 1'''\n",
    "numbers=[[int(j) for j in i.split()] for i in data.split('\\n')]\n",
    "def func(n,string=''):\n",
    "    if str(n) in string : return\n",
    "    elif n == 5 :\n",
    "        print(string)\n",
    "        return\n",
    "    for i in range(len(numbers)):\n",
    "            if numbers[i][0] == n :\n",
    "                func(numbers[i][1],string+str(n))\n",
    "func(1)"
   ]
  },
  {
   "cell_type": "code",
   "execution_count": 40,
   "metadata": {},
   "outputs": [
    {
     "data": {
      "text/plain": [
       "'f'"
      ]
     },
     "execution_count": 40,
     "metadata": {},
     "output_type": "execute_result"
    }
   ],
   "source": [
    "test='sadfasdf'\n",
    "test[-1]"
   ]
  },
  {
   "cell_type": "code",
   "execution_count": 44,
   "metadata": {},
   "outputs": [
    {
     "name": "stdout",
     "output_type": "stream",
     "text": [
      "1231\n",
      "1231\n",
      "12342\n",
      "131\n",
      "131\n",
      "13423\n",
      "13423\n"
     ]
    }
   ],
   "source": [
    "def func(n,string=''):\n",
    "    if len(string) >1 and string[-1] in string[:-1] : \n",
    "        print(string)\n",
    "        return\n",
    "    elif n > 5 :\n",
    "        print(string)\n",
    "        return\n",
    "    for i in range(len(numbers)):\n",
    "            if numbers[i][0] == n :\n",
    "                func(numbers[i][1],string+str(n))\n",
    "func(1)"
   ]
  },
  {
   "cell_type": "code",
   "execution_count": 54,
   "metadata": {},
   "outputs": [
    {
     "name": "stdout",
     "output_type": "stream",
     "text": [
      "1231\n",
      "12342\n",
      "12345\n",
      "131\n",
      "13423\n",
      "1345\n"
     ]
    }
   ],
   "source": [
    "def func(n=1,string=''):\n",
    "    string+=str(n)\n",
    "    if string[-1] in string[:-1] or string[-1] == '5': \n",
    "            print(string)\n",
    "            return\n",
    "    for i in range(len(numbers)):\n",
    "            if numbers[i][0] == n :\n",
    "                func(numbers[i][1],string)\n",
    "func()"
   ]
  },
  {
   "cell_type": "code",
   "execution_count": 66,
   "metadata": {},
   "outputs": [
    {
     "name": "stdout",
     "output_type": "stream",
     "text": [
      "1231 -2 32-7\n",
      "12342 -6 32-71-5\n",
      "12345 -5 32-71-51\n",
      "131 0 34-7\n",
      "13423 -2 34-71-52\n",
      "1345 -3 34-71-51\n"
     ]
    }
   ],
   "source": [
    "data='''1 2 3\n",
    "1 3 4\n",
    "3 1 -7\n",
    "2 3 2\n",
    "3 4 1\n",
    "4 2 -5\n",
    "4 5 1'''\n",
    "numbers=[[int(j) for j in i.split()] for i in data.split('\\n')]\n",
    "def func(n=1,string='',string2='',total=0):\n",
    "    string += str(n)\n",
    "    if string[-1] in string[:-1] or string[-1] == '5': \n",
    "            print(string, total,string2)\n",
    "    else :\n",
    "        for i in range(len(numbers)):\n",
    "                if numbers[i][0] == n :\n",
    "                    string2+=str(numbers[i][2])\n",
    "                    total += numbers[i][2]\n",
    "                    func(numbers[i][1],string,string2,total)\n",
    "func()"
   ]
  },
  {
   "cell_type": "code",
   "execution_count": 68,
   "metadata": {},
   "outputs": [
    {
     "name": "stdout",
     "output_type": "stream",
     "text": [
      "1231\n",
      "12342\n",
      "12345\n",
      "131\n",
      "13423\n",
      "1345\n"
     ]
    }
   ],
   "source": [
    "def func(n=1,string=''):\n",
    "    string+=str(n)\n",
    "    if string[-1] in string[:-1] or string[-1] == '5': \n",
    "            print(string)\n",
    "            return \n",
    "    for i in range(len(numbers)):\n",
    "            if numbers[i][0] == n :\n",
    "                func(numbers[i][1],string)\n",
    "func()"
   ]
  },
  {
   "cell_type": "code",
   "execution_count": null,
   "metadata": {},
   "outputs": [],
   "source": [
    "# 3,2,1,1"
   ]
  }
 ],
 "metadata": {
  "kernelspec": {
   "display_name": "Python 3",
   "language": "python",
   "name": "python3"
  },
  "language_info": {
   "codemirror_mode": {
    "name": "ipython",
    "version": 3
   },
   "file_extension": ".py",
   "mimetype": "text/x-python",
   "name": "python",
   "nbconvert_exporter": "python",
   "pygments_lexer": "ipython3",
   "version": "3.6.4"
  }
 },
 "nbformat": 4,
 "nbformat_minor": 2
}

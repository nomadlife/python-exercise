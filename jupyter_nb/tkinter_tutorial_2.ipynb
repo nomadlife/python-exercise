{
 "cells": [
  {
   "cell_type": "markdown",
   "metadata": {},
   "source": [
    "from Derek Banas Youtube : Leran to Program 20 - tkinter tutorial 2"
   ]
  },
  {
   "cell_type": "code",
   "execution_count": 14,
   "metadata": {},
   "outputs": [
    {
     "name": "stdout",
     "output_type": "stream",
     "text": [
      "string : Anything\n",
      "Integer : 124\n",
      "Double : 23.234\n",
      "Boolean : True\n",
      "string : Anything\n",
      "Integer : 124\n",
      "Double : 23.234\n",
      "Boolean : True\n",
      "string : Anything\n",
      "Integer : 124\n",
      "Double : 23.234\n",
      "Boolean : True\n",
      "string : Anything\n",
      "Integer : 1224\n",
      "Double : 23.234\n",
      "Boolean : True\n",
      "string : Anything\n",
      "Integer : 1224\n",
      "Double : 23.234\n",
      "Boolean : True\n"
     ]
    }
   ],
   "source": [
    "from tkinter import *\n",
    "from tkinter import messagebox\n",
    "\n",
    "def get_data(event=None):\n",
    "    print(\"string :\", strVar.get())\n",
    "    print(\"Integer :\", intVar.get())\n",
    "    print(\"Double :\", dblVar.get())\n",
    "    print(\"Boolean :\", boolVar.get())\n",
    "\n",
    "def bind_button(event=None):\n",
    "    if boolVar.get():\n",
    "        getDataButton.unbind(\"<Button-1>\")\n",
    "    else:\n",
    "        getDataButton.bind(\"<Button-1>\", get_data)\n",
    "\n",
    "root = Tk()\n",
    "\n",
    "strVar = StringVar()\n",
    "intVar = IntVar()\n",
    "dblVar = DoubleVar()\n",
    "boolVar = BooleanVar()\n",
    "\n",
    "strVar.set(\"Enter String\")\n",
    "intVar.set(\"Enter Integer\")\n",
    "dblVar.set(\"Enter Double\")\n",
    "boolVar.set(True)\n",
    "\n",
    "strEntry = Entry(root, textvariable = strVar)    \n",
    "strEntry.pack(side=LEFT)\n",
    "\n",
    "intEntry = Entry(root, textvariable = intVar)\n",
    "intEntry.pack(side=LEFT)\n",
    "\n",
    "dblEntry = Entry(root, textvariable = dblVar)\n",
    "dblEntry.pack(side=LEFT)\n",
    "\n",
    "theCheckBut = Checkbutton(root, text=\"Switch\", variable = boolVar)\n",
    "theCheckBut.bind(\"<Button-1>\", bind_button)\n",
    "theCheckBut.pack(side=LEFT)\n",
    "\n",
    "getDataButton = Button(root, text=\"Get Data\")\n",
    "getDataButton.bind(\"<Button-1>\", get_data)\n",
    "getDataButton.pack(side=LEFT)\n",
    "\n",
    "root.mainloop()\n"
   ]
  },
  {
   "cell_type": "code",
   "execution_count": 15,
   "metadata": {},
   "outputs": [
    {
     "name": "stdout",
     "output_type": "stream",
     "text": [
      "string : test\n",
      "Integer : 1\n",
      "Double : 1.1\n",
      "Boolean : True\n"
     ]
    }
   ],
   "source": [
    "#위코드 재구성. 이해하기 쉽게.\n",
    "\n",
    "from tkinter import *\n",
    "from tkinter import messagebox\n",
    "\n",
    "def get_data(event=None):\n",
    "    print(\"string :\", box1var.get())\n",
    "    print(\"Integer :\", box2var.get())\n",
    "    print(\"Double :\", box3var.get())\n",
    "    print(\"Boolean :\", checkvar.get())\n",
    "\n",
    "def bind_button(event=None):\n",
    "    if boolVar.get():\n",
    "        getDataButton.unbind(\"<Button-1>\")\n",
    "    else:\n",
    "        getDataButton.bind(\"<Button-1>\", get_data)\n",
    "\n",
    "root = Tk()\n",
    "\n",
    "box1var = StringVar()\n",
    "box1var.set(\"Enter String\")\n",
    "strEntry = Entry(root, textvariable = box1var)    \n",
    "strEntry.pack(side=LEFT)\n",
    "\n",
    "box2var = IntVar()\n",
    "box2var.set(\"Enter Integer\")\n",
    "intEntry = Entry(root, textvariable = box2var)\n",
    "intEntry.pack(side=LEFT)\n",
    "\n",
    "box3var = DoubleVar()\n",
    "box3var.set(\"Enter Double\")\n",
    "dblEntry = Entry(root, textvariable = box3var)\n",
    "dblEntry.pack(side=LEFT)\n",
    "\n",
    "checkvar = BooleanVar()\n",
    "checkvar.set(True)\n",
    "theCheckBut = Checkbutton(root, text=\"Switch\", variable = checkvar)\n",
    "theCheckBut.bind(\"<Button-1>\", bind_button)\n",
    "theCheckBut.pack(side=LEFT)\n",
    "\n",
    "\n",
    "getDataButton = Button(root, text=\"Get Data\")\n",
    "getDataButton.bind(\"<Button-1>\", get_data)\n",
    "getDataButton.pack(side=LEFT)\n",
    "\n",
    "root.mainloop()\n"
   ]
  }
 ],
 "metadata": {
  "kernelspec": {
   "display_name": "Python 3",
   "language": "python",
   "name": "python3"
  },
  "language_info": {
   "codemirror_mode": {
    "name": "ipython",
    "version": 3
   },
   "file_extension": ".py",
   "mimetype": "text/x-python",
   "name": "python",
   "nbconvert_exporter": "python",
   "pygments_lexer": "ipython3",
   "version": "3.6.2"
  }
 },
 "nbformat": 4,
 "nbformat_minor": 1
}

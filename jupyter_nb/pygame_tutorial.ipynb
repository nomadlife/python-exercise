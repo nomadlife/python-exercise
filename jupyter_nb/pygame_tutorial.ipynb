{
 "cells": [
  {
   "cell_type": "markdown",
   "metadata": {},
   "source": [
    "## pygame test"
   ]
  },
  {
   "cell_type": "code",
   "execution_count": 2,
   "metadata": {},
   "outputs": [
    {
     "name": "stdout",
     "output_type": "stream",
     "text": [
      "pygame 1.9.4\n",
      "Hello from the pygame community. https://www.pygame.org/contribute.html\n"
     ]
    }
   ],
   "source": [
    "import pygame"
   ]
  },
  {
   "cell_type": "code",
   "execution_count": null,
   "metadata": {},
   "outputs": [],
   "source": [
    "import pygame\n",
    "pygame.init()\n",
    "\n",
    "win = pygame.display.set_mode((500,500))\n",
    "\n",
    "pygame.display.set_caption(\"First Game\")"
   ]
  },
  {
   "cell_type": "code",
   "execution_count": 3,
   "metadata": {},
   "outputs": [],
   "source": [
    "import pygame\n",
    "pygame.init()\n",
    "\n",
    "win = pygame.display.set_mode((500,400))\n",
    "\n",
    "pygame.display.set_caption(\"First Game 2\")\n",
    "\n",
    "x=50\n",
    "y=50\n",
    "width = 40\n",
    "height = 60\n",
    "vel =5\n",
    "\n",
    "run = True\n",
    "while run:\n",
    "    pygame.time.delay(100)\n",
    "    for event in pygame.event.get():\n",
    "        if event.type == pygame.QUIT:\n",
    "            run = False\n",
    "    \n",
    "    pygame.draw.rect(win, (255, 0, 0), (x, y, width, height))\n",
    "    pygame.display.update()\n",
    "pygame.quit()"
   ]
  },
  {
   "cell_type": "code",
   "execution_count": 5,
   "metadata": {},
   "outputs": [
    {
     "data": {
      "text/plain": [
       "2"
      ]
     },
     "execution_count": 5,
     "metadata": {},
     "output_type": "execute_result"
    }
   ],
   "source": [
    "test=(1,2,3,4)\n",
    "test[1]"
   ]
  },
  {
   "cell_type": "code",
   "execution_count": 11,
   "metadata": {},
   "outputs": [],
   "source": [
    "# test\n",
    "import pygame\n",
    "pygame.init()\n",
    "\n",
    "win = pygame.display.set_mode((500,400))\n",
    "\n",
    "pygame.display.set_caption(\"First Game 2\")\n",
    "\n",
    "coor = (50,50,40,60)\n",
    "vel =5\n",
    "\n",
    "run = True\n",
    "while run:\n",
    "    pygame.time.delay(100)\n",
    "    for event in pygame.event.get():\n",
    "        if event.type == pygame.QUIT:\n",
    "            run = False\n",
    "    \n",
    "    pygame.draw.rect(win, (255, 0, 0), coor)\n",
    "    pygame.display.update()\n",
    "pygame.quit()"
   ]
  },
  {
   "cell_type": "code",
   "execution_count": 4,
   "metadata": {},
   "outputs": [],
   "source": [
    "import pygame\n",
    "pygame.init()\n",
    "\n",
    "win = pygame.display.set_mode((500,400))\n",
    "\n",
    "pygame.display.set_caption(\"First Game 2\")\n",
    "\n",
    "x=50\n",
    "y=50\n",
    "width = 40\n",
    "height = 60\n",
    "vel =5\n",
    "\n",
    "run = True\n",
    "while run:\n",
    "    pygame.time.delay(100)\n",
    "    for event in pygame.event.get():\n",
    "        if event.type == pygame.QUIT:\n",
    "            run = False\n",
    "            \n",
    "    keys = pygame.key.get_pressed()\n",
    "    if keys[pygame.K_LEFT]:\n",
    "        x -= vel\n",
    "    if keys[pygame.K_RIGHT]:\n",
    "        x += vel\n",
    "    if keys[pygame.K_UP]:\n",
    "        y -= vel\n",
    "    if keys[pygame.K_DOWN]:\n",
    "        y += vel\n",
    "    \n",
    "    pygame.draw.rect(win, (255, 0, 0), (x, y, width, height))\n",
    "    pygame.display.update()\n",
    "pygame.quit()"
   ]
  },
  {
   "cell_type": "code",
   "execution_count": 10,
   "metadata": {},
   "outputs": [],
   "source": [
    "# test \n",
    "import pygame\n",
    "pygame.init()\n",
    "\n",
    "win = pygame.display.set_mode((500,400))\n",
    "\n",
    "pygame.display.set_caption(\"First Game 2\")\n",
    "\n",
    "coor = [50,50,40,60]\n",
    "vel =5\n",
    "\n",
    "run = True\n",
    "while run:\n",
    "    pygame.time.delay(100)\n",
    "    for event in pygame.event.get():\n",
    "        if event.type == pygame.QUIT:\n",
    "            run = False\n",
    "            \n",
    "    keys = pygame.key.get_pressed()\n",
    "    if keys[pygame.K_LEFT]:\n",
    "        coor[0] -= vel\n",
    "    if keys[pygame.K_RIGHT]:\n",
    "        coor[0] += vel\n",
    "    if keys[pygame.K_UP]:\n",
    "        coor[1] -= vel\n",
    "    if keys[pygame.K_DOWN]:\n",
    "        coor[1] += vel\n",
    "    \n",
    "    pygame.draw.rect(win, (255, 0, 0), coor)\n",
    "    pygame.display.update()\n",
    "pygame.quit()"
   ]
  },
  {
   "cell_type": "code",
   "execution_count": 2,
   "metadata": {},
   "outputs": [],
   "source": [
    "import pygame\n",
    "pygame.init()\n",
    "\n",
    "win = pygame.display.set_mode((500,400))\n",
    "pygame.display.set_caption(\"First Game 2\")\n",
    "coor = [50,50,40,60]\n",
    "vel =5\n",
    "run = True\n",
    "while run:\n",
    "    pygame.time.delay(100)\n",
    "    for event in pygame.event.get():\n",
    "        if event.type == pygame.QUIT:\n",
    "            run = False\n",
    "            \n",
    "    keys = pygame.key.get_pressed()\n",
    "    if keys[pygame.K_LEFT]:\n",
    "        coor[0] -= vel\n",
    "    if keys[pygame.K_RIGHT]:\n",
    "        coor[0] += vel\n",
    "    if keys[pygame.K_UP]:\n",
    "        coor[1] -= vel\n",
    "    if keys[pygame.K_DOWN]:\n",
    "        coor[1] += vel\n",
    "        \n",
    "    win.fill((0,0,0))\n",
    "    pygame.draw.rect(win, (255, 0, 0), coor)\n",
    "    pygame.display.update()\n",
    "pygame.quit()"
   ]
  },
  {
   "cell_type": "markdown",
   "metadata": {},
   "source": [
    "## tutorial 2"
   ]
  },
  {
   "cell_type": "code",
   "execution_count": null,
   "metadata": {},
   "outputs": [],
   "source": []
  }
 ],
 "metadata": {
  "kernelspec": {
   "display_name": "Python 3",
   "language": "python",
   "name": "python3"
  },
  "language_info": {
   "codemirror_mode": {
    "name": "ipython",
    "version": 3
   },
   "file_extension": ".py",
   "mimetype": "text/x-python",
   "name": "python",
   "nbconvert_exporter": "python",
   "pygments_lexer": "ipython3",
   "version": "3.6.4"
  }
 },
 "nbformat": 4,
 "nbformat_minor": 2
}

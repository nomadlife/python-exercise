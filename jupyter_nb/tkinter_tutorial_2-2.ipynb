{
 "cells": [
  {
   "cell_type": "code",
   "execution_count": 6,
   "metadata": {},
   "outputs": [
    {
     "name": "stdout",
     "output_type": "stream",
     "text": [
      "('clam', 'alt', 'default', 'classic')\n",
      "Times 20 bold italic\n",
      "midnight blue\n",
      "20\n"
     ]
    }
   ],
   "source": [
    "#click button and display msgbox\n",
    "\n",
    "from tkinter import *\n",
    "from tkinter import messagebox\n",
    "from tkinter import ttk\n",
    "\n",
    "def open_msg_box():\n",
    "    messagebox.showwarning(\n",
    "    \"Event Triggered\",\n",
    "    \"Button Clicked\"\n",
    "    )\n",
    "\n",
    "root = Tk()\n",
    "\n",
    "# widthxheight + xoffset+yoffsets\n",
    "root.geometry(\"400x400+300+300\")\n",
    "root.resizable(width=False, height = False)\n",
    "\n",
    "frame =Frame(root)\n",
    "style = ttk.Style()\n",
    "# color index -> http://wiki.tcl.tk/37701\n",
    "style.configure(\"TButton\", foreground=\"midnight blue\",\n",
    "               font = \"Times 20 bold italic\",\n",
    "               padding =20)\n",
    "# Ttk widget names : TButton, TCheckbutton, TCombobox,\n",
    "# TEntry, TFrame, TLabel, TLabelframe, TMenubutton,\n",
    "# TNotebook, TProgressbat, TRadiobutton, TScale,\n",
    "# TScrollbar, TSpinbox, Treeview\n",
    "\n",
    "print(ttk.Style().theme_names())\n",
    "\n",
    "print(style.lookup(\"TButton\",\"font\"))\n",
    "print(style.lookup(\"TButton\",\"foreground\"))\n",
    "print(style.lookup(\"TButton\",\"padding\"))\n",
    "\n",
    "ttk.Style().theme_use('clam')\n",
    "\n",
    "theButton = ttk.Button(frame, text=\"Important Button\",command = open_msg_box)\n",
    "\n",
    "theButton[\"state\"] = 'disabled'\n",
    "theButton[\"state\"] = 'normal'\n",
    "\n",
    "theButton.pack()\n",
    "frame.pack()\n",
    "\n",
    "root.mainloop()\n",
    "\n"
   ]
  }
 ],
 "metadata": {
  "kernelspec": {
   "display_name": "Python 3",
   "language": "python",
   "name": "python3"
  },
  "language_info": {
   "codemirror_mode": {
    "name": "ipython",
    "version": 3
   },
   "file_extension": ".py",
   "mimetype": "text/x-python",
   "name": "python",
   "nbconvert_exporter": "python",
   "pygments_lexer": "ipython3",
   "version": "3.6.2"
  }
 },
 "nbformat": 4,
 "nbformat_minor": 1
}

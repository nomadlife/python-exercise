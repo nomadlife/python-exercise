{
 "cells": [
  {
   "cell_type": "code",
   "execution_count": 1,
   "metadata": {},
   "outputs": [],
   "source": [
    "# module test\n",
    "\n",
    "import tkinter"
   ]
  },
  {
   "cell_type": "code",
   "execution_count": 12,
   "metadata": {},
   "outputs": [],
   "source": [
    "# empty screen \n",
    "\n",
    "import tkinter as tk\n",
    "\n",
    "calc = tk.Tk()\n",
    "calc.mainloop()"
   ]
  },
  {
   "cell_type": "code",
   "execution_count": 13,
   "metadata": {},
   "outputs": [],
   "source": [
    "# change info \n",
    "\n",
    "import tkinter as tk\n",
    "\n",
    "calc = tk.Tk()\n",
    "calc.title(\"Calculator\")\n",
    "calc.geometry(\"300x300\")\n",
    "\n",
    "calc.mainloop()"
   ]
  },
  {
   "cell_type": "code",
   "execution_count": 3,
   "metadata": {},
   "outputs": [],
   "source": [
    "# 출력창 추가\n",
    "\n",
    "import tkinter as tk\n",
    "\n",
    "calc = tk.Tk()\n",
    "calc.title(\"Calculator\")\n",
    "calc.geometry(\"300x300\")\n",
    "\n",
    "display = tk.Entry(calc, width=20)\n",
    "display.pack()\n",
    "\n",
    "calc.mainloop()"
   ]
  },
  {
   "cell_type": "code",
   "execution_count": 3,
   "metadata": {},
   "outputs": [
    {
     "name": "stdout",
     "output_type": "stream",
     "text": [
      "enter pressed!\n",
      "enter pressed!\n",
      "enter pressed!\n",
      "enter pressed!\n"
     ]
    }
   ],
   "source": [
    "# 엔터키 연결\n",
    "\n",
    "import tkinter as tk\n",
    "\n",
    "calc = tk.Tk()\n",
    "calc.title(\"Calculator\")\n",
    "calc.geometry(\"300x300\")\n",
    "\n",
    "def func(event):\n",
    "    print('enter pressed!')\n",
    "\n",
    "display = tk.Entry(calc, width=20)\n",
    "display.pack()\n",
    "\n",
    "calc.bind('<Return>', func)\n",
    "\n",
    "calc.mainloop()"
   ]
  },
  {
   "cell_type": "code",
   "execution_count": 7,
   "metadata": {},
   "outputs": [
    {
     "name": "stdout",
     "output_type": "stream",
     "text": [
      "12\n"
     ]
    }
   ],
   "source": [
    "# 값 출력\n",
    "\n",
    "import tkinter as tk\n",
    "\n",
    "calc = tk.Tk()\n",
    "calc.title(\"Calculator\")\n",
    "calc.geometry(\"300x300\")\n",
    "\n",
    "def func(event):\n",
    "    print(tk.Entry.get(display))\n",
    "\n",
    "display = tk.Entry(calc, width=20)\n",
    "display.pack()\n",
    "\n",
    "calc.bind('<Return>', func)\n",
    "\n",
    "calc.mainloop()"
   ]
  },
  {
   "cell_type": "code",
   "execution_count": 8,
   "metadata": {},
   "outputs": [
    {
     "name": "stdout",
     "output_type": "stream",
     "text": [
      "2\n",
      "6\n"
     ]
    }
   ],
   "source": [
    "# 계산\n",
    "\n",
    "import tkinter as tk\n",
    "\n",
    "calc = tk.Tk()\n",
    "calc.title(\"Calculator\")\n",
    "calc.geometry(\"300x300\")\n",
    "\n",
    "def func(event):\n",
    "    result = eval(tk.Entry.get(display))\n",
    "    print(result)\n",
    "\n",
    "display = tk.Entry(calc, width=20)\n",
    "display.pack()\n",
    "\n",
    "calc.bind('<Return>', func)\n",
    "\n",
    "calc.mainloop()"
   ]
  },
  {
   "cell_type": "code",
   "execution_count": 50,
   "metadata": {},
   "outputs": [],
   "source": [
    "# 계산 후 결과값 표시\n",
    "\n",
    "import tkinter as tk\n",
    "\n",
    "calc = tk.Tk()\n",
    "calc.title(\"Calculator\")\n",
    "calc.geometry(\"300x300\")\n",
    "\n",
    "def func(event):\n",
    "    result = eval(tk.Entry.get(display))\n",
    "    print(result)\n",
    "    display.delete(0,tk.END)\n",
    "    display.insert(0,result)\n",
    "\n",
    "display = tk.Entry(calc, width=20)\n",
    "display.pack()\n",
    "\n",
    "calc.bind('<Return>', func)\n",
    "\n",
    "calc.mainloop()"
   ]
  },
  {
   "cell_type": "code",
   "execution_count": null,
   "metadata": {},
   "outputs": [],
   "source": []
  },
  {
   "cell_type": "code",
   "execution_count": 52,
   "metadata": {},
   "outputs": [
    {
     "name": "stdout",
     "output_type": "stream",
     "text": [
      "156\n",
      "156\n"
     ]
    }
   ],
   "source": [
    "# 버튼 추가, clear 기능 추가\n",
    "\n",
    "import tkinter as tk\n",
    "\n",
    "calc = tk.Tk()\n",
    "calc.title(\"Calculator\")\n",
    "calc.geometry(\"300x300\")\n",
    "\n",
    "def calculate(event):\n",
    "    value = tk.Entry.get(display)\n",
    "    if value != '':\n",
    "        result = eval(value)\n",
    "        print(result)\n",
    "        display.delete(0,tk.END)\n",
    "        display.insert(0,result)\n",
    "\n",
    "def clear(event):\n",
    "    display.delete(0,tk.END)\n",
    "    \n",
    "display = tk.Entry(calc, width=20)\n",
    "display.pack()\n",
    "\n",
    "button_e = tk.Button(calc, text='=')\n",
    "button_e.bind('<Button-1>',calculate)\n",
    "button_e.pack()\n",
    "\n",
    "button_c = tk.Button(calc, text='c')\n",
    "button_c.bind('<Button-1>',clear)\n",
    "button_c.pack()\n",
    "\n",
    "calc.bind('<Return>', calculate)\n",
    "calc.bind('<Escape>', clear)\n",
    "\n",
    "calc.mainloop()"
   ]
  },
  {
   "cell_type": "code",
   "execution_count": 13,
   "metadata": {},
   "outputs": [
    {
     "name": "stdout",
     "output_type": "stream",
     "text": [
      "-37\n"
     ]
    },
    {
     "name": "stderr",
     "output_type": "stream",
     "text": [
      "Exception in Tkinter callback\n",
      "Traceback (most recent call last):\n",
      "  File \"/home/jw/anaconda3/lib/python3.6/tkinter/__init__.py\", line 1699, in __call__\n",
      "    return self.func(*args)\n",
      "  File \"<ipython-input-13-aded8e53ae73>\", line 12, in calculate\n",
      "    result = eval(value)\n",
      "  File \"<string>\", line 1\n",
      "    07+3\n",
      "     ^\n",
      "SyntaxError: invalid token\n",
      "Exception in Tkinter callback\n",
      "Traceback (most recent call last):\n",
      "  File \"/home/jw/anaconda3/lib/python3.6/tkinter/__init__.py\", line 1699, in __call__\n",
      "    return self.func(*args)\n",
      "  File \"<ipython-input-13-aded8e53ae73>\", line 12, in calculate\n",
      "    result = eval(value)\n",
      "  File \"<string>\", line 1\n",
      "    07+3\n",
      "     ^\n",
      "SyntaxError: invalid token\n",
      "Exception in Tkinter callback\n",
      "Traceback (most recent call last):\n",
      "  File \"/home/jw/anaconda3/lib/python3.6/tkinter/__init__.py\", line 1699, in __call__\n",
      "    return self.func(*args)\n",
      "  File \"<ipython-input-13-aded8e53ae73>\", line 12, in calculate\n",
      "    result = eval(value)\n",
      "  File \"<string>\", line 1\n",
      "    07+3\n",
      "     ^\n",
      "SyntaxError: invalid token\n",
      "Exception in Tkinter callback\n",
      "Traceback (most recent call last):\n",
      "  File \"/home/jw/anaconda3/lib/python3.6/tkinter/__init__.py\", line 1699, in __call__\n",
      "    return self.func(*args)\n",
      "  File \"<ipython-input-13-aded8e53ae73>\", line 12, in calculate\n",
      "    result = eval(value)\n",
      "  File \"<string>\", line 1\n",
      "    07+3\n",
      "     ^\n",
      "SyntaxError: invalid token\n",
      "Exception in Tkinter callback\n",
      "Traceback (most recent call last):\n",
      "  File \"/home/jw/anaconda3/lib/python3.6/tkinter/__init__.py\", line 1699, in __call__\n",
      "    return self.func(*args)\n",
      "  File \"<ipython-input-13-aded8e53ae73>\", line 12, in calculate\n",
      "    result = eval(value)\n",
      "  File \"<string>\", line 1\n",
      "    08+3/2\n",
      "     ^\n",
      "SyntaxError: invalid token\n"
     ]
    },
    {
     "name": "stdout",
     "output_type": "stream",
     "text": [
      "2.6666666666666665\n",
      "88\n"
     ]
    }
   ],
   "source": [
    "# 숫자 버튼 9개 추가, layout: pack -> grid로 변경 \n",
    "\n",
    "import tkinter as tk\n",
    "\n",
    "calc = tk.Tk()\n",
    "calc.title(\"Calculator\")\n",
    "calc.geometry(\"300x300\")\n",
    "\n",
    "def calculate(event):\n",
    "    value = tk.Entry.get(display)\n",
    "    if value != '':\n",
    "        result = eval(value)\n",
    "        print(result)\n",
    "        display.delete(0,tk.END)\n",
    "        display.insert(0,result)\n",
    "\n",
    "def clear(event):\n",
    "    display.delete(0,tk.END)\n",
    "\n",
    "def key_pressed(key):\n",
    "    display.insert(tk.END, key)\n",
    "    \n",
    "display = tk.Entry(calc, width=15)\n",
    "display.grid(row=0,column=1,columnspan=2)\n",
    "\n",
    "button_e = tk.Button(calc, text='=', width=10)\n",
    "button_e.bind('<Button-1>',calculate)\n",
    "button_e.grid(row=1,column=2, columnspan=2)\n",
    "\n",
    "button_c = tk.Button(calc, text='c', width=10)\n",
    "button_c.bind('<Button-1>',clear)\n",
    "button_c.grid(row=1,column=0, columnspan=2)\n",
    "\n",
    "number_1 = tk.Button(calc, text='1', width=5, command=lambda:key_pressed('1'))\n",
    "number_1.grid(row=2,column=0)\n",
    "\n",
    "number_2 = tk.Button(calc, text='2', width=5, command=lambda:key_pressed('2'))\n",
    "number_2.grid(row=2,column=1)\n",
    "\n",
    "number_3 = tk.Button(calc, text='3', width=5, command=lambda:key_pressed('3'))\n",
    "number_3.grid(row=2,column=2)\n",
    "\n",
    "number_4 = tk.Button(calc, text='4', width=5, command=lambda:key_pressed('4'))\n",
    "number_4.grid(row=3,column=0)\n",
    "\n",
    "number_5 = tk.Button(calc, text='5', width=5, command=lambda:key_pressed('5'))\n",
    "number_5.grid(row=3,column=1)\n",
    "\n",
    "number_6 = tk.Button(calc, text='6', width=5, command=lambda:key_pressed('6'))\n",
    "number_6.grid(row=3,column=2)\n",
    "\n",
    "number_7 = tk.Button(calc, text='7', width=5, command=lambda:key_pressed('7'))\n",
    "number_7.grid(row=4,column=0)\n",
    "\n",
    "number_8 = tk.Button(calc, text='8', width=5, command=lambda:key_pressed('8'))\n",
    "number_8.grid(row=4,column=1)\n",
    "\n",
    "number_9 = tk.Button(calc, text='9', width=5, command=lambda:key_pressed('9'))\n",
    "number_9.grid(row=4,column=2)\n",
    "\n",
    "number_0 = tk.Button(calc, text='0', width=5, command=lambda:key_pressed('0'))\n",
    "number_0.grid(row=5,column=0)\n",
    "\n",
    "btn_plus = tk.Button(calc, text='+', width=5, command=lambda:key_pressed('+'))\n",
    "btn_plus.grid(row=2,column=3)\n",
    "\n",
    "btn_minus = tk.Button(calc, text='-', width=5, command=lambda:key_pressed('-'))\n",
    "btn_minus.grid(row=3,column=3)\n",
    "\n",
    "btn_multiply = tk.Button(calc, text='*', width=5, command=lambda:key_pressed('*'))\n",
    "btn_multiply.grid(row=4,column=3)\n",
    "\n",
    "btn_divide = tk.Button(calc, text='/', width=5, command=lambda:key_pressed('/'))\n",
    "btn_divide.grid(row=5,column=3)\n",
    "\n",
    "\n",
    "calc.bind('<Return>', calculate)\n",
    "calc.bind('<Escape>', clear)\n",
    "\n",
    "calc.mainloop()"
   ]
  },
  {
   "cell_type": "code",
   "execution_count": null,
   "metadata": {},
   "outputs": [],
   "source": []
  },
  {
   "cell_type": "code",
   "execution_count": 49,
   "metadata": {},
   "outputs": [
    {
     "name": "stdout",
     "output_type": "stream",
     "text": [
      "15129\n"
     ]
    }
   ],
   "source": [
    "# \n",
    "\n",
    "import tkinter as tk\n",
    "\n",
    "calc = tk.Tk()\n",
    "calc.title(\"Calculator\")\n",
    "calc.geometry(\"300x300\")\n",
    "\n",
    "def calculate(event):\n",
    "    value = tk.Entry.get(display)\n",
    "    if value != '':\n",
    "        result = eval(value)\n",
    "        print(result)\n",
    "        display.delete(0,tk.END)\n",
    "        display.insert(0,result)\n",
    "\n",
    "def clear(event):\n",
    "    display.delete(0,tk.END)\n",
    "\n",
    "# def key_pressed(event):\n",
    "#     display.insert(tk.END,event.keysym)\n",
    "#     pass\n",
    "    \n",
    "display = tk.Entry(calc, width=20)\n",
    "display.grid(row=0,columnspan=1)\n",
    "\n",
    "button_e = tk.Button(calc, text='=')\n",
    "button_e.bind('<Button-1>',calculate)\n",
    "button_e.grid(row=1,column=0)\n",
    "\n",
    "button_c = tk.Button(calc, text='c')\n",
    "button_c.bind('<Button-1>',clear)\n",
    "button_c.grid(row=1,column=1)\n",
    "\n",
    "calc.bind('<Return>', calculate)\n",
    "calc.bind('<Escape>', clear)\n",
    "# calc.bind('<Key>', key_pressed)\n",
    "\n",
    "calc.mainloop()"
   ]
  }
 ],
 "metadata": {
  "kernelspec": {
   "display_name": "Python 3",
   "language": "python",
   "name": "python3"
  },
  "language_info": {
   "codemirror_mode": {
    "name": "ipython",
    "version": 3
   },
   "file_extension": ".py",
   "mimetype": "text/x-python",
   "name": "python",
   "nbconvert_exporter": "python",
   "pygments_lexer": "ipython3",
   "version": "3.6.4"
  }
 },
 "nbformat": 4,
 "nbformat_minor": 1
}

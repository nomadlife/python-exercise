{
 "cells": [
  {
   "cell_type": "markdown",
   "metadata": {},
   "source": [
    "# Guess number - strike , ball\n"
   ]
  },
  {
   "cell_type": "code",
   "execution_count": null,
   "metadata": {
    "collapsed": true
   },
   "outputs": [],
   "source": [
    "#숫자맞추기 1 code\n",
    "\n",
    "import random\n",
    "number = random.randint(1,999)\n",
    "\n",
    "while True:\n",
    "    guess = int(input(\"숫자를 입력하세요:\"))\n",
    "    if guess == number:\n",
    "        print(\"정답입니다\")\n",
    "        break\n",
    "    elif guess > number:\n",
    "        print(\"더 작은 수를 입력하세요\")\n",
    "    else:\n",
    "        print(\"더 큰 수를 입력하세요\")"
   ]
  },
  {
   "cell_type": "code",
   "execution_count": 4,
   "metadata": {},
   "outputs": [
    {
     "name": "stdout",
     "output_type": "stream",
     "text": [
      "733\n",
      "input number :500\n",
      "500\n",
      "Guess higher!\n",
      "input number :750\n",
      "750\n",
      "Guess lower!\n",
      "input number :733\n",
      "733\n",
      "You got it\n"
     ]
    }
   ],
   "source": [
    "#number to string, fill 0\n",
    "\n",
    "import random\n",
    "number = str(random.randint(1,999)).zfill(3) #변경\n",
    "print(number)  \n",
    "\n",
    "while True:\n",
    "    guess = input(\"숫자를 입력하세요:\").zfill(3) # eval() 함수 제거. 문자그대로 처리\n",
    "    print(guess)\n",
    "    if guess == number:\n",
    "        print(\"정답입니다\")\n",
    "        break\n",
    "    elif guess > number:    # 문자상태의 숫자도 크기비교가 가능합니다.\n",
    "        print(\"더 작은 수를 입력하세요\")\n",
    "    else:\n",
    "        print(\"더 큰 수를 입력하세요\")"
   ]
  },
  {
   "cell_type": "code",
   "execution_count": 2,
   "metadata": {},
   "outputs": [
    {
     "name": "stdout",
     "output_type": "stream",
     "text": [
      "input number :369\n",
      "369\n",
      "strike:0 ball:0\n",
      "input number :245\n",
      "245\n",
      "strike:1 ball:0\n",
      "input number :178\n",
      "178\n",
      "strike:1 ball:0\n",
      "input number :208\n",
      "208\n",
      "strike:1 ball:0\n",
      "input number :048\n",
      "048\n",
      "strike:0 ball:0\n",
      "input number :277\n",
      "277\n",
      "You got it\n"
     ]
    }
   ],
   "source": [
    "#strike, ball 판단\n",
    "\n",
    "import random\n",
    "number = str(random.randint(1,999)).zfill(3)\n",
    "print(number)  \n",
    "\n",
    "while True:\n",
    "    guess = input(\"숫자를 입력하세요:\").zfill(3)\n",
    "    print(guess)\n",
    "    if guess == number:\n",
    "        print(\"정답입니다\")\n",
    "        break\n",
    "    else:\n",
    "        strike = 0\n",
    "        ball = 0\n",
    "        for i in range(3):\n",
    "            if guess[i] == number[i]:\n",
    "                strike += 1\n",
    "            elif guess[i] in number:\n",
    "                ball+=1\n",
    "        print(\"strike:{} ball:{}\".format(strike,ball))\n",
    "            \n",
    "        "
   ]
  },
  {
   "cell_type": "code",
   "execution_count": 2,
   "metadata": {
    "scrolled": false
   },
   "outputs": [
    {
     "name": "stdout",
     "output_type": "stream",
     "text": [
      "main 598\n",
      "strike ball\n",
      "guess number :123\n",
      "sub 598\n",
      "00\n",
      "guess number :598\n",
      "You got it\n"
     ]
    }
   ],
   "source": [
    "#upgrade, 함수분리, 함수내에서 global 변수 선언 없이 자동으로 인식??? \n",
    "\n",
    "def strikeball(guess_string):\n",
    "    strike = 0\n",
    "    ball = 0\n",
    "    print('sub',number)\n",
    "    for i in range(3):\n",
    "        if guess[i] == number[i]:\n",
    "            strike += 1\n",
    "        elif guess[i] in number:\n",
    "            ball+=1\n",
    "    return(str(strike)+str(ball))\n",
    "\n",
    "import random\n",
    "number = str(random.randint(1,999)).zfill(3)\n",
    "print('main',number)  \n",
    "found = False\n",
    "print('strike ball')\n",
    "while not found:\n",
    "    guess = input(\"숫자를 입력하세요:\").zfill(3)\n",
    "    if guess == number:\n",
    "        print(\"정답입니다\")\n",
    "        found = True\n",
    "    else:\n",
    "        print(strikeball(guess))\n"
   ]
  },
  {
   "cell_type": "code",
   "execution_count": 19,
   "metadata": {},
   "outputs": [
    {
     "name": "stdout",
     "output_type": "stream",
     "text": [
      "answer : 846\n",
      "strike ball\n",
      "input number :123\n",
      " 0    0\n",
      "input number :456\n",
      " 1    1\n",
      "input number :789\n",
      " 0    1\n",
      "input number :846\n",
      "You got it\n"
     ]
    }
   ],
   "source": [
    "#strike, ball 판단 - upgrade\n",
    "\n",
    "import random\n",
    "number = str(random.randint(1,999)).zfill(3)\n",
    "found = False\n",
    "print('answer :', number)\n",
    "\n",
    "print('strike ball')\n",
    "while not found:\n",
    "    guess = input(\"숫자를 입력하세요:\").zfill(3)\n",
    "    if guess == number:\n",
    "        print(\"정답입니다\")\n",
    "        found = True\n",
    "    else:\n",
    "        strike = 0\n",
    "        ball = 0\n",
    "        for i in range(3):\n",
    "            if guess[i] == number[i]:\n",
    "                strike += 1\n",
    "            elif guess[i] in number:\n",
    "                ball+=1\n",
    "        print(\"{:2d}{:5d}\".format(strike,ball))\n"
   ]
  },
  {
   "cell_type": "code",
   "execution_count": 1,
   "metadata": {},
   "outputs": [
    {
     "name": "stdout",
     "output_type": "stream",
     "text": [
      "answer : 308\n",
      "strike ball\n",
      "input number :123\n",
      "0 S 1 B\n",
      "input number :456\n",
      "0 S 0 B\n",
      "input number :789\n",
      "0 S 1 B\n",
      "input number :308\n",
      "You got it\n"
     ]
    }
   ],
   "source": [
    "# 중복처리 추가\n",
    "\n",
    "import random\n",
    "number = str(random.randint(1,999)).zfill(3)\n",
    "found = False\n",
    "print('answer :', number)\n",
    "\n",
    "print('strike ball')\n",
    "while not found:\n",
    "    guess = input(\"숫자를 입력하세요:\").zfill(3)\n",
    "    if guess == number:\n",
    "        print(\"정답입니다\")\n",
    "        found = True\n",
    "    else:\n",
    "        strike = 0\n",
    "        ball = 0\n",
    "        for i in range(3):\n",
    "            if guess[i] == number[i]:\n",
    "                strike += 1\n",
    "            if guess[i] in number[]:\n",
    "                ball+=1\n",
    "        print(strike,'S',ball,'B')\n"
   ]
  },
  {
   "cell_type": "markdown",
   "metadata": {},
   "source": [
    "## test for bot"
   ]
  }
 ],
 "metadata": {
  "kernelspec": {
   "display_name": "Python 3",
   "language": "python",
   "name": "python3"
  },
  "language_info": {
   "codemirror_mode": {
    "name": "ipython",
    "version": 3
   },
   "file_extension": ".py",
   "mimetype": "text/x-python",
   "name": "python",
   "nbconvert_exporter": "python",
   "pygments_lexer": "ipython3",
   "version": "3.6.4"
  }
 },
 "nbformat": 4,
 "nbformat_minor": 2
}

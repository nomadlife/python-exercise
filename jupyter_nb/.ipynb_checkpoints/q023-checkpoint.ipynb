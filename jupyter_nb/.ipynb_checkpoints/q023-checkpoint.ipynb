{
 "cells": [
  {
   "cell_type": "markdown",
   "metadata": {},
   "source": [
    "# Q-023 Non-abundant sums\n",
    "\n",
    "\n",
    "\n",
    "A perfect number is a number for which the sum of its proper divisors is exactly equal to the number. For example, the sum of the proper divisors of 28 would be 1 + 2 + 4 + 7 + 14 = 28, which means that 28 is a perfect number.\n",
    "\n",
    "A number n is called deficient if the sum of its proper divisors is less than n and it is called abundant if this sum exceeds n.\n",
    "\n",
    "As 12 is the smallest abundant number, 1 + 2 + 3 + 4 + 6 = 16, the smallest number that can be written as the sum of two abundant numbers is 24. By mathematical analysis, it can be shown that all integers greater than 28123 can be written as the sum of two abundant numbers. However, this upper limit cannot be reduced any further by analysis even though it is known that the greatest number that cannot be expressed as the sum of two abundant numbers is less than this limit.\n",
    "\n",
    "Find the sum of all the positive integers which cannot be written as the sum of two abundant numbers.\n",
    "\n",
    "문제.abundant한 두수의 합으로 나타낼수 없는 수를 찾아서, 합계를 계산.\n",
    "1.abundant 한지를 모두 조사해서, 하나라도 abundant한수의 합으로 구성되는수는 bool 값 true로 변경\n",
    "2.abundant 여부는, 문제의 정의대로 약수의 합이 원래 수보다 큰지를 확인.=>서브함수\n",
    "3.약수는 나누어 봐서 0으로 떨어지는지 확인.\n",
    "3.최종, bool값이 false, 즉 abundant 하지 않는 수만 총합계에 누적.\n",
    "\n",
    "* 약수의 합을 계산할때는, 제곱근을 취해서, 연산속도를 빠르게함.\n",
    "* abundatn 검사루프도, 하나라도 성립하면, bool값 True로 변경하고, inner 루프 종료."
   ]
  },
  {
   "cell_type": "code",
   "execution_count": 36,
   "metadata": {
    "collapsed": false
   },
   "outputs": [
    {
     "name": "stdout",
     "output_type": "stream",
     "text": [
      "loop: 1,   sum: 0\n",
      "loop: 2, 1;  sum: 1\n",
      "loop: 3, 1;  sum: 1\n",
      "loop: 4, 1;2;  sum: 3\n",
      "loop: 5, 1;  sum: 1\n",
      "loop: 6, 1;2;3;  sum: 6\n",
      "loop: 7, 1;  sum: 1\n",
      "loop: 8, 1;2;4;  sum: 7\n",
      "loop: 9, 1;3;  sum: 4\n",
      "loop: 10, 1;2;5;  sum: 8\n",
      "loop: 11, 1;  sum: 1\n",
      "loop: 12, 1;2;3;4;6;  sum: 16\n",
      "loop: 13, 1;  sum: 1\n",
      "loop: 14, 1;2;7;  sum: 10\n",
      "loop: 15, 1;3;5;  sum: 9\n",
      "loop: 16, 1;2;4;8;  sum: 15\n",
      "loop: 17, 1;  sum: 1\n",
      "loop: 18, 1;2;3;6;9;  sum: 21\n",
      "loop: 19, 1;  sum: 1\n"
     ]
    }
   ],
   "source": [
    "# 약수의 합.\n",
    "\n",
    "def sumFactors(number):\n",
    "    total=0\n",
    "    for i in range(1,number):\n",
    "        if number%i==0:\n",
    "            print(i,end=';')\n",
    "            total+=i\n",
    "    return total\n",
    "\n",
    "for i in range(1,20):\n",
    "    print(\"loop:\",i,end=', ')\n",
    "    print(\"  sum:\",sumFactors(i))"
   ]
  },
  {
   "cell_type": "code",
   "execution_count": 86,
   "metadata": {
    "collapsed": false
   },
   "outputs": [
    {
     "name": "stdout",
     "output_type": "stream",
     "text": [
      "loop: 1,   sum: 0\n",
      "loop: 2, 1;  sum: 1\n",
      "loop: 3, 1;  sum: 1\n",
      "loop: 4, 1;2;  sum: 3\n",
      "loop: 5, 1;  sum: 1\n",
      "loop: 6, 1;2;3;  sum: 6\n",
      "loop: 7, 1;  sum: 1\n",
      "loop: 8, 1;2;4;  sum: 7\n",
      "loop: 9, 1;3;  sum: 4\n",
      "loop: 10, 1;2;5;  sum: 8\n",
      "loop: 11,   sum: 1\n",
      "loop: 12, 2;3;  sum: 16\n",
      "loop: 13,   sum: 1\n",
      "loop: 14, 2;  sum: 10\n",
      "loop: 15, 3;  sum: 9\n",
      "loop: 16, 2;4;  sum: 15\n",
      "loop: 17,   sum: 1\n",
      "loop: 18, 2;3;  sum: 21\n",
      "loop: 19,   sum: 1\n"
     ]
    }
   ],
   "source": [
    "# 약수의 함(속도 증가)\n",
    "\n",
    "def sumFactors(number):\n",
    "    total=0\n",
    "    if number > 10:\n",
    "        i=2\n",
    "        loop = number**0.5\n",
    "        total+=1\n",
    "        while i<=loop:\n",
    "            if number%i==0:\n",
    "                print(i,end=';')\n",
    "                total+=i\n",
    "                if i**2 != number:\n",
    "                    total+=number//i\n",
    "            i+=1\n",
    "    else:\n",
    "        i=1\n",
    "        while i<number:\n",
    "            if number%i==0:\n",
    "                print(i,end=';')\n",
    "                total+=i\n",
    "            i+=1\n",
    "    return total\n",
    "\n",
    "for i in range(1,20):\n",
    "    print(\"loop:\",i,end=', ')\n",
    "    print(\"  sum:\",sumFactors(i))"
   ]
  },
  {
   "cell_type": "code",
   "execution_count": 89,
   "metadata": {
    "collapsed": false
   },
   "outputs": [
    {
     "name": "stdout",
     "output_type": "stream",
     "text": [
      "loop: 24 12 16 12 16\n",
      "loop: 30 12 16 18 21\n",
      "loop: 32 12 16 20 22\n",
      "loop: 36 12 16 24 36\n",
      "loop: 38 18 21 20 22\n",
      "loop: 40 20 22 20 22\n",
      "loop: 42 12 16 30 42\n",
      "loop: 44 20 22 24 36\n",
      "loop: 48 12 16 36 55\n",
      "loop: 50 20 22 30 42\n",
      "loop: 52 12 16 40 50\n",
      "loop: 54 12 16 42 54\n",
      "loop: 56 20 22 36 55\n",
      "loop: 58 18 21 40 50\n",
      "loop: 60 12 16 48 76\n",
      "loop: 62 20 22 42 54\n",
      "loop: 64 24 36 40 50\n",
      "loop: 66 12 16 54 66\n",
      "loop: 68 12 16 56 64\n",
      "loop: 70 30 42 40 50\n",
      "loop: 72 12 16 60 108\n",
      "loop: 74 18 21 56 64\n",
      "loop: 76 20 22 56 64\n",
      "loop: 78 12 16 66 78\n",
      "loop: 80 20 22 60 108\n",
      "loop: 82 12 16 70 74\n",
      "loop: 84 12 16 72 123\n",
      "loop: 86 20 22 66 78\n",
      "loop: 88 18 21 70 74\n",
      "loop: 90 12 16 78 90\n",
      "loop: 92 12 16 80 106\n",
      "loop: 94 24 36 70 74\n",
      "loop: 96 12 16 84 140\n",
      "loop: 98 18 21 80 106\n",
      "0\n"
     ]
    }
   ],
   "source": [
    "# 메인 루프(abundant 인것)\n",
    "\n",
    "def sumFactors(number):\n",
    "    total=0\n",
    "    for i in range(1,number):\n",
    "        if number%i==0:\n",
    "            #print(i,end=';')\n",
    "            total+=i\n",
    "    return total\n",
    "\n",
    "grand_total =0\n",
    "for i in range(1,100):\n",
    "    for j in range(1,i):\n",
    "        cal1=sumFactors(j)\n",
    "        if cal1>j:\n",
    "            cal2=sumFactors(i-j)\n",
    "            if cal2>i-j:\n",
    "                print(\"loop:\",i,j,cal1,i-j,cal2)\n",
    "                break\n",
    "print(grand_total)"
   ]
  },
  {
   "cell_type": "code",
   "execution_count": 112,
   "metadata": {
    "collapsed": false
   },
   "outputs": [
    {
     "name": "stdout",
     "output_type": "stream",
     "text": [
      "loop: 1\n",
      "loop: 2\n",
      "loop: 3\n",
      "loop: 4\n",
      "loop: 5\n",
      "loop: 6\n",
      "loop: 7\n",
      "loop: 8\n",
      "loop: 9\n",
      "loop: 10\n",
      "loop: 11\n",
      "loop: 12\n",
      "loop: 13\n",
      "loop: 14\n",
      "loop: 15\n",
      "loop: 16\n",
      "loop: 17\n",
      "loop: 18\n",
      "loop: 19\n",
      "loop: 20\n",
      "loop: 21\n",
      "loop: 22\n",
      "loop: 23\n",
      "loop: 25\n",
      "loop: 26\n",
      "loop: 27\n",
      "loop: 28\n",
      "loop: 29\n",
      "loop: 31\n",
      "loop: 33\n",
      "loop: 34\n",
      "loop: 35\n",
      "loop: 37\n",
      "loop: 39\n",
      "loop: 41\n",
      "loop: 43\n",
      "loop: 45\n",
      "loop: 46\n",
      "loop: 47\n",
      "loop: 49\n",
      "loop: 51\n",
      "loop: 53\n",
      "loop: 55\n",
      "loop: 57\n",
      "loop: 59\n",
      "loop: 61\n",
      "loop: 63\n",
      "loop: 65\n",
      "loop: 67\n",
      "loop: 69\n",
      "loop: 71\n",
      "loop: 73\n",
      "loop: 75\n",
      "loop: 77\n",
      "loop: 79\n",
      "loop: 81\n",
      "loop: 83\n",
      "loop: 85\n",
      "loop: 87\n",
      "loop: 89\n",
      "loop: 91\n",
      "loop: 93\n",
      "loop: 95\n",
      "loop: 97\n",
      "loop: 99\n",
      "0\n"
     ]
    }
   ],
   "source": [
    "# 메인루프(abundunt의 합으로 나타낼수 없는수)\n",
    "\n",
    "def sumFactors(number):\n",
    "    total=0\n",
    "    for i in range(1,number):\n",
    "        if number%i==0:\n",
    "            #print(i,end=';')\n",
    "            total+=i\n",
    "    return total\n",
    "\n",
    "grand_total =0\n",
    "for i in range(1,100):\n",
    "    abundantBool = False\n",
    "    for j in range(1,i):\n",
    "        cal1=sumFactors(j)\n",
    "        if cal1>j:\n",
    "            cal2=sumFactors(i-j)\n",
    "            if cal2>i-j:\n",
    "                #print(\"loop:\",i,j,cal1,i-j,cal2)\n",
    "                abundantBool = True\n",
    "    if abundantBool == False:\n",
    "        print(\"loop:\",i)\n",
    "print(grand_total)"
   ]
  },
  {
   "cell_type": "code",
   "execution_count": 116,
   "metadata": {
    "collapsed": false
   },
   "outputs": [
    {
     "name": "stdout",
     "output_type": "stream",
     "text": [
      "loop: 1 1\n",
      "loop: 2 3\n",
      "loop: 3 6\n",
      "loop: 4 10\n",
      "loop: 5 15\n",
      "loop: 6 21\n",
      "loop: 7 28\n",
      "loop: 8 36\n",
      "loop: 9 45\n",
      "loop: 10 55\n",
      "loop: 11 66\n",
      "loop: 12 78\n",
      "loop: 13 91\n",
      "loop: 14 105\n",
      "loop: 15 120\n",
      "loop: 16 136\n",
      "loop: 17 153\n",
      "loop: 18 171\n",
      "loop: 19 190\n",
      "loop: 20 210\n",
      "loop: 21 231\n",
      "loop: 22 253\n",
      "loop: 23 276\n",
      "loop: 25 301\n",
      "loop: 26 327\n",
      "loop: 27 354\n",
      "loop: 28 382\n",
      "loop: 29 411\n",
      "loop: 31 442\n",
      "loop: 33 475\n",
      "loop: 34 509\n",
      "loop: 35 544\n",
      "loop: 37 581\n",
      "loop: 39 620\n",
      "loop: 41 661\n",
      "loop: 43 704\n",
      "loop: 45 749\n",
      "loop: 46 795\n",
      "loop: 47 842\n",
      "loop: 49 891\n",
      "loop: 51 942\n",
      "loop: 53 995\n",
      "loop: 55 1050\n",
      "loop: 57 1107\n",
      "loop: 59 1166\n",
      "loop: 61 1227\n",
      "loop: 63 1290\n",
      "loop: 65 1355\n",
      "loop: 67 1422\n",
      "loop: 69 1491\n",
      "loop: 71 1562\n",
      "loop: 73 1635\n",
      "loop: 75 1710\n",
      "loop: 77 1787\n",
      "loop: 79 1866\n",
      "loop: 81 1947\n",
      "loop: 83 2030\n",
      "loop: 85 2115\n",
      "loop: 87 2202\n",
      "loop: 89 2291\n",
      "loop: 91 2382\n",
      "loop: 93 2475\n",
      "loop: 95 2570\n",
      "loop: 97 2667\n",
      "loop: 99 2766\n",
      "2766\n"
     ]
    }
   ],
   "source": [
    "# 속도 증가 + 메인루프 + 합계\n",
    "\n",
    "def sumFactors(number):\n",
    "    total=0\n",
    "    if number > 10:\n",
    "        i=2\n",
    "        loop = number**0.5\n",
    "        total+=1\n",
    "        while i<=loop:\n",
    "            if number%i==0:\n",
    "                #print(i,end=';')\n",
    "                total+=i\n",
    "                if i**2 != number:\n",
    "                    total+=number//i\n",
    "            i+=1\n",
    "    else:\n",
    "        i=1\n",
    "        while i<number:\n",
    "            if number%i==0:\n",
    "                #print(i,end=';')\n",
    "                total+=i\n",
    "            i+=1\n",
    "    return total\n",
    "\n",
    "grand_total =0\n",
    "for i in range(1,100):\n",
    "    abundantBool = False\n",
    "    for j in range(1,i):\n",
    "        cal1=sumFactors(j)\n",
    "        if cal1>j:\n",
    "            cal2=sumFactors(i-j)\n",
    "            if cal2>i-j:\n",
    "                #print(\"loop:\",i,j,cal1,i-j,cal2)\n",
    "                abundantBool = True\n",
    "    if abundantBool == False:\n",
    "        grand_total+=i\n",
    "        print(\"loop:\",i,grand_total)\n",
    "        \n",
    "print(grand_total)"
   ]
  },
  {
   "cell_type": "code",
   "execution_count": 3,
   "metadata": {
    "collapsed": false
   },
   "outputs": [
    {
     "ename": "KeyboardInterrupt",
     "evalue": "",
     "output_type": "error",
     "traceback": [
      "\u001b[1;31m---------------------------------------------------------------------------\u001b[0m",
      "\u001b[1;31mKeyboardInterrupt\u001b[0m                         Traceback (most recent call last)",
      "\u001b[1;32m<ipython-input-3-6d0b736bfd3b>\u001b[0m in \u001b[0;36m<module>\u001b[1;34m()\u001b[0m\n\u001b[0;32m     27\u001b[0m     \u001b[0mabundantBool\u001b[0m \u001b[1;33m=\u001b[0m \u001b[1;32mFalse\u001b[0m\u001b[1;33m\u001b[0m\u001b[0m\n\u001b[0;32m     28\u001b[0m     \u001b[1;32mfor\u001b[0m \u001b[0mj\u001b[0m \u001b[1;32min\u001b[0m \u001b[0mrange\u001b[0m\u001b[1;33m(\u001b[0m\u001b[1;36m1\u001b[0m\u001b[1;33m,\u001b[0m\u001b[0mi\u001b[0m\u001b[1;33m)\u001b[0m\u001b[1;33m:\u001b[0m\u001b[1;33m\u001b[0m\u001b[0m\n\u001b[1;32m---> 29\u001b[1;33m         \u001b[0mcal1\u001b[0m\u001b[1;33m=\u001b[0m\u001b[0msumFactors\u001b[0m\u001b[1;33m(\u001b[0m\u001b[0mj\u001b[0m\u001b[1;33m)\u001b[0m\u001b[1;33m\u001b[0m\u001b[0m\n\u001b[0m\u001b[0;32m     30\u001b[0m         \u001b[1;32mif\u001b[0m \u001b[0mcal1\u001b[0m\u001b[1;33m>\u001b[0m\u001b[0mj\u001b[0m\u001b[1;33m:\u001b[0m\u001b[1;33m\u001b[0m\u001b[0m\n\u001b[0;32m     31\u001b[0m             \u001b[0mcal2\u001b[0m\u001b[1;33m=\u001b[0m\u001b[0msumFactors\u001b[0m\u001b[1;33m(\u001b[0m\u001b[0mi\u001b[0m\u001b[1;33m-\u001b[0m\u001b[0mj\u001b[0m\u001b[1;33m)\u001b[0m\u001b[1;33m\u001b[0m\u001b[0m\n",
      "\u001b[1;32m<ipython-input-3-6d0b736bfd3b>\u001b[0m in \u001b[0;36msumFactors\u001b[1;34m(number)\u001b[0m\n\u001b[0;32m      7\u001b[0m         \u001b[0mloop\u001b[0m \u001b[1;33m=\u001b[0m \u001b[0mnumber\u001b[0m\u001b[1;33m**\u001b[0m\u001b[1;36m0.5\u001b[0m\u001b[1;33m\u001b[0m\u001b[0m\n\u001b[0;32m      8\u001b[0m         \u001b[0mtotal\u001b[0m\u001b[1;33m+=\u001b[0m\u001b[1;36m1\u001b[0m\u001b[1;33m\u001b[0m\u001b[0m\n\u001b[1;32m----> 9\u001b[1;33m         \u001b[1;32mwhile\u001b[0m \u001b[0mi\u001b[0m\u001b[1;33m<=\u001b[0m\u001b[0mloop\u001b[0m\u001b[1;33m:\u001b[0m\u001b[1;33m\u001b[0m\u001b[0m\n\u001b[0m\u001b[0;32m     10\u001b[0m             \u001b[1;32mif\u001b[0m \u001b[0mnumber\u001b[0m\u001b[1;33m%\u001b[0m\u001b[0mi\u001b[0m\u001b[1;33m==\u001b[0m\u001b[1;36m0\u001b[0m\u001b[1;33m:\u001b[0m\u001b[1;33m\u001b[0m\u001b[0m\n\u001b[0;32m     11\u001b[0m                 \u001b[1;31m#print(i,end=';')\u001b[0m\u001b[1;33m\u001b[0m\u001b[1;33m\u001b[0m\u001b[0m\n",
      "\u001b[1;31mKeyboardInterrupt\u001b[0m: "
     ]
    }
   ],
   "source": [
    "# Final \n",
    "\n",
    "def sumFactors(number):\n",
    "    total=0\n",
    "    if number > 10:\n",
    "        i=2\n",
    "        loop = number**0.5\n",
    "        total+=1\n",
    "        while i<=loop:\n",
    "            if number%i==0:\n",
    "                #print(i,end=';')\n",
    "                total+=i\n",
    "                if i != number/i:\n",
    "                    total+=number//i\n",
    "            i+=1\n",
    "    else:\n",
    "        i=1\n",
    "        while i<number:\n",
    "            if number%i==0:\n",
    "                #print(i,end=';')\n",
    "                total+=i\n",
    "            i+=1\n",
    "    return total\n",
    "\n",
    "grand_total =0\n",
    "for i in range(1,28123):\n",
    "    abundantBool = False\n",
    "    for j in range(1,i):\n",
    "        cal1=sumFactors(j)\n",
    "        if cal1>j:\n",
    "            cal2=sumFactors(i-j)\n",
    "            if cal2>i-j:\n",
    "                #print(\"loop:\",i,j,cal1,i-j,cal2)\n",
    "                abundantBool = True\n",
    "    if abundantBool == False:\n",
    "        grand_total+=i\n",
    "        print(i,end=';')\n",
    "print(grand_total)"
   ]
  },
  {
   "cell_type": "code",
   "execution_count": 1,
   "metadata": {
    "collapsed": false
   },
   "outputs": [
    {
     "name": "stdout",
     "output_type": "stream",
     "text": [
      "1;2;3;4;5;6;7;8;9;10;11;12;13;14;15;16;17;18;19;20;21;22;23;25;26;27;28;29;31;33;34;35;37;39;41;43;45;46;47;49;51;53;55;57;59;61;63;65;67;69;71;73;75;77;79;81;83;85;87;89;91;93;95;97;99;101;103;105;107;109;111;113;115;117;119;121;123;125;127;129;131;133;135;137;139;141;143;145;147;149;151;153;155;157;159;161;163;165;167;169;171;173;175;177;179;181;183;185;187;189;191;193;195;197;199;201;203;205;207;209;211;213;215;217;219;221;223;225;227;229;231;233;235;237;239;241;243;245;247;249;251;253;255;257;259;261;263;265;267;269;271;273;275;277;279;281;283;285;287;289;291;293;295;297;299;301;303;305;307;309;311;313;315;317;319;321;323;325;327;329;331;333;335;337;339;341;343;345;347;349;351;353;355;357;359;361;363;365;367;369;371;373;375;377;379;381;383;385;387;389;391;393;395;397;399;401;403;405;407;409;411;413;415;417;419;421;423;425;427;429;431;433;435;437;439;441;443;445;447;449;451;453;455;457;459;461;463;465;467;469;471;473;475;477;479;481;483;485;487;489;491;493;495;497;499;501;503;505;507;509;511;513;515;517;519;521;523;525;527;529;531;533;535;537;539;541;543;545;547;549;551;553;555;557;559;561;563;565;567;569;571;573;575;577;579;581;583;585;587;589;591;593;595;597;599;601;603;605;607;609;611;613;615;617;619;621;623;625;627;629;631;633;635;637;639;641;643;645;647;649;651;653;655;657;659;661;663;665;667;669;671;673;675;677;679;681;683;685;687;689;691;693;695;697;699;701;703;705;707;709;"
     ]
    },
    {
     "ename": "KeyboardInterrupt",
     "evalue": "",
     "output_type": "error",
     "traceback": [
      "\u001b[1;31m---------------------------------------------------------------------------\u001b[0m",
      "\u001b[1;31mKeyboardInterrupt\u001b[0m                         Traceback (most recent call last)",
      "\u001b[1;32m<ipython-input-1-0505c4125953>\u001b[0m in \u001b[0;36m<module>\u001b[1;34m()\u001b[0m\n\u001b[0;32m     13\u001b[0m     \u001b[0mabundantBool\u001b[0m \u001b[1;33m=\u001b[0m \u001b[1;32mFalse\u001b[0m\u001b[1;33m\u001b[0m\u001b[0m\n\u001b[0;32m     14\u001b[0m     \u001b[1;32mfor\u001b[0m \u001b[0mj\u001b[0m \u001b[1;32min\u001b[0m \u001b[0mrange\u001b[0m\u001b[1;33m(\u001b[0m\u001b[1;36m1\u001b[0m\u001b[1;33m,\u001b[0m\u001b[0mi\u001b[0m\u001b[1;33m)\u001b[0m\u001b[1;33m:\u001b[0m\u001b[1;33m\u001b[0m\u001b[0m\n\u001b[1;32m---> 15\u001b[1;33m         \u001b[0mcal1\u001b[0m\u001b[1;33m=\u001b[0m\u001b[0msumFactors\u001b[0m\u001b[1;33m(\u001b[0m\u001b[0mj\u001b[0m\u001b[1;33m)\u001b[0m\u001b[1;33m\u001b[0m\u001b[0m\n\u001b[0m\u001b[0;32m     16\u001b[0m         \u001b[1;32mif\u001b[0m \u001b[0mcal1\u001b[0m\u001b[1;33m>\u001b[0m\u001b[0mj\u001b[0m\u001b[1;33m:\u001b[0m\u001b[1;33m\u001b[0m\u001b[0m\n\u001b[0;32m     17\u001b[0m             \u001b[0mcal2\u001b[0m\u001b[1;33m=\u001b[0m\u001b[0msumFactors\u001b[0m\u001b[1;33m(\u001b[0m\u001b[0mi\u001b[0m\u001b[1;33m-\u001b[0m\u001b[0mj\u001b[0m\u001b[1;33m)\u001b[0m\u001b[1;33m\u001b[0m\u001b[0m\n",
      "\u001b[1;32m<ipython-input-1-0505c4125953>\u001b[0m in \u001b[0;36msumFactors\u001b[1;34m(number)\u001b[0m\n\u001b[0;32m      4\u001b[0m     \u001b[0mtotal\u001b[0m\u001b[1;33m=\u001b[0m\u001b[1;36m0\u001b[0m\u001b[1;33m\u001b[0m\u001b[0m\n\u001b[0;32m      5\u001b[0m     \u001b[1;32mfor\u001b[0m \u001b[0mi\u001b[0m \u001b[1;32min\u001b[0m \u001b[0mrange\u001b[0m\u001b[1;33m(\u001b[0m\u001b[1;36m1\u001b[0m\u001b[1;33m,\u001b[0m\u001b[0mnumber\u001b[0m\u001b[1;33m)\u001b[0m\u001b[1;33m:\u001b[0m\u001b[1;33m\u001b[0m\u001b[0m\n\u001b[1;32m----> 6\u001b[1;33m         \u001b[1;32mif\u001b[0m \u001b[0mnumber\u001b[0m\u001b[1;33m%\u001b[0m\u001b[0mi\u001b[0m\u001b[1;33m==\u001b[0m\u001b[1;36m0\u001b[0m\u001b[1;33m:\u001b[0m\u001b[1;33m\u001b[0m\u001b[0m\n\u001b[0m\u001b[0;32m      7\u001b[0m             \u001b[1;31m#print(i,end=';')\u001b[0m\u001b[1;33m\u001b[0m\u001b[1;33m\u001b[0m\u001b[0m\n\u001b[0;32m      8\u001b[0m             \u001b[0mtotal\u001b[0m\u001b[1;33m+=\u001b[0m\u001b[0mi\u001b[0m\u001b[1;33m\u001b[0m\u001b[0m\n",
      "\u001b[1;31mKeyboardInterrupt\u001b[0m: "
     ]
    }
   ],
   "source": [
    "# Final \n",
    "\n",
    "def sumFactors(number):\n",
    "    total=0\n",
    "    for i in range(1,number):\n",
    "        if number%i==0:\n",
    "            #print(i,end=';')\n",
    "            total+=i\n",
    "    return total\n",
    "\n",
    "grand_total =0\n",
    "for i in range(1,28123):\n",
    "    abundantBool = False\n",
    "    for j in range(1,i):\n",
    "        cal1=sumFactors(j)\n",
    "        if cal1>j:\n",
    "            cal2=sumFactors(i-j)\n",
    "            if cal2>i-j:\n",
    "                #print(\"loop:\",i,j,cal1,i-j,cal2)\n",
    "                abundantBool = True\n",
    "    if abundantBool == False:\n",
    "        grand_total+=i\n",
    "        print(i,end=';')\n",
    "print(grand_total)"
   ]
  },
  {
   "cell_type": "code",
   "execution_count": 39,
   "metadata": {
    "collapsed": false
   },
   "outputs": [
    {
     "data": {
      "text/plain": [
       "1"
      ]
     },
     "execution_count": 39,
     "metadata": {},
     "output_type": "execute_result"
    }
   ],
   "source": [
    "11%5"
   ]
  },
  {
   "cell_type": "code",
   "execution_count": 40,
   "metadata": {
    "collapsed": false,
    "scrolled": true
   },
   "outputs": [
    {
     "data": {
      "text/plain": [
       "2"
      ]
     },
     "execution_count": 40,
     "metadata": {},
     "output_type": "execute_result"
    }
   ],
   "source": [
    "11//5"
   ]
  },
  {
   "cell_type": "code",
   "execution_count": 42,
   "metadata": {
    "collapsed": false
   },
   "outputs": [
    {
     "data": {
      "text/plain": [
       "2.0"
      ]
     },
     "execution_count": 42,
     "metadata": {},
     "output_type": "execute_result"
    }
   ],
   "source": [
    "10/5"
   ]
  }
 ],
 "metadata": {
  "kernelspec": {
   "display_name": "Python 3",
   "language": "python",
   "name": "python3"
  },
  "language_info": {
   "codemirror_mode": {
    "name": "ipython",
    "version": 3
   },
   "file_extension": ".py",
   "mimetype": "text/x-python",
   "name": "python",
   "nbconvert_exporter": "python",
   "pygments_lexer": "ipython3",
   "version": "3.5.2"
  }
 },
 "nbformat": 4,
 "nbformat_minor": 0
}

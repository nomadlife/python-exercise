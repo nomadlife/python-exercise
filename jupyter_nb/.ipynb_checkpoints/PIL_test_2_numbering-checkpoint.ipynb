{
 "cells": [
  {
   "cell_type": "markdown",
   "metadata": {},
   "source": [
    "# Numbered Card"
   ]
  },
  {
   "cell_type": "code",
   "execution_count": 3,
   "metadata": {},
   "outputs": [],
   "source": [
    "from PIL import Image, ImageDraw, ImageFont"
   ]
  },
  {
   "cell_type": "markdown",
   "metadata": {},
   "source": [
    "## English Words"
   ]
  },
  {
   "cell_type": "code",
   "execution_count": 4,
   "metadata": {},
   "outputs": [],
   "source": [
    "# English - sample \n",
    "\n",
    "with open('./word_list/origin00.txt') as file:\n",
    "    words = [i.rstrip() for i in file.readlines()]\n",
    "len(words)\n",
    "\n",
    "W, H = (1280,720)\n",
    "h2 = 120\n",
    "\n",
    "for i in range(0,10):\n",
    "    image = Image.new('RGB', (W,H))\n",
    "    draw = ImageDraw.Draw(image)\n",
    "    w,h = draw.textsize(words[i])\n",
    "    font = ImageFont.truetype('LiberationSerif-Bold.ttf', h2)\n",
    "    w2 = int(w * h2/h)\n",
    "    draw.text((80,80), str(i).zfill(2), fill=(255,255,255), font=font)\n",
    "    draw.text(((W-w2)/2,(H-h2)/2-15), words[i], fill=(255,255,255), font=font)\n",
    "    image.save(\"./word_list/origin00/origin00-\"+str(i).zfill(3)+\".png\", \"PNG\")"
   ]
  },
  {
   "cell_type": "code",
   "execution_count": 8,
   "metadata": {},
   "outputs": [],
   "source": [
    "# English - total\n",
    "\n",
    "with open('./word_list/origin00.txt') as file:\n",
    "    data = [i.rstrip() for i in file.readlines()]\n",
    "len(data)\n",
    "\n",
    "W, H = (1280,720)\n",
    "h2 = 120\n",
    "\n",
    "for i in range(len(data)):\n",
    "    image = Image.new('RGB', (W,H))\n",
    "    draw = ImageDraw.Draw(image)\n",
    "    word = data[i]\n",
    "    w,h = draw.textsize(word)\n",
    "    font = ImageFont.truetype('LiberationSerif-Bold.ttf', h2)\n",
    "    w2 = int(w * h2/h)\n",
    "    draw.text((80,80), str(i).zfill(2), fill=(255,255,255), font=font)\n",
    "    draw.text(((W-w2)/2,(H-h2)/2-15), word, fill=(255,255,255), font=font)\n",
    "    image.save(\"./word_list/origin00/origin00-\"+str(i).zfill(3)+\".png\", \"PNG\")"
   ]
  },
  {
   "cell_type": "markdown",
   "metadata": {},
   "source": [
    "## Korean Words"
   ]
  },
  {
   "cell_type": "code",
   "execution_count": 6,
   "metadata": {},
   "outputs": [
    {
     "data": {
      "text/plain": [
       "102"
      ]
     },
     "execution_count": 6,
     "metadata": {},
     "output_type": "execute_result"
    }
   ],
   "source": [
    "# korean\n",
    "with open('./word_list/origin00_k.txt') as file:\n",
    "    data = [i.rstrip() for i in file.readlines()]\n",
    "len(data)"
   ]
  },
  {
   "cell_type": "code",
   "execution_count": 7,
   "metadata": {},
   "outputs": [],
   "source": [
    "# korean - sample\n",
    "\n",
    "with open('./word_list/origin00_k.txt') as file:\n",
    "    data = file.read().split('\\n')\n",
    "len(data)\n",
    "\n",
    "W, H = (1280,720)\n",
    "h2 = 80\n",
    "\n",
    "for i in range(0,10):\n",
    "    image = Image.new('RGB', (W,H))\n",
    "    draw = ImageDraw.Draw(image)\n",
    "    font = ImageFont.truetype('NanumGothicBold.ttf', h2)\n",
    "    font_e = ImageFont.truetype('LiberationSerif-Bold.ttf', 120)\n",
    "    w2 = len(data[i])*h2*0.8\n",
    "    draw.text((80,80), str(i).zfill(2), fill=(255,255,255), font=font_e)\n",
    "    draw.text(((W-w2)/2,(H-h2)/2), data[i], fill=(255,255,255), font=font)\n",
    "    image.save(\"./word_list/origin00/origin00-\"+str(i).zfill(3)+\"_k.png\", \"PNG\")"
   ]
  },
  {
   "cell_type": "code",
   "execution_count": 9,
   "metadata": {},
   "outputs": [],
   "source": [
    "# korean - total\n",
    "\n",
    "with open('./word_list/origin00_k.txt') as file:\n",
    "    data = file.read().split('\\n')\n",
    "len(data)\n",
    "\n",
    "W, H = (1280,720)\n",
    "h2 = 80\n",
    "\n",
    "for i in range(len(data)):\n",
    "    image = Image.new('RGB', (W,H))\n",
    "    draw = ImageDraw.Draw(image)\n",
    "    font = ImageFont.truetype('NanumGothicBold.ttf', h2)\n",
    "    font_e = ImageFont.truetype('LiberationSerif-Bold.ttf', 120)\n",
    "    w2 = len(data[i])*h2*0.8\n",
    "    draw.text((80,80), str(i).zfill(2), fill=(255,255,255), font=font_e)\n",
    "    draw.text(((W-w2)/2,(H-h2)/2), data[i], fill=(255,255,255), font=font)\n",
    "    image.save(\"./word_list/origin00/origin00-\"+str(i).zfill(3)+\"_k.png\", \"PNG\")"
   ]
  },
  {
   "cell_type": "code",
   "execution_count": 156,
   "metadata": {},
   "outputs": [],
   "source": [
    "# korean - meaning - Error Fix\n",
    "\n",
    "W, H = (1280,720)\n",
    "fontsize = 80\n",
    "\n",
    "i=10\n",
    "\n",
    "word = '가톨릭성직자의 작은 모자 \\n (신부는 검정, 주교는 보라, \\n 추기경은 빨강, 교황은 흰색)'\n",
    "image = Image.new('RGB', (W,H))\n",
    "draw = ImageDraw.Draw(image)\n",
    "font = ImageFont.truetype('NanumGothicBold.ttf', fontsize)\n",
    "font_e = ImageFont.truetype('LiberationSerif-Bold.ttf', 120)\n",
    "w2 = len(data[i])*fontsize*0.8/3\n",
    "h2 = fontsize*3\n",
    "draw.text((80,80), str(i).zfill(2), fill=(255,255,255), font=font_e)\n",
    "draw.text(((W-w2)/2,(H-h2)/2), word, fill=(255,255,255), font=font)\n",
    "image.save(\"./word_list/origin00/origin00-\"+str(i).zfill(3)+\"_k-.png\", \"PNG\")"
   ]
  }
 ],
 "metadata": {
  "kernelspec": {
   "display_name": "Python 3",
   "language": "python",
   "name": "python3"
  },
  "language_info": {
   "codemirror_mode": {
    "name": "ipython",
    "version": 3
   },
   "file_extension": ".py",
   "mimetype": "text/x-python",
   "name": "python",
   "nbconvert_exporter": "python",
   "pygments_lexer": "ipython3",
   "version": "3.6.4"
  }
 },
 "nbformat": 4,
 "nbformat_minor": 2
}

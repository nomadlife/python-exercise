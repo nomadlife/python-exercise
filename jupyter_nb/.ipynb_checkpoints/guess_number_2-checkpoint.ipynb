{
 "cells": [
  {
   "cell_type": "markdown",
   "metadata": {},
   "source": [
    "# Guess number - strike , ball\n"
   ]
  },
  {
   "cell_type": "code",
   "execution_count": null,
   "metadata": {
    "collapsed": true
   },
   "outputs": [],
   "source": [
    "#숫자맞추기 1 code\n",
    "\n",
    "import random\n",
    "number = random.randint(1,999)\n",
    "found = False\n",
    "\n",
    "while not found:\n",
    "    guess = eval(input(\"input number :\"))\n",
    "    if guess == number:\n",
    "        print(\"You got it\")\n",
    "        found = True\n",
    "    elif guess > number:\n",
    "        print(\"Guess lower!\")\n",
    "    else:\n",
    "        print(\"Guess higher!\")"
   ]
  },
  {
   "cell_type": "code",
   "execution_count": 4,
   "metadata": {},
   "outputs": [
    {
     "name": "stdout",
     "output_type": "stream",
     "text": [
      "733\n",
      "input number :500\n",
      "500\n",
      "Guess higher!\n",
      "input number :750\n",
      "750\n",
      "Guess lower!\n",
      "input number :733\n",
      "733\n",
      "You got it\n"
     ]
    }
   ],
   "source": [
    "#숫자를 문자로 바꾸고, 자릿수 0으로 채우기\n",
    "\n",
    "import random\n",
    "number = str(random.randint(1,999)).zfill(3) #변경\n",
    "print(number)  \n",
    "found = False\n",
    "\n",
    "while not found:\n",
    "    guess = input(\"input number :\").zfill(3) # eval() 함수 제거. 문자그대로 처리\n",
    "    print(guess)\n",
    "    if guess == number:\n",
    "        print(\"You got it\")\n",
    "        found = True\n",
    "    elif guess > number:    # 문자형식의 숫자도 크기비교가 가능합니다.\n",
    "        print(\"Guess lower!\")\n",
    "    else:\n",
    "        print(\"Guess higher!\")"
   ]
  },
  {
   "cell_type": "code",
   "execution_count": 2,
   "metadata": {},
   "outputs": [
    {
     "name": "stdout",
     "output_type": "stream",
     "text": [
      "input number :369\n",
      "369\n",
      "strike:0 ball:0\n",
      "input number :245\n",
      "245\n",
      "strike:1 ball:0\n",
      "input number :178\n",
      "178\n",
      "strike:1 ball:0\n",
      "input number :208\n",
      "208\n",
      "strike:1 ball:0\n",
      "input number :048\n",
      "048\n",
      "strike:0 ball:0\n",
      "input number :277\n",
      "277\n",
      "You got it\n"
     ]
    }
   ],
   "source": [
    "#strike, ball 판단\n",
    "\n",
    "import random\n",
    "number = str(random.randint(1,999)).zfill(3)\n",
    "#print(number)  \n",
    "found = False\n",
    "\n",
    "while not found:\n",
    "    guess = input(\"input number :\").zfill(3)\n",
    "    print(guess)\n",
    "    if guess == number:\n",
    "        print(\"You got it\")\n",
    "        found = True\n",
    "    else:\n",
    "        strike = 0\n",
    "        ball = 0\n",
    "        for i in range(3):\n",
    "            if guess[i] == number[i]:\n",
    "                strike += 1\n",
    "            elif guess[i] in number:\n",
    "                ball+=1\n",
    "        print(\"strike:{} ball:{}\".format(strike,ball))\n",
    "            \n",
    "        "
   ]
  },
  {
   "cell_type": "code",
   "execution_count": 2,
   "metadata": {
    "scrolled": false
   },
   "outputs": [
    {
     "name": "stdout",
     "output_type": "stream",
     "text": [
      "main 598\n",
      "strike ball\n",
      "guess number :123\n",
      "sub 598\n",
      "00\n",
      "guess number :598\n",
      "You got it\n"
     ]
    }
   ],
   "source": [
    "#upgrade, 함수분리, 함수내에서 global 변수 선언 없이 자동으로 인식??? \n",
    "\n",
    "def strikeball(guess_string):\n",
    "    strike = 0\n",
    "    ball = 0\n",
    "    print('sub',number)\n",
    "    for i in range(3):\n",
    "        if guess[i] == number[i]:\n",
    "            strike += 1\n",
    "        elif guess[i] in number:\n",
    "            ball+=1\n",
    "    return(str(strike)+str(ball))\n",
    "\n",
    "import random\n",
    "number = str(random.randint(1,999)).zfill(3)\n",
    "print('main',number)  \n",
    "found = False\n",
    "print('strike ball')\n",
    "while not found:\n",
    "    guess = input(\"guess number :\").zfill(3)\n",
    "    if guess == number:\n",
    "        print(\"You got it\")\n",
    "        found = True\n",
    "    else:\n",
    "        print(strikeball(guess))\n"
   ]
  },
  {
   "cell_type": "code",
   "execution_count": 37,
   "metadata": {},
   "outputs": [
    {
     "name": "stdout",
     "output_type": "stream",
     "text": [
      "answer : 382\n",
      "input number :123\n",
      " 0    2\n",
      "input number :456\n",
      " 0    0\n",
      "input number :789\n",
      " 1    0\n",
      "input number :239\n",
      " 0    2\n",
      "input number :382\n",
      "You got it\n",
      "strike ball\n"
     ]
    }
   ],
   "source": [
    "#strike, ball 판단 - upgrade\n",
    "\n",
    "import random\n",
    "number = str(random.randint(1,999)).zfill(3)\n",
    "found = False\n",
    "print('answer :', number)\n",
    "\n",
    "while not found:\n",
    "    guess = input(\"input number :\").zfill(3)\n",
    "    if guess == number:\n",
    "        print(\"You got it\")\n",
    "        found = True\n",
    "    else:\n",
    "        strike = 0\n",
    "        ball = 0\n",
    "        for i in range(3):\n",
    "            if guess[i] == number[i]:\n",
    "                strike += 1\n",
    "            elif guess[i] in number:\n",
    "                ball+=1\n",
    "        print(\"{:2d}{:5d}\".format(strike,ball))\n",
    "print('strike ball')"
   ]
  },
  {
   "cell_type": "code",
   "execution_count": 19,
   "metadata": {
    "scrolled": true
   },
   "outputs": [
    {
     "name": "stdout",
     "output_type": "stream",
     "text": [
      "003 043 20\n",
      "013 043 20\n",
      "023 043 20\n",
      "033 043 20\n",
      "040 043 20\n",
      "041 043 20\n",
      "042 043 20\n",
      "044 043 20\n",
      "045 043 20\n",
      "046 043 20\n",
      "047 043 20\n",
      "048 043 20\n",
      "049 043 20\n",
      "053 043 20\n",
      "063 043 20\n",
      "073 043 20\n",
      "083 043 20\n",
      "093 043 20\n",
      "{'0': 20, '1': 2, '2': 2, '3': 10, '4': 10, '5': 2, '6': 2, '7': 2, '8': 2, '9': 2}\n"
     ]
    }
   ],
   "source": [
    "#upgrade, 100x100 학습 데이타 생성\n",
    "count = {'0':0,'1':0,'2':0,'3':0,'4':0,'5':0,'6':0,'7':0,'8':0,'9':0}\n",
    "\n",
    "for number in range(1,100):\n",
    "    for guess in range(1,100):\n",
    "        strike = 0\n",
    "        ball = 0\n",
    "        num = str(number).zfill(3)\n",
    "        gss = str(guess).zfill(3)\n",
    "        for i in range(3):\n",
    "            if gss[i] == num[i]:\n",
    "                strike += 1\n",
    "            elif gss[i] in num:\n",
    "                ball+=1\n",
    "        score = strike*10+ball\n",
    "        if gss == '043' and score == 20:\n",
    "            print(num, gss, score)\n",
    "            for j in num:\n",
    "                count[j] += 1\n",
    "print(count)"
   ]
  },
  {
   "cell_type": "code",
   "execution_count": 18,
   "metadata": {
    "scrolled": true
   },
   "outputs": [
    {
     "name": "stdout",
     "output_type": "stream",
     "text": [
      "003 043 20\n",
      "013 043 20\n",
      "023 043 20\n",
      "033 043 20\n",
      "040 043 20\n",
      "041 043 20\n",
      "042 043 20\n",
      "044 043 20\n",
      "045 043 20\n",
      "046 043 20\n",
      "047 043 20\n",
      "048 043 20\n",
      "049 043 20\n",
      "053 043 20\n",
      "063 043 20\n",
      "073 043 20\n",
      "083 043 20\n",
      "093 043 20\n",
      "[20, 2, 2, 10, 10, 2, 2, 2, 2, 2]\n"
     ]
    }
   ],
   "source": [
    "#upgrade, 100x100 학습 데이타 생성 - list 타입\n",
    "count = [0,0,0,0,0,0,0,0,0,0,]\n",
    "\n",
    "for number in range(1,100):\n",
    "    for guess in range(1,100):\n",
    "        strike = 0\n",
    "        ball = 0\n",
    "        num = str(number).zfill(3)\n",
    "        gss = str(guess).zfill(3)\n",
    "        for i in range(3):\n",
    "            if gss[i] == num[i]:\n",
    "                strike += 1\n",
    "            elif gss[i] in num:\n",
    "                ball+=1\n",
    "        score = strike*10+ball\n",
    "        if gss == '043' and score == 20:\n",
    "            print(num, gss, score)\n",
    "            for j in num:\n",
    "                count[int(j)] += 1\n",
    "print(count)"
   ]
  },
  {
   "cell_type": "code",
   "execution_count": 28,
   "metadata": {
    "scrolled": true
   },
   "outputs": [
    {
     "name": "stdout",
     "output_type": "stream",
     "text": [
      "003 043 20\n",
      "013 043 20\n",
      "023 043 20\n",
      "033 043 20\n",
      "040 043 20\n",
      "041 043 20\n",
      "042 043 20\n",
      "044 043 20\n",
      "045 043 20\n",
      "046 043 20\n",
      "047 043 20\n",
      "048 043 20\n",
      "049 043 20\n",
      "053 043 20\n",
      "063 043 20\n",
      "073 043 20\n",
      "083 043 20\n",
      "093 043 20\n",
      "[18, 0, 0, 0, 0, 0, 0, 0, 0, 0] 0\n",
      "[1, 1, 1, 1, 9, 1, 1, 1, 1, 1] 4\n",
      "[1, 1, 1, 9, 1, 1, 1, 1, 1, 1] 3\n"
     ]
    }
   ],
   "source": [
    "#upgrade, 100x100 학습 데이타 생성 - list 타입 - 자리별 집계\n",
    "count0 = [0,0,0,0,0,0,0,0,0,0,]\n",
    "count1 = [0,0,0,0,0,0,0,0,0,0,]\n",
    "count2 = [0,0,0,0,0,0,0,0,0,0,]\n",
    "\n",
    "for number in range(1,100):\n",
    "    for guess in range(1,100):\n",
    "        strike = 0\n",
    "        ball = 0\n",
    "        num = str(number).zfill(3)\n",
    "        gss = str(guess).zfill(3)\n",
    "        for i in range(3):\n",
    "            if gss[i] == num[i]:\n",
    "                strike += 1\n",
    "            elif gss[i] in num:\n",
    "                ball+=1\n",
    "        score = strike*10+ball\n",
    "        if gss == '043' and score == 20:\n",
    "            print(num, gss, score)\n",
    "            count0[int(num[0])] += 1\n",
    "            count1[int(num[1])] += 1\n",
    "            count2[int(num[2])] += 1\n",
    "print(count0,count0.index(max(count0)))\n",
    "print(count1,count1.index(max(count1)))\n",
    "print(count2,count2.index(max(count2)))"
   ]
  },
  {
   "cell_type": "code",
   "execution_count": 35,
   "metadata": {
    "scrolled": true
   },
   "outputs": [
    {
     "name": "stdout",
     "output_type": "stream",
     "text": [
      "[1, 18, 1, 1, 1, 1, 1, 1, 1, 1] 1\n",
      "[1, 1, 18, 1, 1, 1, 1, 1, 1, 1] 2\n",
      "[1, 1, 1, 18, 1, 1, 1, 1, 1, 1] 3\n"
     ]
    }
   ],
   "source": [
    "#upgrade, 1000 x 1000 학습 데이타 생성 \n",
    "\n",
    "count0 = [0,0,0,0,0,0,0,0,0,0,]\n",
    "count1 = [0,0,0,0,0,0,0,0,0,0,]\n",
    "count2 = [0,0,0,0,0,0,0,0,0,0,]\n",
    "\n",
    "for number in range(1,1000):\n",
    "    for guess in range(1,1000):\n",
    "        strike = 0\n",
    "        ball = 0\n",
    "        num = str(number).zfill(3)\n",
    "        gss = str(guess).zfill(3)\n",
    "        for i in range(3):\n",
    "            if gss[i] == num[i]:\n",
    "                strike += 1\n",
    "            elif gss[i] in num:\n",
    "                ball+=1\n",
    "        score = strike*10+ball\n",
    "        if gss == '123' and score == 20:\n",
    "#             print(num, gss, score)\n",
    "            count0[int(num[0])] += 1\n",
    "            count1[int(num[1])] += 1\n",
    "            count2[int(num[2])] += 1\n",
    "print(count0,count0.index(max(count0)))\n",
    "print(count1,count1.index(max(count1)))\n",
    "print(count2,count2.index(max(count2)))"
   ]
  },
  {
   "cell_type": "code",
   "execution_count": 56,
   "metadata": {},
   "outputs": [
    {
     "name": "stdout",
     "output_type": "stream",
     "text": [
      "{'0': 297, '1': 300, '2': 300, '3': 300, '4': 300, '5': 300, '6': 300, '7': 300, '8': 300, '9': 300}\n"
     ]
    }
   ],
   "source": [
    "# 숫자별 출현 빈도수\n",
    "\n",
    "count = {'0':0,'1':0,'2':0,'3':0,'4':0,'5':0,'6':0,'7':0,'8':0,'9':0}\n",
    "for i in range(1,1000):\n",
    "    string=str(i).zfill(3)\n",
    "    for j in string:\n",
    "        count[j] += 1\n",
    "print(count)"
   ]
  },
  {
   "cell_type": "code",
   "execution_count": 18,
   "metadata": {
    "scrolled": true
   },
   "outputs": [
    {
     "name": "stdout",
     "output_type": "stream",
     "text": [
      "resr\n",
      "rest\n",
      "rest\n",
      "es\n",
      "est\n"
     ]
    }
   ],
   "source": [
    "#연습 \n",
    "a=\"test\"\n",
    "print(a.replace('t','r'))\n",
    "print(a.replace('t','r',1))\n",
    "print(\"test\".replace('t','r',1))\n",
    "print(a.replace('t',''))\n",
    "print(a.replace('t','',1))"
   ]
  },
  {
   "cell_type": "code",
   "execution_count": 2,
   "metadata": {},
   "outputs": [
    {
     "name": "stdout",
     "output_type": "stream",
     "text": [
      "['t', 'e', 's', 't']\n",
      "None\n"
     ]
    }
   ],
   "source": [
    "#연습 \n",
    "aa=['t','e','s','t']\n",
    "print(aa)\n",
    "print(aa.remove('t'))"
   ]
  },
  {
   "cell_type": "code",
   "execution_count": 44,
   "metadata": {},
   "outputs": [
    {
     "name": "stdout",
     "output_type": "stream",
     "text": [
      "string test\n",
      "String test\n",
      "123456789012345678901234567890\n",
      "         string test          \n",
      "2\n",
      "1\n",
      "1\n"
     ]
    }
   ],
   "source": [
    "#연습 \n",
    "#string Constants\n",
    "myString=\"string test\"\n",
    "print(myString)\n",
    "print(myString.capitalize())\n",
    "print('123456789012345678901234567890')\n",
    "print(myString.center(30))\n",
    "\n",
    "print(myString.count('s'))\n",
    "print(myString.count('s',2)) # with starting point\n",
    "print(myString.find('t'))"
   ]
  },
  {
   "cell_type": "code",
   "execution_count": 23,
   "metadata": {},
   "outputs": [
    {
     "name": "stdout",
     "output_type": "stream",
     "text": [
      "loop : 0\n",
      "c[i]==d[i] (strike) : True\n",
      "c[i] in d : True\n",
      "c.count(c[i]) : 2\n",
      "c.count(c[i])!=0 : True\n",
      "1\n",
      "\n",
      "loop : 1\n",
      "c[i]==d[i] (strike) : True\n",
      "c[i] in d : True\n",
      "c.count(c[i]) : 1\n",
      "c.count(c[i])!=0 : True\n",
      "0\n",
      "\n",
      "loop : 2\n",
      "c[i]==d[i] (strike) : False\n",
      "c[i] in d : False\n",
      "c.count(c[i]) : 1\n",
      "c.count(c[i])!=0 : True\n",
      "0\n",
      "\n",
      "loop : 3\n",
      "c[i]==d[i] (strike) : True\n",
      "c[i] in d : True\n",
      "c.count(c[i]) : 2\n",
      "c.count(c[i])!=0 : True\n",
      "1\n",
      "\n"
     ]
    }
   ],
   "source": [
    "#연습 \n",
    "c=\"test\";d=\"text\"\n",
    "for i in range(4):\n",
    "    print(\"loop :\",i)\n",
    "    print(\"c[i]==d[i] (strike) :\",c[i]==d[i])\n",
    "    print(\"c[i] in d :\",c[i] in d)\n",
    "    print(\"c.count(c[i]) :\", c.count(c[i]))\n",
    "    print(\"c.count(c[i])!=0 :\",c.count(c[i])!=0)\n",
    "    print(d.count(c[i])-(c[i]==d[i]))\n",
    "    print()"
   ]
  }
 ],
 "metadata": {
  "kernelspec": {
   "display_name": "Python 3",
   "language": "python",
   "name": "python3"
  },
  "language_info": {
   "codemirror_mode": {
    "name": "ipython",
    "version": 3
   },
   "file_extension": ".py",
   "mimetype": "text/x-python",
   "name": "python",
   "nbconvert_exporter": "python",
   "pygments_lexer": "ipython3",
   "version": "3.6.3"
  }
 },
 "nbformat": 4,
 "nbformat_minor": 2
}

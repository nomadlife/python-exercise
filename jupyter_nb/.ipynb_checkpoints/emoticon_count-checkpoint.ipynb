{
 "cells": [
  {
   "cell_type": "markdown",
   "metadata": {},
   "source": [
    "👥👤👥뭐야..👤👥👥👤👥👥👤👥 👤👥👥👥👤👥👤👥👤 뭐야..👥👤👥👤👥👥👤👥👤👥👤👥👤👥👤👥👤👥👥 저게뭐야..👤👥👤 👤👥👤👥👤👤👥곧 투자해서 망할사람들 >>>👥👤👥👤👥👤👥👥👤👥웅성웅성..👤👥 👤👥👤👥👤👥👤👥👥👤👥 👤👥👤👥👥👤👥👤👥👤👥 👥👤👥👤뭐야..👥👥👤👥👥👤👥 👤👥👥👥👤👥👤👥👤 👥👤웅성..👥👤👥👥👤👥👤👥👤 👥👤👥👤👥👤👥👥 "
   ]
  },
  {
   "cell_type": "code",
   "execution_count": 12,
   "metadata": {},
   "outputs": [
    {
     "name": "stdout",
     "output_type": "stream",
     "text": [
      "\n",
      "👥👤👥뭐야..👤👥👥👤👥👥👤👥 👤👥👥👥👤👥👤👥👤 뭐야..👥👤👥👤👥👥👤👥👤👥👤👥👤👥👤👥👤👥👥 저게뭐야..👤👥👤 👤👥👤👥👤👤👥곧 투자해서 망할사람들 >>>👥👤👥👤👥👤👥👥👤👥웅성웅성..👤👥 👤👥👤👥👤👥👤👥👥👤👥 👤👥👤👥👥👤👥👤👥👤👥 👥👤👥👤뭐야..👥👥👤👥👥👤👥 👤👥👥👥👤👥👤👥👤 👥👤웅성..👥👤👥👥👤👥👤👥👤 👥👤👥👤👥👤👥👥 \n",
      "\n",
      "179\n",
      "야\n"
     ]
    }
   ],
   "source": [
    "string = '''\n",
    "👥👤👥뭐야..👤👥👥👤👥👥👤👥 👤👥👥👥👤👥👤👥👤 뭐야..👥👤👥👤👥👥👤👥👤👥👤👥👤👥👤👥👤👥👥 저게뭐야..👤👥👤 👤👥👤👥👤👤👥곧 투자해서 망할사람들 >>>👥👤👥👤👥👤👥👥👤👥웅성웅성..👤👥 👤👥👤👥👤👥👤👥👥👤👥 👤👥👤👥👥👤👥👤👥👤👥 👥👤👥👤뭐야..👥👥👤👥👥👤👥 👤👥👥👥👤👥👤👥👤 👥👤웅성..👥👤👥👥👤👥👤👥👤 👥👤👥👤👥👤👥👥 \n",
    "'''\n",
    "print(string)\n",
    "print(len(string))\n",
    "print(string[5])"
   ]
  },
  {
   "cell_type": "code",
   "execution_count": 13,
   "metadata": {},
   "outputs": [
    {
     "name": "stdout",
     "output_type": "stream",
     "text": [
      "191\n"
     ]
    }
   ],
   "source": [
    "string = '''\n",
    "👥👤👥뭐야..👤👥👥👤👥👥👤👥 👤👥👥👥👤👥👤👥👤 뭐야..👥👤👥👤👥👥👤👥👤👥👤👥👤👥👤👥👤👥👥 저게뭐야..👤👥👤 👤👥👤👥👤👤👥곧 투자해서 망할사람들 >>>👥👤👥👤👥👤👥👥👤👥웅성웅성..👤👥 👤👥👤👥👤👥👤👥👥👤👥 👤👥👤👥👥👤👥👤👥👤👥 👥👤👥👤뭐야..👥👥👤👥👥👤👥 👤👥👥👥👤👥👤👥👤 👥👤웅성..👥👤👥👥👤👥👤👥👤 👥👤👥👤👥👤👥👥 \n",
    "'''\n",
    "\n",
    "count =0\n",
    "for i in string:\n",
    "    if i=='👤':\n",
    "        count+=1\n",
    "    elif i =='👥':\n",
    "        count+=2\n",
    "print(count)"
   ]
  },
  {
   "cell_type": "code",
   "execution_count": 8,
   "metadata": {},
   "outputs": [
    {
     "name": "stdout",
     "output_type": "stream",
     "text": [
      "191 122 57 \n",
      "뭐야..  뭐야.. 저게뭐야.. 곧 투자해서 망할사람들 >>>웅성웅성..   뭐야..  웅성..  \n",
      "\n"
     ]
    }
   ],
   "source": [
    "string = '''\n",
    "👥👤👥뭐야..👤👥👥👤👥👥👤👥 👤👥👥👥👤👥👤👥👤 뭐야..👥👤👥👤👥👥👤👥👤👥👤👥👤👥👤👥👤👥👥 저게뭐야..👤👥👤 👤👥👤👥👤👤👥곧 투자해서 망할사람들 >>>👥👤👥👤👥👤👥👥👤👥웅성웅성..👤👥 👤👥👤👥👤👥👤👥👥👤👥 👤👥👤👥👥👤👥👤👥👤👥 👥👤👥👤뭐야..👥👥👤👥👥👤👥 👤👥👥👥👤👥👤👥👤 👥👤웅성..👥👤👥👥👤👥👤👥👤 👥👤👥👤👥👤👥👥 \n",
    "'''\n",
    "\n",
    "man =0\n",
    "count=0\n",
    "last =0\n",
    "last_string =''\n",
    "for i in string:\n",
    "    if i=='👤':\n",
    "        count+=1\n",
    "        man+=1\n",
    "    elif i =='👥':\n",
    "        count+=1\n",
    "        man+=2\n",
    "    else :\n",
    "        last +=1\n",
    "        last_string+=i\n",
    "print(man, count, last, last_string)"
   ]
  },
  {
   "cell_type": "code",
   "execution_count": 14,
   "metadata": {},
   "outputs": [
    {
     "name": "stdout",
     "output_type": "stream",
     "text": [
      "191 \n",
      "뭐야..  뭐야.. 저게뭐야.. 곧 투자해서 망할사람들 >>>웅성웅성..   뭐야..  웅성..  \n",
      "\n"
     ]
    }
   ],
   "source": [
    "string = '''\n",
    "👥👤👥뭐야..👤👥👥👤👥👥👤👥 👤👥👥👥👤👥👤👥👤 뭐야..👥👤👥👤👥👥👤👥👤👥👤👥👤👥👤👥👤👥👥 저게뭐야..👤👥👤 👤👥👤👥👤👤👥곧 투자해서 망할사람들 >>>👥👤👥👤👥👤👥👥👤👥웅성웅성..👤👥 👤👥👤👥👤👥👤👥👥👤👥 👤👥👤👥👥👤👥👤👥👤👥 👥👤👥👤뭐야..👥👥👤👥👥👤👥 👤👥👥👥👤👥👤👥👤 👥👤웅성..👥👤👥👥👤👥👤👥👤 👥👤👥👤👥👤👥👥 \n",
    "'''\n",
    "\n",
    "man =0\n",
    "last =''\n",
    "for i in string:\n",
    "    if i=='👤':\n",
    "        man+=1\n",
    "    elif i =='👥':\n",
    "        man+=2\n",
    "    else :\n",
    "        last +=i\n",
    "print(man, last)"
   ]
  }
 ],
 "metadata": {
  "kernelspec": {
   "display_name": "Python 3",
   "language": "python",
   "name": "python3"
  },
  "language_info": {
   "codemirror_mode": {
    "name": "ipython",
    "version": 3
   },
   "file_extension": ".py",
   "mimetype": "text/x-python",
   "name": "python",
   "nbconvert_exporter": "python",
   "pygments_lexer": "ipython3",
   "version": "3.6.4"
  }
 },
 "nbformat": 4,
 "nbformat_minor": 2
}

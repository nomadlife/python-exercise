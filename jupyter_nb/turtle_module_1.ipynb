{
 "cells": [
  {
   "cell_type": "code",
   "execution_count": 1,
   "metadata": {},
   "outputs": [
    {
     "ename": "Terminator",
     "evalue": "",
     "output_type": "error",
     "traceback": [
      "\u001b[0;31m---------------------------------------------------------------------------\u001b[0m",
      "\u001b[0;31mTerminator\u001b[0m                                Traceback (most recent call last)",
      "\u001b[0;32m<ipython-input-1-f33663cd5dd1>\u001b[0m in \u001b[0;36m<module>\u001b[0;34m()\u001b[0m\n\u001b[1;32m     26\u001b[0m \u001b[0;34m\u001b[0m\u001b[0m\n\u001b[1;32m     27\u001b[0m \u001b[0mt\u001b[0m\u001b[0;34m.\u001b[0m\u001b[0mexitonclick\u001b[0m\u001b[0;34m(\u001b[0m\u001b[0;34m)\u001b[0m\u001b[0;34m\u001b[0m\u001b[0m\n\u001b[0;32m---> 28\u001b[0;31m \u001b[0mt\u001b[0m\u001b[0;34m.\u001b[0m\u001b[0mbye\u001b[0m\u001b[0;34m(\u001b[0m\u001b[0;34m)\u001b[0m\u001b[0;34m\u001b[0m\u001b[0m\n\u001b[0m",
      "\u001b[0;32m~/anaconda3/lib/python3.6/turtle.py\u001b[0m in \u001b[0;36mbye\u001b[0;34m()\u001b[0m\n",
      "\u001b[0;31mTerminator\u001b[0m: "
     ]
    }
   ],
   "source": [
    "import turtle as t\n",
    "\n",
    "def box(pos_x,pos_y,x,y,color):\n",
    "    t.penup()\n",
    "    t.goto(pos_x - x/2,pos_y - y/2)  #시작점을 약간의 계산을 통해서 변경.\n",
    "    t.pendown()\n",
    "    t.speed('fast')\n",
    "    t.color(color)\n",
    "    t.begin_fill()\n",
    "    t.fd(x)\n",
    "    t.left(90)\n",
    "    t.fd(y)\n",
    "    t.left(90)\n",
    "    t.fd(x)\n",
    "    t.left(90)\n",
    "    t.fd(y)\n",
    "    t.left(90)\n",
    "    t.end_fill()\n",
    "    \n",
    "box(-50,-150,80,50,'blue')\n",
    "box( 50,-150,80,50,'blue')\n",
    " \n",
    "#leg\n",
    "box(-50,-100,20,100,'red')\n",
    "box( 50,-100,20,100,'red')\n",
    "\n",
    "t.exitonclick()\n",
    "t.bye()"
   ]
  },
  {
   "cell_type": "code",
   "execution_count": 1,
   "metadata": {},
   "outputs": [
    {
     "ename": "Terminator",
     "evalue": "",
     "output_type": "error",
     "traceback": [
      "\u001b[0;31m---------------------------------------------------------------------------\u001b[0m",
      "\u001b[0;31mTerminator\u001b[0m                                Traceback (most recent call last)",
      "\u001b[0;32m<ipython-input-1-b169a6289135>\u001b[0m in \u001b[0;36m<module>\u001b[0;34m()\u001b[0m\n\u001b[1;32m     30\u001b[0m \u001b[0;34m\u001b[0m\u001b[0m\n\u001b[1;32m     31\u001b[0m \u001b[0mt\u001b[0m\u001b[0;34m.\u001b[0m\u001b[0mexitonclick\u001b[0m\u001b[0;34m(\u001b[0m\u001b[0;34m)\u001b[0m\u001b[0;34m\u001b[0m\u001b[0m\n\u001b[0;32m---> 32\u001b[0;31m \u001b[0mt\u001b[0m\u001b[0;34m.\u001b[0m\u001b[0mbye\u001b[0m\u001b[0;34m(\u001b[0m\u001b[0;34m)\u001b[0m\u001b[0;34m\u001b[0m\u001b[0m\n\u001b[0m",
      "\u001b[0;32m~/anaconda3/lib/python3.6/turtle.py\u001b[0m in \u001b[0;36mbye\u001b[0;34m()\u001b[0m\n",
      "\u001b[0;31mTerminator\u001b[0m: "
     ]
    }
   ],
   "source": [
    "# oop\n",
    "import turtle as t\n",
    "\n",
    "class Turtle_new():\n",
    "    def box(self, pos_x, pos_y, x, y, color):\n",
    "        t.penup()\n",
    "        t.goto(pos_x - x/2,pos_y - y/2)  #시작점을 약간의 계산을 통해서 변경.\n",
    "        t.pendown()\n",
    "        t.speed('fast')\n",
    "        t.color(color)\n",
    "        t.begin_fill()\n",
    "        t.fd(x)\n",
    "        t.left(90)\n",
    "        t.fd(y)\n",
    "        t.left(90)\n",
    "        t.fd(x)\n",
    "        t.left(90)\n",
    "        t.fd(y)\n",
    "        t.left(90)\n",
    "        t.end_fill()\n",
    "\n",
    "t3 = Turtle_new()\n",
    "\n",
    "t3.box(-50,-150,80,50,'blue')\n",
    "t3.box( 50,-150,80,50,'blue')\n",
    " \n",
    "#leg\n",
    "t3.box(-50,-100,20,100,'red')\n",
    "t3.box( 50,-100,20,100,'red')\n",
    "\n",
    "t.exitonclick()\n",
    "t.bye()"
   ]
  },
  {
   "cell_type": "code",
   "execution_count": 3,
   "metadata": {},
   "outputs": [
    {
     "ename": "AttributeError",
     "evalue": "'Turtle_new' object has no attribute 'fd'",
     "output_type": "error",
     "traceback": [
      "\u001b[0;31m---------------------------------------------------------------------------\u001b[0m",
      "\u001b[0;31mAttributeError\u001b[0m                            Traceback (most recent call last)",
      "\u001b[0;32m<ipython-input-3-25a3d52841da>\u001b[0m in \u001b[0;36m<module>\u001b[0;34m()\u001b[0m\n\u001b[1;32m      4\u001b[0m \u001b[0mt4\u001b[0m \u001b[0;34m=\u001b[0m \u001b[0mTurtle_new\u001b[0m\u001b[0;34m(\u001b[0m\u001b[0;34m)\u001b[0m\u001b[0;34m\u001b[0m\u001b[0m\n\u001b[1;32m      5\u001b[0m \u001b[0;34m\u001b[0m\u001b[0m\n\u001b[0;32m----> 6\u001b[0;31m \u001b[0mt4\u001b[0m\u001b[0;34m.\u001b[0m\u001b[0mfd\u001b[0m\u001b[0;34m(\u001b[0m\u001b[0;36m50\u001b[0m\u001b[0;34m)\u001b[0m\u001b[0;34m\u001b[0m\u001b[0m\n\u001b[0m",
      "\u001b[0;31mAttributeError\u001b[0m: 'Turtle_new' object has no attribute 'fd'"
     ]
    }
   ],
   "source": [
    "class Turtle_new():\n",
    "    pass\n",
    "\n",
    "t4 = Turtle_new()\n",
    "\n",
    "t4.fd(50)\n"
   ]
  },
  {
   "cell_type": "code",
   "execution_count": 2,
   "metadata": {},
   "outputs": [
    {
     "ename": "Terminator",
     "evalue": "",
     "output_type": "error",
     "traceback": [
      "\u001b[0;31m---------------------------------------------------------------------------\u001b[0m",
      "\u001b[0;31mTerminator\u001b[0m                                Traceback (most recent call last)",
      "\u001b[0;32m<ipython-input-2-42951521b8c7>\u001b[0m in \u001b[0;36m<module>\u001b[0;34m()\u001b[0m\n\u001b[1;32m      9\u001b[0m \u001b[0;34m\u001b[0m\u001b[0m\n\u001b[1;32m     10\u001b[0m \u001b[0mturtle\u001b[0m\u001b[0;34m.\u001b[0m\u001b[0mexitonclick\u001b[0m\u001b[0;34m(\u001b[0m\u001b[0;34m)\u001b[0m\u001b[0;34m\u001b[0m\u001b[0m\n\u001b[0;32m---> 11\u001b[0;31m \u001b[0mturtle\u001b[0m\u001b[0;34m.\u001b[0m\u001b[0mbye\u001b[0m\u001b[0;34m(\u001b[0m\u001b[0;34m)\u001b[0m\u001b[0;34m\u001b[0m\u001b[0m\n\u001b[0m",
      "\u001b[0;32m~/anaconda3/lib/python3.6/turtle.py\u001b[0m in \u001b[0;36mbye\u001b[0;34m()\u001b[0m\n",
      "\u001b[0;31mTerminator\u001b[0m: "
     ]
    }
   ],
   "source": [
    "import turtle\n",
    "\n",
    "class Turtle_new(turtle.Turtle):\n",
    "    pass\n",
    "\n",
    "t4 = Turtle_new()\n",
    "\n",
    "t4.fd(50)\n",
    "\n",
    "turtle.exitonclick()\n",
    "turtle.bye()"
   ]
  },
  {
   "cell_type": "code",
   "execution_count": 10,
   "metadata": {},
   "outputs": [
    {
     "ename": "Terminator",
     "evalue": "",
     "output_type": "error",
     "traceback": [
      "\u001b[0;31m---------------------------------------------------------------------------\u001b[0m",
      "\u001b[0;31mTerminator\u001b[0m                                Traceback (most recent call last)",
      "\u001b[0;32m<ipython-input-10-95aa40acd59d>\u001b[0m in \u001b[0;36m<module>\u001b[0;34m()\u001b[0m\n\u001b[1;32m     27\u001b[0m \u001b[0;34m\u001b[0m\u001b[0m\n\u001b[1;32m     28\u001b[0m \u001b[0mturtle\u001b[0m\u001b[0;34m.\u001b[0m\u001b[0mexitonclick\u001b[0m\u001b[0;34m(\u001b[0m\u001b[0;34m)\u001b[0m\u001b[0;34m\u001b[0m\u001b[0m\n\u001b[0;32m---> 29\u001b[0;31m \u001b[0mturtle\u001b[0m\u001b[0;34m.\u001b[0m\u001b[0mbye\u001b[0m\u001b[0;34m(\u001b[0m\u001b[0;34m)\u001b[0m\u001b[0;34m\u001b[0m\u001b[0m\n\u001b[0m",
      "\u001b[0;32m~/anaconda3/lib/python3.6/turtle.py\u001b[0m in \u001b[0;36mbye\u001b[0;34m()\u001b[0m\n",
      "\u001b[0;31mTerminator\u001b[0m: "
     ]
    }
   ],
   "source": [
    "# oop\n",
    "import turtle\n",
    "\n",
    "class Turtle_new(turtle.Turtle):\n",
    "    def box(self, pos_x, pos_y, x, y, color):\n",
    "        self.penup()\n",
    "        self.goto(pos_x - x/2,pos_y - y/2)  #시작점을 약간의 계산을 통해서 변경.\n",
    "        self.pendown()\n",
    "        self.speed('fast')\n",
    "        self.color(color)\n",
    "        self.begin_fill()\n",
    "        self.fd(x)\n",
    "        self.left(90)\n",
    "        self.fd(y)\n",
    "        self.left(90)\n",
    "        self.fd(x)\n",
    "        self.left(90)\n",
    "        self.fd(y)\n",
    "        self.left(90)\n",
    "        self.end_fill()\n",
    "\n",
    "t3 = Turtle_new()\n",
    "\n",
    "t3.fd(100)\n",
    "t3.box(-50,-150,80,50,'blue')\n",
    "\n",
    "\n",
    "turtle.exitonclick()\n",
    "turtle.bye()"
   ]
  },
  {
   "cell_type": "code",
   "execution_count": 12,
   "metadata": {},
   "outputs": [
    {
     "ename": "Terminator",
     "evalue": "",
     "output_type": "error",
     "traceback": [
      "\u001b[0;31m---------------------------------------------------------------------------\u001b[0m",
      "\u001b[0;31mTerminator\u001b[0m                                Traceback (most recent call last)",
      "\u001b[0;32m<ipython-input-12-6b90769010cd>\u001b[0m in \u001b[0;36m<module>\u001b[0;34m()\u001b[0m\n\u001b[1;32m     40\u001b[0m \u001b[0;34m\u001b[0m\u001b[0m\n\u001b[1;32m     41\u001b[0m \u001b[0mturtle\u001b[0m\u001b[0;34m.\u001b[0m\u001b[0mexitonclick\u001b[0m\u001b[0;34m(\u001b[0m\u001b[0;34m)\u001b[0m\u001b[0;34m\u001b[0m\u001b[0m\n\u001b[0;32m---> 42\u001b[0;31m \u001b[0mturtle\u001b[0m\u001b[0;34m.\u001b[0m\u001b[0mbye\u001b[0m\u001b[0;34m(\u001b[0m\u001b[0;34m)\u001b[0m\u001b[0;34m\u001b[0m\u001b[0m\n\u001b[0m",
      "\u001b[0;32m~/anaconda3/lib/python3.6/turtle.py\u001b[0m in \u001b[0;36mbye\u001b[0;34m()\u001b[0m\n",
      "\u001b[0;31mTerminator\u001b[0m: "
     ]
    }
   ],
   "source": [
    "# oop\n",
    "import turtle\n",
    "\n",
    "class Turtle_new(turtle.Turtle):\n",
    "    def box(self, pos_x, pos_y, x, y, color):\n",
    "        self.penup()\n",
    "        self.goto(pos_x - x/2,pos_y - y/2)  #시작점을 약간의 계산을 통해서 변경.\n",
    "        self.pendown()\n",
    "        self.speed('fast')\n",
    "        self.color(color)\n",
    "        self.begin_fill()\n",
    "        self.fd(x)\n",
    "        self.left(90)\n",
    "        self.fd(y)\n",
    "        self.left(90)\n",
    "        self.fd(x)\n",
    "        self.left(90)\n",
    "        self.fd(y)\n",
    "        self.left(90)\n",
    "        self.end_fill()\n",
    "\n",
    "t1 = Turtle_new()\n",
    "t2 = Turtle_new()\n",
    "t3 = Turtle_new()\n",
    "\n",
    "t1.shape('turtle')\n",
    "t1.color('red')\n",
    "t1.fd(50)\n",
    "t1.box(100,0,50,50,'red')\n",
    "\n",
    "t2.shape('turtle')\n",
    "t2.color('blue')\n",
    "t2.left(90)\n",
    "t2.fd(70)\n",
    "t2.box(0,100,50,50,'blue')\n",
    "\n",
    "t3.shape('turtle')\n",
    "t3.color('green')\n",
    "t3.box(-50,0,80,50,'green')\n",
    "\n",
    "turtle.exitonclick()\n",
    "turtle.bye()\n"
   ]
  },
  {
   "cell_type": "code",
   "execution_count": 2,
   "metadata": {},
   "outputs": [
    {
     "ename": "Terminator",
     "evalue": "",
     "output_type": "error",
     "traceback": [
      "\u001b[0;31m---------------------------------------------------------------------------\u001b[0m",
      "\u001b[0;31mTerminator\u001b[0m                                Traceback (most recent call last)",
      "\u001b[0;32m<ipython-input-2-8e406c728630>\u001b[0m in \u001b[0;36m<module>\u001b[0;34m()\u001b[0m\n\u001b[1;32m     11\u001b[0m \u001b[0;34m\u001b[0m\u001b[0m\n\u001b[1;32m     12\u001b[0m \u001b[0mturtle\u001b[0m\u001b[0;34m.\u001b[0m\u001b[0mexitonclick\u001b[0m\u001b[0;34m(\u001b[0m\u001b[0;34m)\u001b[0m\u001b[0;34m\u001b[0m\u001b[0m\n\u001b[0;32m---> 13\u001b[0;31m \u001b[0mturtle\u001b[0m\u001b[0;34m.\u001b[0m\u001b[0mbye\u001b[0m\u001b[0;34m(\u001b[0m\u001b[0;34m)\u001b[0m\u001b[0;34m\u001b[0m\u001b[0m\n\u001b[0m",
      "\u001b[0;32m~/anaconda3/lib/python3.6/turtle.py\u001b[0m in \u001b[0;36mbye\u001b[0;34m()\u001b[0m\n",
      "\u001b[0;31mTerminator\u001b[0m: "
     ]
    }
   ],
   "source": [
    "import turtle\n",
    "\n",
    "t = turtle.Pen()\n",
    "\n",
    "t.fd(50)\n",
    "t.left(90)\n",
    "t.color('red')\n",
    "t.fd(50)\n",
    "t.left(90)\n",
    "\n",
    "turtle.exitonclick()\n",
    "turtle.bye()"
   ]
  },
  {
   "cell_type": "code",
   "execution_count": 1,
   "metadata": {},
   "outputs": [
    {
     "ename": "Terminator",
     "evalue": "",
     "output_type": "error",
     "traceback": [
      "\u001b[0;31m---------------------------------------------------------------------------\u001b[0m",
      "\u001b[0;31mTerminator\u001b[0m                                Traceback (most recent call last)",
      "\u001b[0;32m<ipython-input-1-037f33d9811d>\u001b[0m in \u001b[0;36m<module>\u001b[0;34m()\u001b[0m\n\u001b[1;32m     10\u001b[0m \u001b[0;34m\u001b[0m\u001b[0m\n\u001b[1;32m     11\u001b[0m \u001b[0mturtle\u001b[0m\u001b[0;34m.\u001b[0m\u001b[0mexitonclick\u001b[0m\u001b[0;34m(\u001b[0m\u001b[0;34m)\u001b[0m\u001b[0;34m\u001b[0m\u001b[0m\n\u001b[0;32m---> 12\u001b[0;31m \u001b[0mturtle\u001b[0m\u001b[0;34m.\u001b[0m\u001b[0mbye\u001b[0m\u001b[0;34m(\u001b[0m\u001b[0;34m)\u001b[0m\u001b[0;34m\u001b[0m\u001b[0m\n\u001b[0m",
      "\u001b[0;32m~/anaconda3/lib/python3.6/turtle.py\u001b[0m in \u001b[0;36mbye\u001b[0;34m()\u001b[0m\n",
      "\u001b[0;31mTerminator\u001b[0m: "
     ]
    }
   ],
   "source": [
    "import turtle\n",
    "\n",
    "myturtle = turtle.Turtle()\n",
    "\n",
    "myturtle.fd(50)\n",
    "myturtle.left(90)\n",
    "myturtle.color('red')\n",
    "myturtle.fd(50)\n",
    "myturtle.left(90)\n",
    "\n",
    "turtle.exitonclick()\n",
    "turtle.bye()"
   ]
  },
  {
   "cell_type": "code",
   "execution_count": 6,
   "metadata": {},
   "outputs": [
    {
     "ename": "Terminator",
     "evalue": "",
     "output_type": "error",
     "traceback": [
      "\u001b[0;31m---------------------------------------------------------------------------\u001b[0m",
      "\u001b[0;31mTerminator\u001b[0m                                Traceback (most recent call last)",
      "\u001b[0;32m<ipython-input-6-5612543cb0d3>\u001b[0m in \u001b[0;36m<module>\u001b[0;34m()\u001b[0m\n\u001b[1;32m     17\u001b[0m \u001b[0;34m\u001b[0m\u001b[0m\n\u001b[1;32m     18\u001b[0m \u001b[0mturtle\u001b[0m\u001b[0;34m.\u001b[0m\u001b[0mexitonclick\u001b[0m\u001b[0;34m(\u001b[0m\u001b[0;34m)\u001b[0m\u001b[0;34m\u001b[0m\u001b[0m\n\u001b[0;32m---> 19\u001b[0;31m \u001b[0mturtle\u001b[0m\u001b[0;34m.\u001b[0m\u001b[0mbye\u001b[0m\u001b[0;34m(\u001b[0m\u001b[0;34m)\u001b[0m\u001b[0;34m\u001b[0m\u001b[0m\n\u001b[0m",
      "\u001b[0;32m~/anaconda3/lib/python3.6/turtle.py\u001b[0m in \u001b[0;36mbye\u001b[0;34m()\u001b[0m\n",
      "\u001b[0;31mTerminator\u001b[0m: "
     ]
    }
   ],
   "source": [
    "# two turtle\n",
    "\n",
    "import turtle\n",
    "\n",
    "t1 = turtle.Turtle()\n",
    "\n",
    "t1.speed('slow')\n",
    "t1.fd(50)\n",
    "t1.left(90)\n",
    "t1.color('red')\n",
    "t1.fd(50)\n",
    "t1.left(90)\n",
    "\n",
    "t2 = turtle.Turtle()\n",
    "\n",
    "t1.speed('slow')\n",
    "t2.left(90)\n",
    "t2.fd(70)\n",
    "\n",
    "turtle.exitonclick()\n",
    "turtle.bye()"
   ]
  },
  {
   "cell_type": "code",
   "execution_count": 8,
   "metadata": {},
   "outputs": [
    {
     "ename": "Terminator",
     "evalue": "",
     "output_type": "error",
     "traceback": [
      "\u001b[0;31m---------------------------------------------------------------------------\u001b[0m",
      "\u001b[0;31mTerminator\u001b[0m                                Traceback (most recent call last)",
      "\u001b[0;32m<ipython-input-8-813cd200f172>\u001b[0m in \u001b[0;36m<module>\u001b[0;34m()\u001b[0m\n\u001b[1;32m     20\u001b[0m \u001b[0;34m\u001b[0m\u001b[0m\n\u001b[1;32m     21\u001b[0m \u001b[0mturtle\u001b[0m\u001b[0;34m.\u001b[0m\u001b[0mexitonclick\u001b[0m\u001b[0;34m(\u001b[0m\u001b[0;34m)\u001b[0m\u001b[0;34m\u001b[0m\u001b[0m\n\u001b[0;32m---> 22\u001b[0;31m \u001b[0mturtle\u001b[0m\u001b[0;34m.\u001b[0m\u001b[0mbye\u001b[0m\u001b[0;34m(\u001b[0m\u001b[0;34m)\u001b[0m\u001b[0;34m\u001b[0m\u001b[0m\n\u001b[0m",
      "\u001b[0;32m~/anaconda3/lib/python3.6/turtle.py\u001b[0m in \u001b[0;36mbye\u001b[0;34m()\u001b[0m\n",
      "\u001b[0;31mTerminator\u001b[0m: "
     ]
    }
   ],
   "source": [
    "# two turtle -2\n",
    "\n",
    "import turtle\n",
    "\n",
    "t1 = turtle.Turtle()\n",
    "t2 = turtle.Turtle()\n",
    "\n",
    "t1.speed('slow')\n",
    "t1.fd(50)\n",
    "t1.left(90)\n",
    "\n",
    "t2.speed('slow')\n",
    "t2.left(90)\n",
    "\n",
    "t1.color('red')\n",
    "t1.fd(50)\n",
    "t1.left(90)\n",
    "\n",
    "t2.fd(70)\n",
    "\n",
    "turtle.exitonclick()\n",
    "turtle.bye()"
   ]
  },
  {
   "cell_type": "code",
   "execution_count": 4,
   "metadata": {},
   "outputs": [
    {
     "ename": "Terminator",
     "evalue": "",
     "output_type": "error",
     "traceback": [
      "\u001b[0;31m---------------------------------------------------------------------------\u001b[0m",
      "\u001b[0;31mTerminator\u001b[0m                                Traceback (most recent call last)",
      "\u001b[0;32m<ipython-input-4-bda8f183c6b2>\u001b[0m in \u001b[0;36m<module>\u001b[0;34m()\u001b[0m\n\u001b[1;32m     15\u001b[0m \u001b[0;34m\u001b[0m\u001b[0m\n\u001b[1;32m     16\u001b[0m \u001b[0mturtle\u001b[0m\u001b[0;34m.\u001b[0m\u001b[0mexitonclick\u001b[0m\u001b[0;34m(\u001b[0m\u001b[0;34m)\u001b[0m\u001b[0;34m\u001b[0m\u001b[0m\n\u001b[0;32m---> 17\u001b[0;31m \u001b[0mturtle\u001b[0m\u001b[0;34m.\u001b[0m\u001b[0mbye\u001b[0m\u001b[0;34m(\u001b[0m\u001b[0;34m)\u001b[0m\u001b[0;34m\u001b[0m\u001b[0m\n\u001b[0m",
      "\u001b[0;32m~/anaconda3/lib/python3.6/turtle.py\u001b[0m in \u001b[0;36mbye\u001b[0;34m()\u001b[0m\n",
      "\u001b[0;31mTerminator\u001b[0m: "
     ]
    }
   ],
   "source": [
    "# two turtle -3 \n",
    "import turtle\n",
    "\n",
    "t1 = turtle.Turtle()\n",
    "t2 = turtle.Turtle()\n",
    "\n",
    "t1.shape('turtle')\n",
    "t1.color('red')\n",
    "t1.fd(50)\n",
    "\n",
    "t2.shape('turtle')\n",
    "t2.color('blue')\n",
    "t2.left(90)\n",
    "t2.fd(70)\n",
    "\n",
    "turtle.exitonclick()\n",
    "turtle.bye()"
   ]
  },
  {
   "cell_type": "code",
   "execution_count": 2,
   "metadata": {
    "scrolled": false
   },
   "outputs": [
    {
     "ename": "Terminator",
     "evalue": "",
     "output_type": "error",
     "traceback": [
      "\u001b[0;31m---------------------------------------------------------------------------\u001b[0m",
      "\u001b[0;31mTerminator\u001b[0m                                Traceback (most recent call last)",
      "\u001b[0;32m<ipython-input-2-91b08c58a5b1>\u001b[0m in \u001b[0;36m<module>\u001b[0;34m()\u001b[0m\n\u001b[1;32m     36\u001b[0m \u001b[0;34m\u001b[0m\u001b[0m\n\u001b[1;32m     37\u001b[0m \u001b[0mturtle\u001b[0m\u001b[0;34m.\u001b[0m\u001b[0mexitonclick\u001b[0m\u001b[0;34m(\u001b[0m\u001b[0;34m)\u001b[0m\u001b[0;34m\u001b[0m\u001b[0m\n\u001b[0;32m---> 38\u001b[0;31m \u001b[0mturtle\u001b[0m\u001b[0;34m.\u001b[0m\u001b[0mbye\u001b[0m\u001b[0;34m(\u001b[0m\u001b[0;34m)\u001b[0m\u001b[0;34m\u001b[0m\u001b[0m\n\u001b[0m",
      "\u001b[0;32m~/anaconda3/lib/python3.6/turtle.py\u001b[0m in \u001b[0;36mbye\u001b[0;34m()\u001b[0m\n",
      "\u001b[0;31mTerminator\u001b[0m: "
     ]
    }
   ],
   "source": [
    "# try OOP \n",
    "\n",
    "import turtle\n",
    "\n",
    "class Turtle2(turtle.Turtle):\n",
    "    def function_new(self):\n",
    "        self.shape('turtle')\n",
    "        self.color('red')\n",
    "        self.fd(10)\n",
    "        self.shape('circle')\n",
    "        self.color('black')\n",
    "        \n",
    "    \n",
    "t1 = turtle.Turtle()\n",
    "t2 = turtle.Turtle()\n",
    "\n",
    "t1.speed('slow')\n",
    "t1.fd(50)\n",
    "t1.left(90)\n",
    "\n",
    "t2.speed('slow')\n",
    "t2.left(90)\n",
    "\n",
    "t1.color('red')\n",
    "t1.fd(50)\n",
    "t1.left(90)\n",
    "\n",
    "t2.fd(70)\n",
    "\n",
    "\n",
    "t3 = Turtle2()\n",
    "\n",
    "t3.left(180)\n",
    "t3.fd(30)\n",
    "t3.function_new()\n",
    "\n",
    "turtle.exitonclick()\n",
    "turtle.bye()"
   ]
  },
  {
   "cell_type": "code",
   "execution_count": 1,
   "metadata": {
    "scrolled": false
   },
   "outputs": [
    {
     "ename": "Terminator",
     "evalue": "",
     "output_type": "error",
     "traceback": [
      "\u001b[0;31m---------------------------------------------------------------------------\u001b[0m",
      "\u001b[0;31mTerminator\u001b[0m                                Traceback (most recent call last)",
      "\u001b[0;32m<ipython-input-1-bf3f262d1f1d>\u001b[0m in \u001b[0;36m<module>\u001b[0;34m()\u001b[0m\n\u001b[1;32m     34\u001b[0m \u001b[0;34m\u001b[0m\u001b[0m\n\u001b[1;32m     35\u001b[0m \u001b[0mturtle\u001b[0m\u001b[0;34m.\u001b[0m\u001b[0mexitonclick\u001b[0m\u001b[0;34m(\u001b[0m\u001b[0;34m)\u001b[0m\u001b[0;34m\u001b[0m\u001b[0m\n\u001b[0;32m---> 36\u001b[0;31m \u001b[0mturtle\u001b[0m\u001b[0;34m.\u001b[0m\u001b[0mbye\u001b[0m\u001b[0;34m(\u001b[0m\u001b[0;34m)\u001b[0m\u001b[0;34m\u001b[0m\u001b[0m\n\u001b[0m",
      "\u001b[0;32m~/anaconda3/lib/python3.6/turtle.py\u001b[0m in \u001b[0;36mbye\u001b[0;34m()\u001b[0m\n",
      "\u001b[0;31mTerminator\u001b[0m: "
     ]
    }
   ],
   "source": [
    "# try OOP - test \n",
    "\n",
    "import turtle\n",
    "          \n",
    "t1 = turtle.Turtle()\n",
    "t2 = turtle.Turtle()\n",
    "\n",
    "t1.speed('slow')\n",
    "t1.fd(50)\n",
    "t1.left(90)\n",
    "\n",
    "t2.speed('slow')\n",
    "t2.left(90)\n",
    "\n",
    "t1.color('red')\n",
    "t1.fd(50)\n",
    "t1.left(90)\n",
    "\n",
    "t2.fd(70)\n",
    "\n",
    "class Turtle2(turtle.Turtle):\n",
    "    def function_new(self):\n",
    "        self.shape('turtle')\n",
    "        self.color('red')\n",
    "        self.fd(10)\n",
    "        self.shape('circle')\n",
    "        self.color('black')\n",
    "\n",
    "t3 = Turtle2()\n",
    "\n",
    "t3.left(180)\n",
    "t3.fd(30)\n",
    "t3.function_new()\n",
    "\n",
    "turtle.exitonclick()\n",
    "turtle.bye()"
   ]
  },
  {
   "cell_type": "code",
   "execution_count": 3,
   "metadata": {
    "scrolled": false
   },
   "outputs": [
    {
     "ename": "AttributeError",
     "evalue": "'Turtle2' object has no attribute 'screen'",
     "output_type": "error",
     "traceback": [
      "\u001b[0;31m---------------------------------------------------------------------------\u001b[0m",
      "\u001b[0;31mAttributeError\u001b[0m                            Traceback (most recent call last)",
      "\u001b[0;32m<ipython-input-3-60accdd988fb>\u001b[0m in \u001b[0;36m<module>\u001b[0;34m()\u001b[0m\n\u001b[1;32m     32\u001b[0m \u001b[0;34m\u001b[0m\u001b[0m\n\u001b[1;32m     33\u001b[0m \u001b[0;34m\u001b[0m\u001b[0m\n\u001b[0;32m---> 34\u001b[0;31m \u001b[0mt3\u001b[0m \u001b[0;34m=\u001b[0m \u001b[0mTurtle2\u001b[0m\u001b[0;34m(\u001b[0m\u001b[0;34m)\u001b[0m\u001b[0;34m\u001b[0m\u001b[0m\n\u001b[0m\u001b[1;32m     35\u001b[0m \u001b[0;34m\u001b[0m\u001b[0m\n\u001b[1;32m     36\u001b[0m \u001b[0mt3\u001b[0m\u001b[0;34m.\u001b[0m\u001b[0mfunction_new\u001b[0m\u001b[0;34m(\u001b[0m\u001b[0;34m)\u001b[0m\u001b[0;34m\u001b[0m\u001b[0m\n",
      "\u001b[0;32m<ipython-input-3-60accdd988fb>\u001b[0m in \u001b[0;36m__init__\u001b[0;34m(self)\u001b[0m\n\u001b[1;32m      5\u001b[0m     \u001b[0;32mdef\u001b[0m \u001b[0m__init__\u001b[0m\u001b[0;34m(\u001b[0m\u001b[0mself\u001b[0m\u001b[0;34m)\u001b[0m\u001b[0;34m:\u001b[0m\u001b[0;34m\u001b[0m\u001b[0m\n\u001b[1;32m      6\u001b[0m \u001b[0;31m#         super().__init__()\u001b[0m\u001b[0;34m\u001b[0m\u001b[0;34m\u001b[0m\u001b[0m\n\u001b[0;32m----> 7\u001b[0;31m         \u001b[0mself\u001b[0m\u001b[0;34m.\u001b[0m\u001b[0mcolor\u001b[0m\u001b[0;34m(\u001b[0m\u001b[0;34m'red'\u001b[0m\u001b[0;34m)\u001b[0m\u001b[0;34m\u001b[0m\u001b[0m\n\u001b[0m\u001b[1;32m      8\u001b[0m         \u001b[0mself\u001b[0m\u001b[0;34m.\u001b[0m\u001b[0mleft\u001b[0m\u001b[0;34m(\u001b[0m\u001b[0;36m180\u001b[0m\u001b[0;34m)\u001b[0m\u001b[0;34m\u001b[0m\u001b[0m\n\u001b[1;32m      9\u001b[0m         \u001b[0mself\u001b[0m\u001b[0;34m.\u001b[0m\u001b[0mfd\u001b[0m\u001b[0;34m(\u001b[0m\u001b[0;36m30\u001b[0m\u001b[0;34m)\u001b[0m\u001b[0;34m\u001b[0m\u001b[0m\n",
      "\u001b[0;32m~/anaconda3/lib/python3.6/turtle.py\u001b[0m in \u001b[0;36mcolor\u001b[0;34m(self, *args)\u001b[0m\n\u001b[1;32m   2214\u001b[0m             \u001b[0;32melif\u001b[0m \u001b[0ml\u001b[0m \u001b[0;34m==\u001b[0m \u001b[0;36m3\u001b[0m\u001b[0;34m:\u001b[0m\u001b[0;34m\u001b[0m\u001b[0m\n\u001b[1;32m   2215\u001b[0m                 \u001b[0mpcolor\u001b[0m \u001b[0;34m=\u001b[0m \u001b[0mfcolor\u001b[0m \u001b[0;34m=\u001b[0m \u001b[0margs\u001b[0m\u001b[0;34m\u001b[0m\u001b[0m\n\u001b[0;32m-> 2216\u001b[0;31m             \u001b[0mpcolor\u001b[0m \u001b[0;34m=\u001b[0m \u001b[0mself\u001b[0m\u001b[0;34m.\u001b[0m\u001b[0m_colorstr\u001b[0m\u001b[0;34m(\u001b[0m\u001b[0mpcolor\u001b[0m\u001b[0;34m)\u001b[0m\u001b[0;34m\u001b[0m\u001b[0m\n\u001b[0m\u001b[1;32m   2217\u001b[0m             \u001b[0mfcolor\u001b[0m \u001b[0;34m=\u001b[0m \u001b[0mself\u001b[0m\u001b[0;34m.\u001b[0m\u001b[0m_colorstr\u001b[0m\u001b[0;34m(\u001b[0m\u001b[0mfcolor\u001b[0m\u001b[0;34m)\u001b[0m\u001b[0;34m\u001b[0m\u001b[0m\n\u001b[1;32m   2218\u001b[0m             \u001b[0mself\u001b[0m\u001b[0;34m.\u001b[0m\u001b[0mpen\u001b[0m\u001b[0;34m(\u001b[0m\u001b[0mpencolor\u001b[0m\u001b[0;34m=\u001b[0m\u001b[0mpcolor\u001b[0m\u001b[0;34m,\u001b[0m \u001b[0mfillcolor\u001b[0m\u001b[0;34m=\u001b[0m\u001b[0mfcolor\u001b[0m\u001b[0;34m)\u001b[0m\u001b[0;34m\u001b[0m\u001b[0m\n",
      "\u001b[0;32m~/anaconda3/lib/python3.6/turtle.py\u001b[0m in \u001b[0;36m_colorstr\u001b[0;34m(self, args)\u001b[0m\n\u001b[1;32m   2694\u001b[0m \u001b[0;34m\u001b[0m\u001b[0m\n\u001b[1;32m   2695\u001b[0m     \u001b[0;32mdef\u001b[0m \u001b[0m_colorstr\u001b[0m\u001b[0;34m(\u001b[0m\u001b[0mself\u001b[0m\u001b[0;34m,\u001b[0m \u001b[0margs\u001b[0m\u001b[0;34m)\u001b[0m\u001b[0;34m:\u001b[0m\u001b[0;34m\u001b[0m\u001b[0m\n\u001b[0;32m-> 2696\u001b[0;31m         \u001b[0;32mreturn\u001b[0m \u001b[0mself\u001b[0m\u001b[0;34m.\u001b[0m\u001b[0mscreen\u001b[0m\u001b[0;34m.\u001b[0m\u001b[0m_colorstr\u001b[0m\u001b[0;34m(\u001b[0m\u001b[0margs\u001b[0m\u001b[0;34m)\u001b[0m\u001b[0;34m\u001b[0m\u001b[0m\n\u001b[0m\u001b[1;32m   2697\u001b[0m \u001b[0;34m\u001b[0m\u001b[0m\n\u001b[1;32m   2698\u001b[0m     \u001b[0;32mdef\u001b[0m \u001b[0m_cc\u001b[0m\u001b[0;34m(\u001b[0m\u001b[0mself\u001b[0m\u001b[0;34m,\u001b[0m \u001b[0margs\u001b[0m\u001b[0;34m)\u001b[0m\u001b[0;34m:\u001b[0m\u001b[0;34m\u001b[0m\u001b[0m\n",
      "\u001b[0;31mAttributeError\u001b[0m: 'Turtle2' object has no attribute 'screen'"
     ]
    }
   ],
   "source": [
    "# try OOP -2\n",
    "import turtle\n",
    "\n",
    "class Turtle2(turtle.Turtle):\n",
    "    def __init__(self):\n",
    "        super().__init__()\n",
    "        self.color('red')\n",
    "        self.left(180)\n",
    "        self.fd(30)\n",
    "    def function_new(self):\n",
    "        self.shape('turtle')\n",
    "        self.color('blue')\n",
    "        self.fd(10)\n",
    "        self.color('black')\n",
    "        \n",
    "    \n",
    "t1 = turtle.Turtle()\n",
    "t2 = turtle.Turtle()\n",
    "\n",
    "t1.speed('slow')\n",
    "t1.fd(50)\n",
    "t1.left(90)\n",
    "\n",
    "t2.speed('slow')\n",
    "t2.left(90)\n",
    "\n",
    "t1.color('red')\n",
    "t1.fd(50)\n",
    "t1.left(90)\n",
    "\n",
    "t2.fd(70)\n",
    "\n",
    "\n",
    "t3 = Turtle2()\n",
    "\n",
    "t3.function_new()\n",
    "\n",
    "\n",
    "\n",
    "turtle.exitonclick()\n",
    "turtle.bye()"
   ]
  },
  {
   "cell_type": "code",
   "execution_count": null,
   "metadata": {},
   "outputs": [],
   "source": [
    "import turtle\n",
    "from turtle import *\n",
    "\n",
    "myturtle = turtle.Turtle()\n",
    "\n",
    "myturtle.fd(50)\n",
    "myturtle.left(90)\n",
    "myturtle.color('red')\n",
    "myturtle.fd(50)\n",
    "myturtle.left(90)\n",
    "\n",
    "screen = turtle.Screen()\n",
    "\n",
    "screen.exitonclick()\n",
    "turtle.bye()"
   ]
  },
  {
   "cell_type": "code",
   "execution_count": 1,
   "metadata": {},
   "outputs": [],
   "source": [
    "from turtle import Turtle, Screen\n",
    "\n",
    "myturtle = Turtle()\n",
    "\n",
    "myturtle.fd(50)\n",
    "myturtle.left(90)\n",
    "myturtle.color('red')\n",
    "myturtle.fd(50)\n",
    "myturtle.left(90)\n",
    "\n",
    "screen = Screen()\n",
    "\n",
    "screen.exitonclick()"
   ]
  },
  {
   "cell_type": "code",
   "execution_count": null,
   "metadata": {},
   "outputs": [],
   "source": [
    "import turtle\n",
    "import tkinter as TK\n",
    "\n",
    "t = turtle.Pen()\n",
    "for x in range(100):\n",
    "    t.forward(x)\n",
    "    t.left(90)\n",
    "\n",
    "TK.mainloop()"
   ]
  },
  {
   "cell_type": "markdown",
   "metadata": {},
   "source": [
    "## OOP"
   ]
  },
  {
   "cell_type": "code",
   "execution_count": 1,
   "metadata": {},
   "outputs": [],
   "source": [
    "from turtle import Turtle, Screen\n",
    "\n",
    "class Invader(Turtle):\n",
    "    def __init__(self, speed, position):\n",
    "        super().__init__(shape='circle', visible=False)\n",
    "        self.color('red')\n",
    "        self.penup()\n",
    "        self.setposition(position)\n",
    "        self.speed(speed)\n",
    "        self.showturtle()\n",
    "\n",
    "    def change_speed(self, newSpeed):\n",
    "        self.speed(newSpeed)\n",
    "\n",
    "    def change_position(self, x, y):\n",
    "        self.setposition(x, y)\n",
    "\n",
    "invader = Invader('slowest', (100, 100))\n",
    "\n",
    "invader.change_position(-100, -100)\n",
    "\n",
    "invader.change_speed('fastest')\n",
    "\n",
    "invader.pendown()  # try an original turtle method\n",
    "\n",
    "invader.change_position(100, -100)\n",
    "\n",
    "screen = Screen()\n",
    "\n",
    "screen.exitonclick()"
   ]
  },
  {
   "cell_type": "code",
   "execution_count": 2,
   "metadata": {},
   "outputs": [
    {
     "ename": "Terminator",
     "evalue": "",
     "output_type": "error",
     "traceback": [
      "\u001b[0;31m---------------------------------------------------------------------------\u001b[0m",
      "\u001b[0;31mTerminator\u001b[0m                                Traceback (most recent call last)",
      "\u001b[0;32m<ipython-input-2-ea056bb71b34>\u001b[0m in \u001b[0;36m<module>\u001b[0;34m()\u001b[0m\n\u001b[1;32m     30\u001b[0m \u001b[0;34m\u001b[0m\u001b[0m\n\u001b[1;32m     31\u001b[0m \u001b[0mscreen\u001b[0m\u001b[0;34m.\u001b[0m\u001b[0mexitonclick\u001b[0m\u001b[0;34m(\u001b[0m\u001b[0;34m)\u001b[0m\u001b[0;34m\u001b[0m\u001b[0m\n\u001b[0;32m---> 32\u001b[0;31m \u001b[0mturtle\u001b[0m\u001b[0;34m.\u001b[0m\u001b[0mbye\u001b[0m\u001b[0;34m(\u001b[0m\u001b[0;34m)\u001b[0m\u001b[0;34m\u001b[0m\u001b[0m\n\u001b[0m",
      "\u001b[0;32m~/anaconda3/lib/python3.6/turtle.py\u001b[0m in \u001b[0;36mbye\u001b[0;34m()\u001b[0m\n",
      "\u001b[0;31mTerminator\u001b[0m: "
     ]
    }
   ],
   "source": [
    "# test \n",
    "import turtle\n",
    "\n",
    "class Invader(turtle.Turtle):\n",
    "    def __init__(self, speed, position):\n",
    "        super().__init__(shape='circle', visible=False)\n",
    "        self.color('red')\n",
    "        self.penup()\n",
    "        self.setposition(position)\n",
    "        self.speed(speed)\n",
    "        self.showturtle()\n",
    "\n",
    "    def change_speed(self, newSpeed):\n",
    "        self.speed(newSpeed)\n",
    "\n",
    "    def change_position(self, x, y):\n",
    "        self.setposition(x, y)\n",
    "\n",
    "invader = Invader('slowest', (100, 100))\n",
    "\n",
    "invader.change_position(-100, -100)\n",
    "\n",
    "invader.change_speed('fastest')\n",
    "\n",
    "invader.pendown()  # try an original turtle method\n",
    "\n",
    "invader.change_position(100, -100)\n",
    "\n",
    "screen = turtle.Screen()\n",
    "\n",
    "screen.exitonclick()\n",
    "turtle.bye()"
   ]
  }
 ],
 "metadata": {
  "kernelspec": {
   "display_name": "Python 3",
   "language": "python",
   "name": "python3"
  },
  "language_info": {
   "codemirror_mode": {
    "name": "ipython",
    "version": 3
   },
   "file_extension": ".py",
   "mimetype": "text/x-python",
   "name": "python",
   "nbconvert_exporter": "python",
   "pygments_lexer": "ipython3",
   "version": "3.6.4"
  }
 },
 "nbformat": 4,
 "nbformat_minor": 2
}

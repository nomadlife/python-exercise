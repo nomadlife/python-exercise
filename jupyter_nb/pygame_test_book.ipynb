{
 "cells": [
  {
   "cell_type": "code",
   "execution_count": null,
   "metadata": {},
   "outputs": [],
   "source": [
    "# from book\n",
    "import pygame, sys\n",
    "from pygame.locals import *\n",
    "pygame.init()\n",
    "\n",
    "screen = pygame.display.set_mode((400,300))\n",
    "pygame.display.set_caption(\"Hello World\")\n",
    "\n",
    "while True:\n",
    "    sys_font = pygame.font.SysFont(\"None\", 19)\n",
    "    rendered = sys_font.render('Hello World',0, (255,100,100))\n",
    "    screen.blit(rendered, (100,100))\n",
    "    for event in pygame.event.get():\n",
    "        if event.type == QUIT:\n",
    "            pygame.quit()\n",
    "            sys.exit()\n",
    "    pygame.display.update()"
   ]
  },
  {
   "cell_type": "code",
   "execution_count": null,
   "metadata": {},
   "outputs": [],
   "source": [
    "# from book -simple\n",
    "import pygame, sys\n",
    "from pygame.locals import *\n",
    "pygame.init()\n",
    "\n",
    "screen = pygame.display.set_mode((400,300))\n",
    "pygame.display.set_caption(\"Hello World\")\n",
    "\n",
    "while True:\n",
    "    sys_font = pygame.font.SysFont(\"None\", 19)\n",
    "    rendered = sys_font.render('Hello World',0, (255,100,100))\n",
    "    screen.blit(rendered, (100,100))\n",
    "    for event in pygame.event.get():\n",
    "        if event.type == QUIT:\n",
    "            pygame.quit()\n",
    "            sys.exit()\n",
    "    pygame.display.update()"
   ]
  },
  {
   "cell_type": "code",
   "execution_count": null,
   "metadata": {},
   "outputs": [],
   "source": [
    "import pygame, sys\n",
    "from pygame.locals import *\n",
    "import numpy\n",
    "\n",
    "pygame.init()\n",
    "screen = pygame.display.set_mode((400, 400))\n",
    "pygame.display.set_caption('Drawing with Pygame')\n",
    "colors = numpy.random.randint(0, 255, size=(4, 3))\n",
    "WHITE = (255, 255, 255)\n",
    "\n",
    "#Make screen white\n",
    "screen.fill(WHITE)\n",
    "#Circle in the center of the window\n",
    "pygame.draw.circle(screen, colors[0], (200,200), 25, 0)\n",
    "# Half diagonal from the upper-left corner to the center\n",
    "pygame.draw.line(screen, colors[1], (0, 0),(200, 200), 3)\n",
    "pygame.draw.rect(screen, colors[2], (200, 0,100, 100))\n",
    "pygame.draw.ellipse(screen, colors[3], (100,300, 100, 50), 2)\n",
    "while True:\n",
    "    for event in pygame.event.get():\n",
    "        if event.type == QUIT:\n",
    "            pygame.quit()\n",
    "            sys.exit()\n",
    "    pygame.display.update()"
   ]
  }
 ],
 "metadata": {
  "kernelspec": {
   "display_name": "Python 3",
   "language": "python",
   "name": "python3"
  },
  "language_info": {
   "codemirror_mode": {
    "name": "ipython",
    "version": 3
   },
   "file_extension": ".py",
   "mimetype": "text/x-python",
   "name": "python",
   "nbconvert_exporter": "python",
   "pygments_lexer": "ipython3",
   "version": "3.6.4"
  }
 },
 "nbformat": 4,
 "nbformat_minor": 2
}

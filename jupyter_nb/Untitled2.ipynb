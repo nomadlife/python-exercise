{
 "cells": [
  {
   "cell_type": "markdown",
   "metadata": {},
   "source": [
    "# Algorithm - Search"
   ]
  },
  {
   "cell_type": "code",
   "execution_count": 6,
   "metadata": {},
   "outputs": [],
   "source": [
    "def linearSearchUnsorted(self, arr, size, value):\n",
    "    i = 0\n",
    "    while i < size:\n",
    "        if value == arr[i]:\n",
    "            return True\n",
    "        i += 1\n",
    "    return False"
   ]
  },
  {
   "cell_type": "code",
   "execution_count": 4,
   "metadata": {
    "collapsed": true
   },
   "outputs": [],
   "source": [
    "def linearSearchSorted(self, arr, size, value):\n",
    "    i = 0\n",
    "    while i < size:\n",
    "        if value == arr[i]:\n",
    "            return True\n",
    "        elif value < arr[i]:\n",
    "            return False\n",
    "        i += 1\n",
    "    return False"
   ]
  },
  {
   "cell_type": "code",
   "execution_count": 3,
   "metadata": {
    "collapsed": true
   },
   "outputs": [],
   "source": [
    "# Binary Search Algorithm - Iterative Way\n",
    "def Binarysearch(self, arr, size, value):\n",
    "    low = 0\n",
    "    high = size - 1\n",
    "    while low <= high:\n",
    "        mid = low + (high - low) / 2 # To avoid overflow\n",
    "        if arr[mid] == value:\n",
    "            return True\n",
    "        elif arr[mid] < value:\n",
    "            low = mid + 1\n",
    "        else:\n",
    "            high = mid - 1\n",
    "    return False"
   ]
  },
  {
   "cell_type": "code",
   "execution_count": 2,
   "metadata": {
    "collapsed": true
   },
   "outputs": [],
   "source": [
    "# Binary Search Algorithm - Recursive Way\n",
    "def BinarySearchRecursive(self, arr, value):\n",
    "    return self.BinarySearchRecursiveUtil(arr, 0,\n",
    "len(arr) - 1, value)\n",
    "def BinarySearchRecursiveUtil(self, arr, low, high, value):\n",
    "    if low > high:\n",
    "        return False\n",
    "    mid = low + (high - low) / 2 # To avoid overflow\n",
    "    if arr[mid] == value:\n",
    "        return True\n",
    "    elif arr[mid] < value:\n",
    "        return self.BinarySearchRecursiveUtil(arr, mid + 1, high, value)\n",
    "    else:\n",
    "        return self.BinarySearchRecursiveUtil(arr, low, mid - 1, value)"
   ]
  },
  {
   "cell_type": "code",
   "execution_count": 9,
   "metadata": {},
   "outputs": [],
   "source": [
    "def printRepeating(self, arr):\n",
    "    size = len(arr)\n",
    "    i = 0\n",
    "    print(\" Repeating elements :: \")\n",
    "    while i < size:\n",
    "        j = i + 1\n",
    "        while j < size:\n",
    "            if arr[i] == arr[j]:\n",
    "                print(arr[i],)\n",
    "            j += 1\n",
    "        i += 1"
   ]
  },
  {
   "cell_type": "code",
   "execution_count": null,
   "metadata": {
    "collapsed": true
   },
   "outputs": [],
   "source": [
    "def printRepeating2(self, arr):\n",
    "size = len(arr)\n",
    "i = 0\n",
    "arr.sort()\n",
    "print \" Repeating elements are :: \",\n",
    "while i < size:\n",
    "if arr[i] == arr[i - 1]:\n",
    "print arr[i],\n",
    "i += 1"
   ]
  },
  {
   "cell_type": "code",
   "execution_count": 3,
   "metadata": {},
   "outputs": [
    {
     "name": "stdout",
     "output_type": "stream",
     "text": [
      "1 0.3333333333333333\n",
      "2 0.6666666666666666\n",
      "3 1.0\n",
      "4 1.3333333333333333\n",
      "5 1.6666666666666667\n",
      "6 2.0\n",
      "7 2.3333333333333335\n",
      "8 2.6666666666666665\n",
      "9 3.0\n",
      "1 -2 5\n",
      "2 -1 6\n",
      "3 0 7\n",
      "4 1 8\n",
      "5 2 9\n",
      "6 3 10\n",
      "7 4 11\n",
      "8 5 12\n",
      "9 6 13\n"
     ]
    }
   ],
   "source": [
    "#a,b,c,d,e\n",
    "#d=b+4\n",
    "#c=b-3\n",
    "#a=3*e\n",
    "find=False;\n",
    "for i in range(1,10):\n",
    "    a=i\n",
    "    e=a/3\n",
    "    print(a,e)\n",
    "for j in range(1,10):\n",
    "    b=j\n",
    "    d=b+4\n",
    "    c=b-3\n",
    "    print(b,c,d)\n",
    "    "
   ]
  }
 ],
 "metadata": {
  "kernelspec": {
   "display_name": "Python 3",
   "language": "python",
   "name": "python3"
  },
  "language_info": {
   "codemirror_mode": {
    "name": "ipython",
    "version": 3
   },
   "file_extension": ".py",
   "mimetype": "text/x-python",
   "name": "python",
   "nbconvert_exporter": "python",
   "pygments_lexer": "ipython3",
   "version": "3.6.3"
  }
 },
 "nbformat": 4,
 "nbformat_minor": 2
}

{
 "cells": [
  {
   "cell_type": "code",
   "execution_count": 3,
   "metadata": {},
   "outputs": [
    {
     "name": "stdout",
     "output_type": "stream",
     "text": [
      "1 0.3333333333333333\n",
      "2 0.6666666666666666\n",
      "3 1.0\n",
      "4 1.3333333333333333\n",
      "5 1.6666666666666667\n",
      "6 2.0\n",
      "7 2.3333333333333335\n",
      "8 2.6666666666666665\n",
      "9 3.0\n",
      "1 -2 5\n",
      "2 -1 6\n",
      "3 0 7\n",
      "4 1 8\n",
      "5 2 9\n",
      "6 3 10\n",
      "7 4 11\n",
      "8 5 12\n",
      "9 6 13\n"
     ]
    }
   ],
   "source": [
    "#a,b,c,d,e\n",
    "#d=b+4\n",
    "#c=b-3\n",
    "#a=3*e\n",
    "find=False;\n",
    "for i in range(1,10):\n",
    "    a=i\n",
    "    e=a/3\n",
    "    print(a,e)\n",
    "for j in range(1,10):\n",
    "    b=j\n",
    "    d=b+4\n",
    "    c=b-3\n",
    "    print(b,c,d)\n",
    "    "
   ]
  }
 ],
 "metadata": {
  "kernelspec": {
   "display_name": "Python 3",
   "language": "python",
   "name": "python3"
  },
  "language_info": {
   "codemirror_mode": {
    "name": "ipython",
    "version": 3
   },
   "file_extension": ".py",
   "mimetype": "text/x-python",
   "name": "python",
   "nbconvert_exporter": "python",
   "pygments_lexer": "ipython3",
   "version": "3.6.2"
  }
 },
 "nbformat": 4,
 "nbformat_minor": 2
}

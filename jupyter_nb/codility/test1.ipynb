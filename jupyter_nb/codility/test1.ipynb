{
 "cells": [
  {
   "cell_type": "code",
   "execution_count": null,
   "metadata": {},
   "outputs": [],
   "source": [
    "# [1..2,147,483,647]\n"
   ]
  },
  {
   "cell_type": "code",
   "execution_count": 3,
   "metadata": {},
   "outputs": [
    {
     "data": {
      "text/plain": [
       "97"
      ]
     },
     "execution_count": 3,
     "metadata": {},
     "output_type": "execute_result"
    }
   ],
   "source": [
    "ord('a')"
   ]
  },
  {
   "cell_type": "code",
   "execution_count": 4,
   "metadata": {},
   "outputs": [
    {
     "data": {
      "text/plain": [
       "'0b1010'"
      ]
     },
     "execution_count": 4,
     "metadata": {},
     "output_type": "execute_result"
    }
   ],
   "source": [
    "bin(10)"
   ]
  },
  {
   "cell_type": "code",
   "execution_count": 6,
   "metadata": {},
   "outputs": [
    {
     "data": {
      "text/plain": [
       "'1010'"
      ]
     },
     "execution_count": 6,
     "metadata": {},
     "output_type": "execute_result"
    }
   ],
   "source": [
    "bin(10)[2:]"
   ]
  },
  {
   "cell_type": "code",
   "execution_count": 7,
   "metadata": {},
   "outputs": [
    {
     "data": {
      "text/plain": [
       "'1010'"
      ]
     },
     "execution_count": 7,
     "metadata": {},
     "output_type": "execute_result"
    }
   ],
   "source": [
    "'{0:b}'.format(10)"
   ]
  },
  {
   "cell_type": "code",
   "execution_count": 8,
   "metadata": {},
   "outputs": [
    {
     "data": {
      "text/plain": [
       "'1010'"
      ]
     },
     "execution_count": 8,
     "metadata": {},
     "output_type": "execute_result"
    }
   ],
   "source": [
    "f'{10:b}'"
   ]
  },
  {
   "cell_type": "code",
   "execution_count": 12,
   "metadata": {},
   "outputs": [
    {
     "name": "stdout",
     "output_type": "stream",
     "text": [
      "1 10 11 100 101 110 111 1000 1001 "
     ]
    }
   ],
   "source": [
    "for i in range(1,10):\n",
    "    print(f'{i:b}',end=' ')"
   ]
  },
  {
   "cell_type": "code",
   "execution_count": 13,
   "metadata": {},
   "outputs": [
    {
     "name": "stdout",
     "output_type": "stream",
     "text": [
      "1 10 11 100 101 110 111 1000 1001 "
     ]
    }
   ],
   "source": [
    "for i in range(1,10):\n",
    "    print(bin(i)[2:],end=' ')"
   ]
  },
  {
   "cell_type": "code",
   "execution_count": 23,
   "metadata": {},
   "outputs": [
    {
     "name": "stdout",
     "output_type": "stream",
     "text": [
      "0 0 0\n",
      "1 1 0\n",
      "2 10 0\n",
      "3 11 0\n",
      "4 100 0\n",
      "5 101 1\n",
      "6 110 0\n",
      "7 111 0\n",
      "8 1000 0\n",
      "9 1001 2\n",
      "10 1010 1\n",
      "11 1011 1\n",
      "12 1100 0\n",
      "13 1101 1\n",
      "14 1110 0\n",
      "15 1111 0\n",
      "16 10000 0\n",
      "17 10001 3\n",
      "18 10010 2\n",
      "19 10011 2\n",
      "20 10100 1\n",
      "21 10101 1\n",
      "22 10110 1\n",
      "23 10111 1\n",
      "24 11000 0\n",
      "25 11001 2\n",
      "26 11010 1\n",
      "27 11011 1\n",
      "28 11100 0\n",
      "29 11101 1\n",
      "30 11110 0\n",
      "31 11111 0\n",
      "32 100000 0\n",
      "33 100001 4\n",
      "34 100010 3\n",
      "35 100011 3\n",
      "36 100100 2\n",
      "37 100101 2\n",
      "38 100110 2\n",
      "39 100111 2\n",
      "40 101000 1\n",
      "41 101001 2\n",
      "42 101010 1\n",
      "43 101011 1\n",
      "44 101100 1\n",
      "45 101101 1\n",
      "46 101110 1\n",
      "47 101111 1\n",
      "48 110000 0\n",
      "49 110001 3\n",
      "50 110010 2\n",
      "51 110011 2\n",
      "52 110100 1\n",
      "53 110101 1\n",
      "54 110110 1\n",
      "55 110111 1\n",
      "56 111000 0\n",
      "57 111001 2\n",
      "58 111010 1\n",
      "59 111011 1\n",
      "60 111100 0\n",
      "61 111101 1\n",
      "62 111110 0\n",
      "63 111111 0\n",
      "64 1000000 0\n",
      "65 1000001 5\n",
      "66 1000010 4\n",
      "67 1000011 4\n",
      "68 1000100 3\n",
      "69 1000101 3\n",
      "70 1000110 3\n",
      "71 1000111 3\n",
      "72 1001000 2\n",
      "73 1001001 2\n",
      "74 1001010 2\n",
      "75 1001011 2\n",
      "76 1001100 2\n",
      "77 1001101 2\n",
      "78 1001110 2\n",
      "79 1001111 2\n",
      "80 1010000 1\n",
      "81 1010001 3\n",
      "82 1010010 2\n",
      "83 1010011 2\n",
      "84 1010100 1\n",
      "85 1010101 1\n",
      "86 1010110 1\n",
      "87 1010111 1\n",
      "88 1011000 1\n",
      "89 1011001 2\n",
      "90 1011010 1\n",
      "91 1011011 1\n",
      "92 1011100 1\n",
      "93 1011101 1\n",
      "94 1011110 1\n",
      "95 1011111 1\n",
      "96 1100000 0\n",
      "97 1100001 4\n",
      "98 1100010 3\n",
      "99 1100011 3\n"
     ]
    }
   ],
   "source": [
    "maxCount=0\n",
    "for i in range(100):\n",
    "    temp_count=0\n",
    "    count=0\n",
    "    string = bin(i)[2:]\n",
    "    for k,v in enumerate(string):\n",
    "        if v=='1': \n",
    "            if count!=0 and count>temp_count:\n",
    "                temp_count = count\n",
    "            count=0\n",
    "        elif v=='0':\n",
    "            count+=1\n",
    "    print(i,string, temp_count)"
   ]
  },
  {
   "cell_type": "code",
   "execution_count": 22,
   "metadata": {},
   "outputs": [
    {
     "data": {
      "text/plain": [
       "5"
      ]
     },
     "execution_count": 22,
     "metadata": {},
     "output_type": "execute_result"
    }
   ],
   "source": [
    "max_count=0\n",
    "for i in range(100):\n",
    "    temp_count=0\n",
    "    count=0\n",
    "    string = bin(i)[2:]\n",
    "    for k,v in enumerate(string):\n",
    "        if v=='1': \n",
    "            if count!=0 and count>temp_count:\n",
    "                temp_count = count\n",
    "            count=0\n",
    "        elif v=='0':\n",
    "            count+=1\n",
    "    if temp_count>max_count:\n",
    "        max_count = temp_count\n",
    "max_count"
   ]
  },
  {
   "cell_type": "code",
   "execution_count": 26,
   "metadata": {},
   "outputs": [
    {
     "data": {
      "text/plain": [
       "18"
      ]
     },
     "execution_count": 26,
     "metadata": {},
     "output_type": "execute_result"
    }
   ],
   "source": [
    "max_count=0\n",
    "for i in range(1000000):\n",
    "    temp_count=0\n",
    "    count=0\n",
    "    string = bin(i)[2:]\n",
    "    for k,v in enumerate(string):\n",
    "        if v=='1': \n",
    "            if count!=0 and count>temp_count:\n",
    "                temp_count = count\n",
    "            count=0\n",
    "        elif v=='0':\n",
    "            count+=1\n",
    "    if temp_count>max_count:\n",
    "        max_count = temp_count\n",
    "max_count"
   ]
  },
  {
   "cell_type": "code",
   "execution_count": 34,
   "metadata": {},
   "outputs": [
    {
     "name": "stdout",
     "output_type": "stream",
     "text": [
      "0, 0 0\n",
      "1, 1 0\n",
      "2, 01 0\n",
      "3, 11 0\n",
      "4, 001 0\n",
      "5, 101 0\n",
      "6, 011 0\n",
      "7, 111 0\n",
      "8, 0001 0\n",
      "9, 1001 0\n",
      "10, 0101 0\n",
      "11, 1101 0\n",
      "12, 0011 0\n",
      "13, 1011 0\n",
      "14, 0111 0\n",
      "15, 1111 0\n",
      "16, 00001 0\n",
      "17, 10001 0\n",
      "18, 01001 0\n",
      "19, 11001 0\n",
      "20, 00101 0\n",
      "21, 10101 0\n",
      "22, 01101 0\n",
      "23, 11101 0\n",
      "24, 00011 0\n",
      "25, 10011 0\n",
      "26, 01011 0\n",
      "27, 11011 0\n",
      "28, 00111 0\n",
      "29, 10111 0\n",
      "30, 01111 0\n",
      "31, 11111 0\n",
      "32, 000001 0\n",
      "33, 100001 0\n",
      "34, 010001 0\n",
      "35, 110001 0\n",
      "36, 001001 0\n",
      "37, 101001 0\n",
      "38, 011001 0\n",
      "39, 111001 0\n",
      "40, 000101 0\n",
      "41, 100101 0\n",
      "42, 010101 0\n",
      "43, 110101 0\n",
      "44, 001101 0\n",
      "45, 101101 0\n",
      "46, 011101 0\n",
      "47, 111101 0\n",
      "48, 000011 0\n",
      "49, 100011 0\n",
      "50, 010011 0\n",
      "51, 110011 0\n",
      "52, 001011 0\n",
      "53, 101011 0\n",
      "54, 011011 0\n",
      "55, 111011 0\n",
      "56, 000111 0\n",
      "57, 100111 0\n",
      "58, 010111 0\n",
      "59, 110111 0\n",
      "60, 001111 0\n",
      "61, 101111 0\n",
      "62, 011111 0\n",
      "63, 111111 0\n",
      "64, 0000001 0\n",
      "65, 1000001 0\n",
      "66, 0100001 0\n",
      "67, 1100001 0\n",
      "68, 0010001 0\n",
      "69, 1010001 0\n",
      "70, 0110001 0\n",
      "71, 1110001 0\n",
      "72, 0001001 0\n",
      "73, 1001001 0\n",
      "74, 0101001 0\n",
      "75, 1101001 0\n",
      "76, 0011001 0\n",
      "77, 1011001 0\n",
      "78, 0111001 0\n",
      "79, 1111001 0\n",
      "80, 0000101 0\n",
      "81, 1000101 0\n",
      "82, 0100101 0\n",
      "83, 1100101 0\n",
      "84, 0010101 0\n",
      "85, 1010101 0\n",
      "86, 0110101 0\n",
      "87, 1110101 0\n",
      "88, 0001101 0\n",
      "89, 1001101 0\n",
      "90, 0101101 0\n",
      "91, 1101101 0\n",
      "92, 0011101 0\n",
      "93, 1011101 0\n",
      "94, 0111101 0\n",
      "95, 1111101 0\n",
      "96, 0000011 0\n",
      "97, 1000011 0\n",
      "98, 0100011 0\n",
      "99, 1100011 0\n"
     ]
    }
   ],
   "source": [
    "max_cnt = 0\n",
    "for i in range(100):\n",
    "    print(i, end=', ')\n",
    "    temp_cnt = 0\n",
    "    cnt = 0\n",
    "    while i > 1:\n",
    "        r = i % 2\n",
    "        print(r, end='')\n",
    "        i = i//2\n",
    "    print(i, cnt)"
   ]
  },
  {
   "cell_type": "code",
   "execution_count": 44,
   "metadata": {},
   "outputs": [
    {
     "name": "stdout",
     "output_type": "stream",
     "text": [
      "0,   0\n",
      "1, 1  0\n",
      "2, 01  1\n",
      "3, 11  0\n",
      "4, 001  2\n",
      "5, 101  1\n",
      "6, 011  1\n",
      "7, 111  0\n",
      "8, 0001  3\n",
      "9, 1001  2\n",
      "10, 0101  1\n",
      "11, 1101  1\n",
      "12, 0011  2\n",
      "13, 1011  1\n",
      "14, 0111  1\n",
      "15, 1111  0\n",
      "16, 00001  4\n",
      "17, 10001  3\n",
      "18, 01001  2\n",
      "19, 11001  2\n",
      "20, 00101  2\n",
      "21, 10101  1\n",
      "22, 01101  1\n",
      "23, 11101  1\n",
      "24, 00011  3\n",
      "25, 10011  2\n",
      "26, 01011  1\n",
      "27, 11011  1\n",
      "28, 00111  2\n",
      "29, 10111  1\n",
      "30, 01111  1\n",
      "31, 11111  0\n",
      "32, 000001  5\n",
      "33, 100001  4\n",
      "34, 010001  3\n",
      "35, 110001  3\n",
      "36, 001001  2\n",
      "37, 101001  2\n",
      "38, 011001  2\n",
      "39, 111001  2\n",
      "40, 000101  3\n",
      "41, 100101  2\n",
      "42, 010101  1\n",
      "43, 110101  1\n",
      "44, 001101  2\n",
      "45, 101101  1\n",
      "46, 011101  1\n",
      "47, 111101  1\n",
      "48, 000011  4\n",
      "49, 100011  3\n",
      "50, 010011  2\n",
      "51, 110011  2\n",
      "52, 001011  2\n",
      "53, 101011  1\n",
      "54, 011011  1\n",
      "55, 111011  1\n",
      "56, 000111  3\n",
      "57, 100111  2\n",
      "58, 010111  1\n",
      "59, 110111  1\n",
      "60, 001111  2\n",
      "61, 101111  1\n",
      "62, 011111  1\n",
      "63, 111111  0\n",
      "64, 0000001  6\n",
      "65, 1000001  5\n",
      "66, 0100001  4\n",
      "67, 1100001  4\n",
      "68, 0010001  3\n",
      "69, 1010001  3\n",
      "70, 0110001  3\n",
      "71, 1110001  3\n",
      "72, 0001001  3\n",
      "73, 1001001  2\n",
      "74, 0101001  2\n",
      "75, 1101001  2\n",
      "76, 0011001  2\n",
      "77, 1011001  2\n",
      "78, 0111001  2\n",
      "79, 1111001  2\n",
      "80, 0000101  4\n",
      "81, 1000101  3\n",
      "82, 0100101  2\n",
      "83, 1100101  2\n",
      "84, 0010101  2\n",
      "85, 1010101  1\n",
      "86, 0110101  1\n",
      "87, 1110101  1\n",
      "88, 0001101  3\n",
      "89, 1001101  2\n",
      "90, 0101101  1\n",
      "91, 1101101  1\n",
      "92, 0011101  2\n",
      "93, 1011101  1\n",
      "94, 0111101  1\n",
      "95, 1111101  1\n",
      "96, 0000011  5\n",
      "97, 1000011  4\n",
      "98, 0100011  3\n",
      "99, 1100011  3\n"
     ]
    }
   ],
   "source": [
    "max_cnt = 0\n",
    "for i in range(100):\n",
    "    print(i, end=', ')\n",
    "    temp = 0\n",
    "    cnt = 0\n",
    "    while i >= 1:\n",
    "        r = i % 2\n",
    "        if r:\n",
    "            if cnt:\n",
    "                if cnt > temp:\n",
    "                    temp = cnt\n",
    "                cnt = 0\n",
    "        else:\n",
    "            cnt += 1\n",
    "        print(r, end='')\n",
    "        i = i//2\n",
    "    print(' ', temp)"
   ]
  },
  {
   "cell_type": "code",
   "execution_count": 16,
   "metadata": {},
   "outputs": [
    {
     "data": {
      "text/plain": [
       "'0b1111111111111111111111111111111'"
      ]
     },
     "execution_count": 16,
     "metadata": {},
     "output_type": "execute_result"
    }
   ],
   "source": [
    "bin(2147483647)"
   ]
  },
  {
   "cell_type": "code",
   "execution_count": 17,
   "metadata": {},
   "outputs": [
    {
     "data": {
      "text/plain": [
       "33"
      ]
     },
     "execution_count": 17,
     "metadata": {},
     "output_type": "execute_result"
    }
   ],
   "source": [
    "len(bin(2147483647))\n",
    "# 31 digit"
   ]
  },
  {
   "cell_type": "code",
   "execution_count": 18,
   "metadata": {},
   "outputs": [
    {
     "name": "stdout",
     "output_type": "stream",
     "text": [
      "1\n",
      "2\n",
      "4\n",
      "8\n",
      "16\n",
      "32\n",
      "64\n",
      "128\n",
      "256\n",
      "512\n",
      "1024\n",
      "2048\n",
      "4096\n",
      "8192\n",
      "16384\n",
      "32768\n",
      "65536\n",
      "131072\n",
      "262144\n",
      "524288\n",
      "1048576\n",
      "2097152\n",
      "4194304\n",
      "8388608\n",
      "16777216\n",
      "33554432\n",
      "67108864\n",
      "134217728\n",
      "268435456\n",
      "536870912\n",
      "1073741824\n"
     ]
    }
   ],
   "source": [
    "for i in range(31):\n",
    "    print(2**i)"
   ]
  }
 ],
 "metadata": {
  "kernelspec": {
   "display_name": "Python 3",
   "language": "python",
   "name": "python3"
  },
  "language_info": {
   "codemirror_mode": {
    "name": "ipython",
    "version": 3
   },
   "file_extension": ".py",
   "mimetype": "text/x-python",
   "name": "python",
   "nbconvert_exporter": "python",
   "pygments_lexer": "ipython3",
   "version": "3.6.4"
  }
 },
 "nbformat": 4,
 "nbformat_minor": 2
}

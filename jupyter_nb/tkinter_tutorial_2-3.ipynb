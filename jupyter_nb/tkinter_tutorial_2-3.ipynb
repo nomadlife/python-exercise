{
 "cells": [
  {
   "cell_type": "code",
   "execution_count": 2,
   "metadata": {
    "collapsed": false
   },
   "outputs": [],
   "source": [
    "# menu\n",
    "\n",
    "from tkinter import *\n",
    "from tkinter import messagebox\n",
    "from tkinter import ttk\n",
    "\n",
    "def quit_app():\n",
    "    root.quit()\n",
    "\n",
    "def show_about(event=None):\n",
    "    messagebox.showwarning(\n",
    "    \"About\",\n",
    "    \"This Awesome Program\"\n",
    "    )\n",
    "\n",
    "root =Tk()\n",
    "\n",
    "the_menu = Menu(root)\n",
    "\n",
    "file_menu = Menu(the_menu, tearoff=0)\n",
    "\n",
    "file_menu.add_command(label=\"Open\")\n",
    "file_menu.add_command(label=\"Save\")\n",
    "file_menu.add_separator()\n",
    "\n",
    "file_menu.add_command(label=\"Qiut\",command=quit_app())\n",
    "the_menu.add_cascade(label=\"File\", menu = file_menu)\n",
    "\n",
    "root.config(menu=the_menu)\n",
    "\n",
    "\n",
    "\n",
    "\n",
    "\n",
    "\n",
    "root.mainloop()"
   ]
  }
 ],
 "metadata": {
  "kernelspec": {
   "display_name": "Python 3",
   "language": "python",
   "name": "python3"
  },
  "language_info": {
   "codemirror_mode": {
    "name": "ipython",
    "version": 3
   },
   "file_extension": ".py",
   "mimetype": "text/x-python",
   "name": "python",
   "nbconvert_exporter": "python",
   "pygments_lexer": "ipython3",
   "version": "3.5.2"
  }
 },
 "nbformat": 4,
 "nbformat_minor": 0
}

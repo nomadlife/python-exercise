{
 "cells": [
  {
   "cell_type": "markdown",
   "metadata": {},
   "source": [
    "# Guess number - strike , ball\n"
   ]
  },
  {
   "cell_type": "code",
   "execution_count": null,
   "metadata": {
    "collapsed": true
   },
   "outputs": [],
   "source": [
    "#숫자맞추기 1 code\n",
    "\n",
    "import random\n",
    "number = random.randint(1,999)\n",
    "found = False\n",
    "\n",
    "while not found:\n",
    "    guess = eval(input(\"input number :\"))\n",
    "    if guess == number:\n",
    "        print(\"You got it\")\n",
    "        found = True\n",
    "    elif guess > number:\n",
    "        print(\"Guess lower!\")\n",
    "    else:\n",
    "        print(\"Guess higher!\")"
   ]
  },
  {
   "cell_type": "code",
   "execution_count": 4,
   "metadata": {},
   "outputs": [
    {
     "name": "stdout",
     "output_type": "stream",
     "text": [
      "733\n",
      "input number :500\n",
      "500\n",
      "Guess higher!\n",
      "input number :750\n",
      "750\n",
      "Guess lower!\n",
      "input number :733\n",
      "733\n",
      "You got it\n"
     ]
    }
   ],
   "source": [
    "#숫자를 문자로 바꾸고, 자릿수 0으로 채우기\n",
    "\n",
    "import random\n",
    "number = str(random.randint(1,999)).zfill(3) #변경\n",
    "print(number)  \n",
    "found = False\n",
    "\n",
    "while not found:\n",
    "    guess = input(\"input number :\").zfill(3)\n",
    "    print(guess)\n",
    "    if guess == number:\n",
    "        print(\"You got it\")\n",
    "        found = True\n",
    "    elif guess > number:\n",
    "        print(\"Guess lower!\")\n",
    "    else:\n",
    "        print(\"Guess higher!\")"
   ]
  },
  {
   "cell_type": "code",
   "execution_count": 2,
   "metadata": {},
   "outputs": [
    {
     "name": "stdout",
     "output_type": "stream",
     "text": [
      "input number :369\n",
      "369\n",
      "strike:0 ball:0\n",
      "input number :245\n",
      "245\n",
      "strike:1 ball:0\n",
      "input number :178\n",
      "178\n",
      "strike:1 ball:0\n",
      "input number :208\n",
      "208\n",
      "strike:1 ball:0\n",
      "input number :048\n",
      "048\n",
      "strike:0 ball:0\n",
      "input number :277\n",
      "277\n",
      "You got it\n"
     ]
    }
   ],
   "source": [
    "#strike, ball 판단\n",
    "\n",
    "import random\n",
    "number = str(random.randint(1,999)).zfill(3)\n",
    "#print(number)  \n",
    "found = False\n",
    "\n",
    "while not found:\n",
    "    guess = input(\"input number :\").zfill(3)\n",
    "    print(guess)\n",
    "    if guess == number:\n",
    "        print(\"You got it\")\n",
    "        found = True\n",
    "    else:\n",
    "        strike = 0\n",
    "        ball = 0\n",
    "        for i in range(3):\n",
    "            if guess[i] == number[i]:\n",
    "                strike += 1\n",
    "            elif guess[i] in number:\n",
    "                ball+=1\n",
    "        print(\"strike:{} ball:{}\".format(strike,ball))\n",
    "            \n",
    "        "
   ]
  },
  {
   "cell_type": "code",
   "execution_count": null,
   "metadata": {
    "collapsed": true
   },
   "outputs": [],
   "source": [
    "#strike, ball 판단 - upgrade (미완성)\n",
    "\n",
    "import random\n",
    "number = str(random.randint(1,999)).zfill(3)\n",
    "#print(number)  \n",
    "found = False\n",
    "\n",
    "while not found:\n",
    "    guess = input(\"input number :\").zfill(3)\n",
    "    print(guess)\n",
    "    if guess == number:\n",
    "        print(\"You got it\")\n",
    "        found = True\n",
    "    else:\n",
    "        strike = 0\n",
    "        ball = 0\n",
    "        for i in range(3):\n",
    "            if guess[i] == number[i]:\n",
    "                strike += 1\n",
    "            elif guess[i] in number:\n",
    "                ball+=1\n",
    "        print(\"strike:{} ball:{}\".format(strike,ball))\n",
    "            \n",
    "        "
   ]
  },
  {
   "cell_type": "code",
   "execution_count": 18,
   "metadata": {
    "scrolled": true
   },
   "outputs": [
    {
     "name": "stdout",
     "output_type": "stream",
     "text": [
      "resr\n",
      "rest\n",
      "rest\n",
      "es\n",
      "est\n"
     ]
    }
   ],
   "source": [
    "#연습 \n",
    "a=\"test\"\n",
    "print(a.replace('t','r'))\n",
    "print(a.replace('t','r',1))\n",
    "print(\"test\".replace('t','r',1))\n",
    "print(a.replace('t',''))\n",
    "print(a.replace('t','',1))"
   ]
  },
  {
   "cell_type": "code",
   "execution_count": 2,
   "metadata": {},
   "outputs": [
    {
     "name": "stdout",
     "output_type": "stream",
     "text": [
      "['t', 'e', 's', 't']\n",
      "None\n"
     ]
    }
   ],
   "source": [
    "#연습 \n",
    "aa=['t','e','s','t']\n",
    "print(aa)\n",
    "print(aa.remove('t'))"
   ]
  },
  {
   "cell_type": "code",
   "execution_count": 30,
   "metadata": {},
   "outputs": [
    {
     "name": "stdout",
     "output_type": "stream",
     "text": [
      "String test\n",
      "    string test     \n",
      "myString.count('s')\n",
      "2\n",
      "myString.count('s',2) with starting point\n",
      "1\n",
      "string1.find('t')\n",
      "4\n"
     ]
    }
   ],
   "source": [
    "#연습 \n",
    "#string Constants\n",
    "myString=\"string test\"\n",
    "print(myString.capitalize())\n",
    "print(myString.center(20))\n",
    "\n",
    "print(\"myString.count('s')\")\n",
    "print(myString.count('s'))\n",
    "print(\"myString.count('s',2) with starting point\")\n",
    "print(myString.count('s',2)) #with starting point\n",
    "\n",
    "string1=\"my string\"\n",
    "print(\"string1.find('t')\")\n",
    "print(string1.find('t'))"
   ]
  },
  {
   "cell_type": "code",
   "execution_count": 23,
   "metadata": {},
   "outputs": [
    {
     "name": "stdout",
     "output_type": "stream",
     "text": [
      "loop : 0\n",
      "c[i]==d[i] (strike) : True\n",
      "c[i] in d : True\n",
      "c.count(c[i]) : 2\n",
      "c.count(c[i])!=0 : True\n",
      "1\n",
      "\n",
      "loop : 1\n",
      "c[i]==d[i] (strike) : True\n",
      "c[i] in d : True\n",
      "c.count(c[i]) : 1\n",
      "c.count(c[i])!=0 : True\n",
      "0\n",
      "\n",
      "loop : 2\n",
      "c[i]==d[i] (strike) : False\n",
      "c[i] in d : False\n",
      "c.count(c[i]) : 1\n",
      "c.count(c[i])!=0 : True\n",
      "0\n",
      "\n",
      "loop : 3\n",
      "c[i]==d[i] (strike) : True\n",
      "c[i] in d : True\n",
      "c.count(c[i]) : 2\n",
      "c.count(c[i])!=0 : True\n",
      "1\n",
      "\n"
     ]
    }
   ],
   "source": [
    "#연습 \n",
    "c=\"test\";d=\"text\"\n",
    "for i in range(len(c)):\n",
    "    print(\"loop :\",i)\n",
    "    print(\"c[i]==d[i] (strike) :\",c[i]==d[i])\n",
    "    print(\"c[i] in d :\",c[i] in d)\n",
    "    print(\"c.count(c[i]) :\", c.count(c[i]))\n",
    "    print(\"c.count(c[i])!=0 :\",c.count(c[i])!=0)\n",
    "    print(d.count(c[i])-(c[i]==d[i]))\n",
    "    print()"
   ]
  }
 ],
 "metadata": {
  "kernelspec": {
   "display_name": "Python 3",
   "language": "python",
   "name": "python3"
  },
  "language_info": {
   "codemirror_mode": {
    "name": "ipython",
    "version": 3
   },
   "file_extension": ".py",
   "mimetype": "text/x-python",
   "name": "python",
   "nbconvert_exporter": "python",
   "pygments_lexer": "ipython3",
   "version": "3.5.1"
  }
 },
 "nbformat": 4,
 "nbformat_minor": 2
}
